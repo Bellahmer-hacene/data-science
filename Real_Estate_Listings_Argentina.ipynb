{
  "nbformat": 4,
  "nbformat_minor": 0,
  "metadata": {
    "colab": {
      "name": "Real Estate Listings Argentina",
      "provenance": [],
      "collapsed_sections": [],
      "authorship_tag": "ABX9TyMiPG8ZZgLQatfLIZfS3nO+",
      "include_colab_link": true
    },
    "kernelspec": {
      "name": "python3",
      "display_name": "Python 3"
    }
  },
  "cells": [
    {
      "cell_type": "markdown",
      "metadata": {
        "id": "view-in-github",
        "colab_type": "text"
      },
      "source": [
        "<a href=\"https://colab.research.google.com/github/Bellahmer-hacene/data-science/blob/master/Real_Estate_Listings_Argentina.ipynb\" target=\"_parent\"><img src=\"https://colab.research.google.com/assets/colab-badge.svg\" alt=\"Open In Colab\"/></a>"
      ]
    },
    {
      "cell_type": "markdown",
      "metadata": {
        "id": "5NA5tQ2igNmc",
        "colab_type": "text"
      },
      "source": [
        "# Dataset\n",
        "https://data.world/properati/real-estate-listings-argentina"
      ]
    },
    {
      "cell_type": "code",
      "metadata": {
        "id": "z_n6R2e6ldR1",
        "colab_type": "code",
        "outputId": "0a6d169a-f34c-445b-ee45-900a9a4b824a",
        "colab": {
          "base_uri": "https://localhost:8080/",
          "height": 73
        }
      },
      "source": [
        "import tensorflow as tf\n",
        "import pandas as pd\n",
        "import numpy as np\n",
        "import seaborn as sns\n",
        "import matplotlib.pyplot as plt\n",
        "from sklearn.model_selection import train_test_split\n",
        "from sklearn.preprocessing import MinMaxScaler\n",
        "from tensorflow.keras.models import Sequential\n",
        "from tensorflow.keras.layers import Dense, Activation,Dropout\n",
        "from tensorflow.keras.callbacks import EarlyStopping"
      ],
      "execution_count": 1,
      "outputs": [
        {
          "output_type": "stream",
          "text": [
            "/usr/local/lib/python3.6/dist-packages/statsmodels/tools/_testing.py:19: FutureWarning: pandas.util.testing is deprecated. Use the functions in the public API at pandas.testing instead.\n",
            "  import pandas.util.testing as tm\n"
          ],
          "name": "stderr"
        }
      ]
    },
    {
      "cell_type": "code",
      "metadata": {
        "id": "HCVegBHKlfuC",
        "colab_type": "code",
        "colab": {
          "base_uri": "https://localhost:8080/",
          "height": 73
        },
        "outputId": "87ad8918-5f45-424a-bfb9-c57caac635bb"
      },
      "source": [
        "df = pd.read_csv('https://query.data.world/s/rv6wwnpkczxomamscqqhcuyds5ltf6')"
      ],
      "execution_count": 2,
      "outputs": [
        {
          "output_type": "stream",
          "text": [
            "/usr/local/lib/python3.6/dist-packages/IPython/core/interactiveshell.py:2718: DtypeWarning: Columns (19) have mixed types.Specify dtype option on import or set low_memory=False.\n",
            "  interactivity=interactivity, compiler=compiler, result=result)\n"
          ],
          "name": "stderr"
        }
      ]
    },
    {
      "cell_type": "code",
      "metadata": {
        "id": "nisEdRNfAT7T",
        "colab_type": "code",
        "colab": {
          "base_uri": "https://localhost:8080/",
          "height": 487
        },
        "outputId": "5909fe7b-b8ac-4e2e-e3e2-5f66cfdb260a"
      },
      "source": [
        "df.head()"
      ],
      "execution_count": 3,
      "outputs": [
        {
          "output_type": "execute_result",
          "data": {
            "text/html": [
              "<div>\n",
              "<style scoped>\n",
              "    .dataframe tbody tr th:only-of-type {\n",
              "        vertical-align: middle;\n",
              "    }\n",
              "\n",
              "    .dataframe tbody tr th {\n",
              "        vertical-align: top;\n",
              "    }\n",
              "\n",
              "    .dataframe thead th {\n",
              "        text-align: right;\n",
              "    }\n",
              "</style>\n",
              "<table border=\"1\" class=\"dataframe\">\n",
              "  <thead>\n",
              "    <tr style=\"text-align: right;\">\n",
              "      <th></th>\n",
              "      <th>created_on</th>\n",
              "      <th>operation</th>\n",
              "      <th>property_type</th>\n",
              "      <th>place_name</th>\n",
              "      <th>place_with_parent_names</th>\n",
              "      <th>geonames_id</th>\n",
              "      <th>lat-lon</th>\n",
              "      <th>lat</th>\n",
              "      <th>lon</th>\n",
              "      <th>price</th>\n",
              "      <th>currency</th>\n",
              "      <th>price_aprox_local_currency</th>\n",
              "      <th>price_aprox_usd</th>\n",
              "      <th>surface_total_in_m2</th>\n",
              "      <th>surface_covered_in_m2</th>\n",
              "      <th>price_usd_per_m2</th>\n",
              "      <th>price_per_m2</th>\n",
              "      <th>floor</th>\n",
              "      <th>rooms</th>\n",
              "      <th>expenses</th>\n",
              "      <th>properati_url</th>\n",
              "      <th>description</th>\n",
              "      <th>title</th>\n",
              "      <th>image_thumbnail</th>\n",
              "    </tr>\n",
              "  </thead>\n",
              "  <tbody>\n",
              "    <tr>\n",
              "      <th>0</th>\n",
              "      <td>2012-09-19</td>\n",
              "      <td>sell</td>\n",
              "      <td>house</td>\n",
              "      <td>San Antonio De Padua</td>\n",
              "      <td>|Argentina|Bs.As. G.B.A. Zona Oeste|Merlo|San ...</td>\n",
              "      <td>3429244.0</td>\n",
              "      <td>-34.6566088,-58.8069107</td>\n",
              "      <td>-34.656609</td>\n",
              "      <td>-58.806911</td>\n",
              "      <td>120000.0</td>\n",
              "      <td>USD</td>\n",
              "      <td>1819488.0</td>\n",
              "      <td>120000.0</td>\n",
              "      <td>333.0</td>\n",
              "      <td>93.0</td>\n",
              "      <td>360.360360</td>\n",
              "      <td>1290.322581</td>\n",
              "      <td>NaN</td>\n",
              "      <td>NaN</td>\n",
              "      <td>NaN</td>\n",
              "      <td>http://san-antonio-de-padua.properati.com.ar/u...</td>\n",
              "      <td>CASA CON LOCAL EN VENTA EN PADUA.2 DORMITORIOS...</td>\n",
              "      <td>CASA EN VENTA</td>\n",
              "      <td>https://thumbs-cf.properati.com/4/aKcEetbJUfrn...</td>\n",
              "    </tr>\n",
              "    <tr>\n",
              "      <th>1</th>\n",
              "      <td>2012-10-10</td>\n",
              "      <td>sell</td>\n",
              "      <td>apartment</td>\n",
              "      <td>Villa Crespo</td>\n",
              "      <td>|Argentina|Capital Federal|Villa Crespo|</td>\n",
              "      <td>3427458.0</td>\n",
              "      <td>-34.6036844,-58.3815591</td>\n",
              "      <td>-34.603684</td>\n",
              "      <td>-58.381559</td>\n",
              "      <td>83000.0</td>\n",
              "      <td>USD</td>\n",
              "      <td>1258479.2</td>\n",
              "      <td>83000.0</td>\n",
              "      <td>40.0</td>\n",
              "      <td>40.0</td>\n",
              "      <td>2075.000000</td>\n",
              "      <td>2075.000000</td>\n",
              "      <td>1.0</td>\n",
              "      <td>2.0</td>\n",
              "      <td>300</td>\n",
              "      <td>http://villa-crespo.properati.com.ar/13tz_vent...</td>\n",
              "      <td>2 AMBIENTES, VENTA, VILLA CRESPO1ER PISO POR E...</td>\n",
              "      <td>DEPARTAMENTO EN VENTA</td>\n",
              "      <td>https://thumbs-cf.properati.com/8/ujkSk81S7fhu...</td>\n",
              "    </tr>\n",
              "    <tr>\n",
              "      <th>2</th>\n",
              "      <td>2012-10-22</td>\n",
              "      <td>sell</td>\n",
              "      <td>apartment</td>\n",
              "      <td>San Bernardo</td>\n",
              "      <td>|Argentina|Buenos Aires Costa Atlántica|San Be...</td>\n",
              "      <td>3429228.0</td>\n",
              "      <td>-36.6879204,-56.6780098</td>\n",
              "      <td>-36.687920</td>\n",
              "      <td>-56.678010</td>\n",
              "      <td>49000.0</td>\n",
              "      <td>USD</td>\n",
              "      <td>742957.6</td>\n",
              "      <td>49000.0</td>\n",
              "      <td>47.0</td>\n",
              "      <td>42.0</td>\n",
              "      <td>1042.553191</td>\n",
              "      <td>1166.666667</td>\n",
              "      <td>7.0</td>\n",
              "      <td>3.0</td>\n",
              "      <td>750</td>\n",
              "      <td>http://san-bernardo-buenos-aires-costa-atlanti...</td>\n",
              "      <td>Comodo departamento 3 ambientes ubicado en cal...</td>\n",
              "      <td>DEPARTAMENTO EN VENTA</td>\n",
              "      <td>https://thumbs-cf.properati.com/6/n5yiUwL9Gjw3...</td>\n",
              "    </tr>\n",
              "    <tr>\n",
              "      <th>3</th>\n",
              "      <td>2012-10-22</td>\n",
              "      <td>sell</td>\n",
              "      <td>house</td>\n",
              "      <td>Maschwitz</td>\n",
              "      <td>|Argentina|Bs.As. G.B.A. Zona Norte|Escobar|Ma...</td>\n",
              "      <td>NaN</td>\n",
              "      <td>-34.3938943878,-58.7683713751</td>\n",
              "      <td>-34.393894</td>\n",
              "      <td>-58.768371</td>\n",
              "      <td>200000.0</td>\n",
              "      <td>USD</td>\n",
              "      <td>3032480.0</td>\n",
              "      <td>200000.0</td>\n",
              "      <td>250.0</td>\n",
              "      <td>200.0</td>\n",
              "      <td>800.000000</td>\n",
              "      <td>1000.000000</td>\n",
              "      <td>NaN</td>\n",
              "      <td>4.0</td>\n",
              "      <td>NaN</td>\n",
              "      <td>http://maschwitz.properati.com.ar/1w41_venta_c...</td>\n",
              "      <td>MUY BUENA CASA DE 3/4 DORMITORIOS Y CASA DE HU...</td>\n",
              "      <td>CASA EN VENTA</td>\n",
              "      <td>https://thumbs-cf.properati.com/4/KbG2PtmxJCVy...</td>\n",
              "    </tr>\n",
              "    <tr>\n",
              "      <th>4</th>\n",
              "      <td>2012-10-22</td>\n",
              "      <td>sell</td>\n",
              "      <td>house</td>\n",
              "      <td>San Antonio De Padua</td>\n",
              "      <td>|Argentina|Bs.As. G.B.A. Zona Oeste|Merlo|San ...</td>\n",
              "      <td>3429244.0</td>\n",
              "      <td>-34.668175,-58.6996246</td>\n",
              "      <td>-34.668175</td>\n",
              "      <td>-58.699625</td>\n",
              "      <td>NaN</td>\n",
              "      <td>NaN</td>\n",
              "      <td>NaN</td>\n",
              "      <td>NaN</td>\n",
              "      <td>220.0</td>\n",
              "      <td>220.0</td>\n",
              "      <td>NaN</td>\n",
              "      <td>NaN</td>\n",
              "      <td>NaN</td>\n",
              "      <td>NaN</td>\n",
              "      <td>NaN</td>\n",
              "      <td>http://san-antonio-de-padua.properati.com.ar/2...</td>\n",
              "      <td>CHALET VENTA 4 AMBIENTES PADUA.EXCELENTE CHALE...</td>\n",
              "      <td>CASA EN VENTA</td>\n",
              "      <td>https://thumbs-cf.properati.com/7/3xCBy82O4-k1...</td>\n",
              "    </tr>\n",
              "  </tbody>\n",
              "</table>\n",
              "</div>"
            ],
            "text/plain": [
              "   created_on  ...                                    image_thumbnail\n",
              "0  2012-09-19  ...  https://thumbs-cf.properati.com/4/aKcEetbJUfrn...\n",
              "1  2012-10-10  ...  https://thumbs-cf.properati.com/8/ujkSk81S7fhu...\n",
              "2  2012-10-22  ...  https://thumbs-cf.properati.com/6/n5yiUwL9Gjw3...\n",
              "3  2012-10-22  ...  https://thumbs-cf.properati.com/4/KbG2PtmxJCVy...\n",
              "4  2012-10-22  ...  https://thumbs-cf.properati.com/7/3xCBy82O4-k1...\n",
              "\n",
              "[5 rows x 24 columns]"
            ]
          },
          "metadata": {
            "tags": []
          },
          "execution_count": 3
        }
      ]
    },
    {
      "cell_type": "code",
      "metadata": {
        "id": "Xq9XppgPAgvC",
        "colab_type": "code",
        "colab": {}
      },
      "source": [
        "df = df.drop('image_thumbnail',axis=1)\n",
        "df = df.drop('title',axis=1)\n",
        "df = df.drop('description',axis=1)\n",
        "df = df.drop('properati_url',axis=1)\n",
        "df = df.drop('place_with_parent_names',axis=1)"
      ],
      "execution_count": 0,
      "outputs": []
    },
    {
      "cell_type": "markdown",
      "metadata": {
        "id": "kJHX8cBEg36h",
        "colab_type": "text"
      },
      "source": [
        "#Les prix sont estimer on Dollars(USD) et Peso argentin(ARS)"
      ]
    },
    {
      "cell_type": "code",
      "metadata": {
        "id": "F0isGRkRlhWI",
        "colab_type": "code",
        "colab": {
          "base_uri": "https://localhost:8080/",
          "height": 72
        },
        "outputId": "36dfb1ca-e52a-425b-c0b7-0e44c41b78ff"
      },
      "source": [
        "df['currency'].value_counts()"
      ],
      "execution_count": 5,
      "outputs": [
        {
          "output_type": "execute_result",
          "data": {
            "text/plain": [
              "USD    112799\n",
              "ARS     10350\n",
              "Name: currency, dtype: int64"
            ]
          },
          "metadata": {
            "tags": []
          },
          "execution_count": 5
        }
      ]
    },
    {
      "cell_type": "markdown",
      "metadata": {
        "id": "4GRCgfxjhTMm",
        "colab_type": "text"
      },
      "source": [
        "#Ne garder que les estimation en Dollard (USD)"
      ]
    },
    {
      "cell_type": "code",
      "metadata": {
        "id": "GHIke8gQ7gPT",
        "colab_type": "code",
        "colab": {}
      },
      "source": [
        "indexNames = df[ df['currency'] == 'ARS' ].index\n",
        " \n",
        "df.drop(indexNames , inplace=True)\n",
        "df = df.drop('currency',axis=1)\n",
        "df = df.drop('price_aprox_local_currency',axis=1)\n",
        "df = df.drop('price_per_m2',axis=1)\n",
        "df = df.drop('price_aprox_usd',axis=1)\n",
        "df = df.drop('operation',axis=1)"
      ],
      "execution_count": 0,
      "outputs": []
    },
    {
      "cell_type": "markdown",
      "metadata": {
        "id": "7L-gxchYhiHr",
        "colab_type": "text"
      },
      "source": [
        "#données manquantes"
      ]
    },
    {
      "cell_type": "code",
      "metadata": {
        "id": "n6uxUAKC7vbn",
        "colab_type": "code",
        "colab": {
          "base_uri": "https://localhost:8080/",
          "height": 290
        },
        "outputId": "aaecedb2-a241-4e8b-cefd-90ea6880462a"
      },
      "source": [
        "100* df.isnull().sum()/len(df)"
      ],
      "execution_count": 7,
      "outputs": [
        {
          "output_type": "execute_result",
          "data": {
            "text/plain": [
              "created_on                0.000000\n",
              "property_type             0.000000\n",
              "place_name                0.016987\n",
              "geonames_id              15.408647\n",
              "lat-lon                  19.337804\n",
              "lat                      19.337804\n",
              "lon                      19.338543\n",
              "price                    16.686362\n",
              "surface_total_in_m2      35.691812\n",
              "surface_covered_in_m2    21.628089\n",
              "price_usd_per_m2         48.818299\n",
              "floor                    88.541190\n",
              "rooms                    43.915715\n",
              "expenses                 91.865463\n",
              "dtype: float64"
            ]
          },
          "metadata": {
            "tags": []
          },
          "execution_count": 7
        }
      ]
    },
    {
      "cell_type": "code",
      "metadata": {
        "id": "M6AwQlnJ7zfT",
        "colab_type": "code",
        "colab": {}
      },
      "source": [
        "df = df.drop('expenses',axis=1)\n",
        "df = df.drop('floor',axis=1)\n",
        "df = df[df['price'].notna()]\n",
        "df = df[df['rooms'].notna()]\n",
        "df = df[df['price_usd_per_m2'].notna()]\n",
        "df = df[df['lat'].notna()]\n",
        "df = df[df['surface_covered_in_m2'].notna()]\n",
        "df = df.drop('geonames_id',axis=1)\n",
        "df = df.drop('lat-lon',axis=1)"
      ],
      "execution_count": 0,
      "outputs": []
    },
    {
      "cell_type": "code",
      "metadata": {
        "id": "Yf80n248CPqR",
        "colab_type": "code",
        "colab": {
          "base_uri": "https://localhost:8080/",
          "height": 35
        },
        "outputId": "97641bd0-396f-42b3-b960-40d5b78bc527"
      },
      "source": [
        "len(df)"
      ],
      "execution_count": 9,
      "outputs": [
        {
          "output_type": "execute_result",
          "data": {
            "text/plain": [
              "31451"
            ]
          },
          "metadata": {
            "tags": []
          },
          "execution_count": 9
        }
      ]
    },
    {
      "cell_type": "markdown",
      "metadata": {
        "id": "BLV6BGfsqr62",
        "colab_type": "text"
      },
      "source": [
        "#Variables de catégorie"
      ]
    },
    {
      "cell_type": "code",
      "metadata": {
        "id": "opWxyqNm8PRN",
        "colab_type": "code",
        "colab": {
          "base_uri": "https://localhost:8080/",
          "height": 206
        },
        "outputId": "4f7fb177-e1ce-4aea-88c8-e1e3d0dfda91"
      },
      "source": [
        "df.head()"
      ],
      "execution_count": 10,
      "outputs": [
        {
          "output_type": "execute_result",
          "data": {
            "text/html": [
              "<div>\n",
              "<style scoped>\n",
              "    .dataframe tbody tr th:only-of-type {\n",
              "        vertical-align: middle;\n",
              "    }\n",
              "\n",
              "    .dataframe tbody tr th {\n",
              "        vertical-align: top;\n",
              "    }\n",
              "\n",
              "    .dataframe thead th {\n",
              "        text-align: right;\n",
              "    }\n",
              "</style>\n",
              "<table border=\"1\" class=\"dataframe\">\n",
              "  <thead>\n",
              "    <tr style=\"text-align: right;\">\n",
              "      <th></th>\n",
              "      <th>created_on</th>\n",
              "      <th>property_type</th>\n",
              "      <th>place_name</th>\n",
              "      <th>lat</th>\n",
              "      <th>lon</th>\n",
              "      <th>price</th>\n",
              "      <th>surface_total_in_m2</th>\n",
              "      <th>surface_covered_in_m2</th>\n",
              "      <th>price_usd_per_m2</th>\n",
              "      <th>rooms</th>\n",
              "    </tr>\n",
              "  </thead>\n",
              "  <tbody>\n",
              "    <tr>\n",
              "      <th>1</th>\n",
              "      <td>2012-10-10</td>\n",
              "      <td>apartment</td>\n",
              "      <td>Villa Crespo</td>\n",
              "      <td>-34.603684</td>\n",
              "      <td>-58.381559</td>\n",
              "      <td>83000.0</td>\n",
              "      <td>40.0</td>\n",
              "      <td>40.0</td>\n",
              "      <td>2075.000000</td>\n",
              "      <td>2.0</td>\n",
              "    </tr>\n",
              "    <tr>\n",
              "      <th>2</th>\n",
              "      <td>2012-10-22</td>\n",
              "      <td>apartment</td>\n",
              "      <td>San Bernardo</td>\n",
              "      <td>-36.687920</td>\n",
              "      <td>-56.678010</td>\n",
              "      <td>49000.0</td>\n",
              "      <td>47.0</td>\n",
              "      <td>42.0</td>\n",
              "      <td>1042.553191</td>\n",
              "      <td>3.0</td>\n",
              "    </tr>\n",
              "    <tr>\n",
              "      <th>3</th>\n",
              "      <td>2012-10-22</td>\n",
              "      <td>house</td>\n",
              "      <td>Maschwitz</td>\n",
              "      <td>-34.393894</td>\n",
              "      <td>-58.768371</td>\n",
              "      <td>200000.0</td>\n",
              "      <td>250.0</td>\n",
              "      <td>200.0</td>\n",
              "      <td>800.000000</td>\n",
              "      <td>4.0</td>\n",
              "    </tr>\n",
              "    <tr>\n",
              "      <th>9</th>\n",
              "      <td>2012-12-08</td>\n",
              "      <td>house</td>\n",
              "      <td>Mataderos</td>\n",
              "      <td>-34.654903</td>\n",
              "      <td>-58.488955</td>\n",
              "      <td>170000.0</td>\n",
              "      <td>300.0</td>\n",
              "      <td>103.0</td>\n",
              "      <td>566.666667</td>\n",
              "      <td>5.0</td>\n",
              "    </tr>\n",
              "    <tr>\n",
              "      <th>22</th>\n",
              "      <td>2013-01-22</td>\n",
              "      <td>apartment</td>\n",
              "      <td>Haedo</td>\n",
              "      <td>40.620948</td>\n",
              "      <td>-78.911851</td>\n",
              "      <td>100000.0</td>\n",
              "      <td>43.0</td>\n",
              "      <td>36.0</td>\n",
              "      <td>2325.581395</td>\n",
              "      <td>2.0</td>\n",
              "    </tr>\n",
              "  </tbody>\n",
              "</table>\n",
              "</div>"
            ],
            "text/plain": [
              "    created_on property_type  ... price_usd_per_m2  rooms\n",
              "1   2012-10-10     apartment  ...      2075.000000    2.0\n",
              "2   2012-10-22     apartment  ...      1042.553191    3.0\n",
              "3   2012-10-22         house  ...       800.000000    4.0\n",
              "9   2012-12-08         house  ...       566.666667    5.0\n",
              "22  2013-01-22     apartment  ...      2325.581395    2.0\n",
              "\n",
              "[5 rows x 10 columns]"
            ]
          },
          "metadata": {
            "tags": []
          },
          "execution_count": 10
        }
      ]
    },
    {
      "cell_type": "code",
      "metadata": {
        "id": "qTzUBZR181_6",
        "colab_type": "code",
        "colab": {
          "base_uri": "https://localhost:8080/",
          "height": 108
        },
        "outputId": "86e01ef9-d650-418f-94ae-08d981b702d4"
      },
      "source": [
        "df['property_type'].value_counts()"
      ],
      "execution_count": 11,
      "outputs": [
        {
          "output_type": "execute_result",
          "data": {
            "text/plain": [
              "apartment    19287\n",
              "house         9331\n",
              "PH            2636\n",
              "store          197\n",
              "Name: property_type, dtype: int64"
            ]
          },
          "metadata": {
            "tags": []
          },
          "execution_count": 11
        }
      ]
    },
    {
      "cell_type": "code",
      "metadata": {
        "id": "KCXkTFOu8hKX",
        "colab_type": "code",
        "colab": {}
      },
      "source": [
        "df = pd.concat([df,pd.get_dummies(df['property_type'],prefix=\"property_type\")],axis=1)\n",
        "df.drop('property_type', axis=1, inplace=True)"
      ],
      "execution_count": 0,
      "outputs": []
    },
    {
      "cell_type": "code",
      "metadata": {
        "id": "ozr5SEP49AlA",
        "colab_type": "code",
        "colab": {
          "base_uri": "https://localhost:8080/",
          "height": 243
        },
        "outputId": "85bf30ca-86ba-4122-c637-cfd932a704a5"
      },
      "source": [
        "df.head()"
      ],
      "execution_count": 13,
      "outputs": [
        {
          "output_type": "execute_result",
          "data": {
            "text/html": [
              "<div>\n",
              "<style scoped>\n",
              "    .dataframe tbody tr th:only-of-type {\n",
              "        vertical-align: middle;\n",
              "    }\n",
              "\n",
              "    .dataframe tbody tr th {\n",
              "        vertical-align: top;\n",
              "    }\n",
              "\n",
              "    .dataframe thead th {\n",
              "        text-align: right;\n",
              "    }\n",
              "</style>\n",
              "<table border=\"1\" class=\"dataframe\">\n",
              "  <thead>\n",
              "    <tr style=\"text-align: right;\">\n",
              "      <th></th>\n",
              "      <th>created_on</th>\n",
              "      <th>place_name</th>\n",
              "      <th>lat</th>\n",
              "      <th>lon</th>\n",
              "      <th>price</th>\n",
              "      <th>surface_total_in_m2</th>\n",
              "      <th>surface_covered_in_m2</th>\n",
              "      <th>price_usd_per_m2</th>\n",
              "      <th>rooms</th>\n",
              "      <th>property_type_PH</th>\n",
              "      <th>property_type_apartment</th>\n",
              "      <th>property_type_house</th>\n",
              "      <th>property_type_store</th>\n",
              "    </tr>\n",
              "  </thead>\n",
              "  <tbody>\n",
              "    <tr>\n",
              "      <th>1</th>\n",
              "      <td>2012-10-10</td>\n",
              "      <td>Villa Crespo</td>\n",
              "      <td>-34.603684</td>\n",
              "      <td>-58.381559</td>\n",
              "      <td>83000.0</td>\n",
              "      <td>40.0</td>\n",
              "      <td>40.0</td>\n",
              "      <td>2075.000000</td>\n",
              "      <td>2.0</td>\n",
              "      <td>0</td>\n",
              "      <td>1</td>\n",
              "      <td>0</td>\n",
              "      <td>0</td>\n",
              "    </tr>\n",
              "    <tr>\n",
              "      <th>2</th>\n",
              "      <td>2012-10-22</td>\n",
              "      <td>San Bernardo</td>\n",
              "      <td>-36.687920</td>\n",
              "      <td>-56.678010</td>\n",
              "      <td>49000.0</td>\n",
              "      <td>47.0</td>\n",
              "      <td>42.0</td>\n",
              "      <td>1042.553191</td>\n",
              "      <td>3.0</td>\n",
              "      <td>0</td>\n",
              "      <td>1</td>\n",
              "      <td>0</td>\n",
              "      <td>0</td>\n",
              "    </tr>\n",
              "    <tr>\n",
              "      <th>3</th>\n",
              "      <td>2012-10-22</td>\n",
              "      <td>Maschwitz</td>\n",
              "      <td>-34.393894</td>\n",
              "      <td>-58.768371</td>\n",
              "      <td>200000.0</td>\n",
              "      <td>250.0</td>\n",
              "      <td>200.0</td>\n",
              "      <td>800.000000</td>\n",
              "      <td>4.0</td>\n",
              "      <td>0</td>\n",
              "      <td>0</td>\n",
              "      <td>1</td>\n",
              "      <td>0</td>\n",
              "    </tr>\n",
              "    <tr>\n",
              "      <th>9</th>\n",
              "      <td>2012-12-08</td>\n",
              "      <td>Mataderos</td>\n",
              "      <td>-34.654903</td>\n",
              "      <td>-58.488955</td>\n",
              "      <td>170000.0</td>\n",
              "      <td>300.0</td>\n",
              "      <td>103.0</td>\n",
              "      <td>566.666667</td>\n",
              "      <td>5.0</td>\n",
              "      <td>0</td>\n",
              "      <td>0</td>\n",
              "      <td>1</td>\n",
              "      <td>0</td>\n",
              "    </tr>\n",
              "    <tr>\n",
              "      <th>22</th>\n",
              "      <td>2013-01-22</td>\n",
              "      <td>Haedo</td>\n",
              "      <td>40.620948</td>\n",
              "      <td>-78.911851</td>\n",
              "      <td>100000.0</td>\n",
              "      <td>43.0</td>\n",
              "      <td>36.0</td>\n",
              "      <td>2325.581395</td>\n",
              "      <td>2.0</td>\n",
              "      <td>0</td>\n",
              "      <td>1</td>\n",
              "      <td>0</td>\n",
              "      <td>0</td>\n",
              "    </tr>\n",
              "  </tbody>\n",
              "</table>\n",
              "</div>"
            ],
            "text/plain": [
              "    created_on    place_name  ...  property_type_house  property_type_store\n",
              "1   2012-10-10  Villa Crespo  ...                    0                    0\n",
              "2   2012-10-22  San Bernardo  ...                    0                    0\n",
              "3   2012-10-22     Maschwitz  ...                    1                    0\n",
              "9   2012-12-08     Mataderos  ...                    1                    0\n",
              "22  2013-01-22         Haedo  ...                    0                    0\n",
              "\n",
              "[5 rows x 13 columns]"
            ]
          },
          "metadata": {
            "tags": []
          },
          "execution_count": 13
        }
      ]
    },
    {
      "cell_type": "code",
      "metadata": {
        "id": "LLv47NNQ9aMe",
        "colab_type": "code",
        "colab": {
          "base_uri": "https://localhost:8080/",
          "height": 235
        },
        "outputId": "84cd26c6-d663-490f-f3ad-d31daecf17ba"
      },
      "source": [
        "df['place_name'].value_counts()"
      ],
      "execution_count": 14,
      "outputs": [
        {
          "output_type": "execute_result",
          "data": {
            "text/plain": [
              "Mar del Plata                     4082\n",
              "Punta del Este                    2287\n",
              "Palermo                           1067\n",
              "Belgrano                           977\n",
              "Montevideo                         837\n",
              "                                  ... \n",
              "Manuel Alberti                       1\n",
              "Manzanares                           1\n",
              "Barrio Privado El Recodo  S.A.       1\n",
              "Barrio Lagos del Golf 1              1\n",
              "General Alvarado                     1\n",
              "Name: place_name, Length: 558, dtype: int64"
            ]
          },
          "metadata": {
            "tags": []
          },
          "execution_count": 14
        }
      ]
    },
    {
      "cell_type": "code",
      "metadata": {
        "id": "kbtiwz4WACWA",
        "colab_type": "code",
        "colab": {
          "base_uri": "https://localhost:8080/",
          "height": 235
        },
        "outputId": "cf834fa6-c387-4a38-e10a-1151cbcd140c"
      },
      "source": [
        "df.corr()['price'].sort_values()"
      ],
      "execution_count": 15,
      "outputs": [
        {
          "output_type": "execute_result",
          "data": {
            "text/plain": [
              "property_type_apartment   -0.137444\n",
              "property_type_PH          -0.072158\n",
              "lat                        0.034295\n",
              "property_type_store        0.055202\n",
              "lon                        0.111980\n",
              "property_type_house        0.180774\n",
              "price_usd_per_m2           0.297584\n",
              "surface_total_in_m2        0.309192\n",
              "rooms                      0.359765\n",
              "surface_covered_in_m2      0.508136\n",
              "price                      1.000000\n",
              "Name: price, dtype: float64"
            ]
          },
          "metadata": {
            "tags": []
          },
          "execution_count": 15
        }
      ]
    },
    {
      "cell_type": "code",
      "metadata": {
        "id": "iT3V5vfVEtCB",
        "colab_type": "code",
        "colab": {}
      },
      "source": [
        "df2 = df"
      ],
      "execution_count": 0,
      "outputs": []
    },
    {
      "cell_type": "code",
      "metadata": {
        "id": "SMxYfHj8FEQH",
        "colab_type": "code",
        "colab": {}
      },
      "source": [
        "counts = df2['place_name'].value_counts()\n",
        "df2= df2[~df2['place_name'].isin(counts[counts < 100].index)]"
      ],
      "execution_count": 0,
      "outputs": []
    },
    {
      "cell_type": "code",
      "metadata": {
        "id": "UtUb_cWmGfZw",
        "colab_type": "code",
        "colab": {
          "base_uri": "https://localhost:8080/",
          "height": 235
        },
        "outputId": "664f5291-ebeb-4972-875d-0429802fda2c"
      },
      "source": [
        "df2['place_name'].value_counts()"
      ],
      "execution_count": 19,
      "outputs": [
        {
          "output_type": "execute_result",
          "data": {
            "text/plain": [
              "Mar del Plata           4082\n",
              "Punta del Este          2287\n",
              "Palermo                 1067\n",
              "Belgrano                 977\n",
              "Montevideo               837\n",
              "                        ... \n",
              "Martínez                 120\n",
              "San Cristobal            119\n",
              "Santos Lugares           116\n",
              "Floresta                 110\n",
              "San Antonio De Padua     102\n",
              "Name: place_name, Length: 62, dtype: int64"
            ]
          },
          "metadata": {
            "tags": []
          },
          "execution_count": 19
        }
      ]
    },
    {
      "cell_type": "code",
      "metadata": {
        "id": "hO8FrH3ZHnEG",
        "colab_type": "code",
        "colab": {
          "base_uri": "https://localhost:8080/",
          "height": 35
        },
        "outputId": "8be214e8-6543-421a-c06a-67b95e70e4c1"
      },
      "source": [
        "len(df2)"
      ],
      "execution_count": 20,
      "outputs": [
        {
          "output_type": "execute_result",
          "data": {
            "text/plain": [
              "25360"
            ]
          },
          "metadata": {
            "tags": []
          },
          "execution_count": 20
        }
      ]
    },
    {
      "cell_type": "code",
      "metadata": {
        "id": "vIWhr3mKHtYb",
        "colab_type": "code",
        "colab": {}
      },
      "source": [
        "df2 = pd.concat([df2,pd.get_dummies(df2['place_name'],prefix=\"place_name\")],axis=1)\n",
        "df2.drop('place_name', axis=1, inplace=True)"
      ],
      "execution_count": 0,
      "outputs": []
    },
    {
      "cell_type": "code",
      "metadata": {
        "id": "U0Mz9aWWH7My",
        "colab_type": "code",
        "colab": {
          "base_uri": "https://localhost:8080/",
          "height": 235
        },
        "outputId": "b5b23445-4bd7-4f3d-b9a9-429da0e6db0c"
      },
      "source": [
        "df2.corr()['price'].sort_values()"
      ],
      "execution_count": 22,
      "outputs": [
        {
          "output_type": "execute_result",
          "data": {
            "text/plain": [
              "property_type_apartment         -0.144899\n",
              "place_name_Mar del Plata        -0.119411\n",
              "property_type_PH                -0.066933\n",
              "place_name_Caseros              -0.054975\n",
              "place_name_General San Martín   -0.049949\n",
              "                                   ...   \n",
              "place_name_Punta del Este        0.319075\n",
              "surface_total_in_m2              0.336928\n",
              "rooms                            0.367983\n",
              "surface_covered_in_m2            0.584628\n",
              "price                            1.000000\n",
              "Name: price, Length: 73, dtype: float64"
            ]
          },
          "metadata": {
            "tags": []
          },
          "execution_count": 22
        }
      ]
    },
    {
      "cell_type": "code",
      "metadata": {
        "id": "1i0yV03AH-G2",
        "colab_type": "code",
        "colab": {}
      },
      "source": [
        "df = df2"
      ],
      "execution_count": 0,
      "outputs": []
    },
    {
      "cell_type": "code",
      "metadata": {
        "id": "w93qgUomJCYa",
        "colab_type": "code",
        "colab": {
          "base_uri": "https://localhost:8080/",
          "height": 526
        },
        "outputId": "78943256-017d-475b-e5e9-8d9d77ec0139"
      },
      "source": [
        "plt.figure(figsize=(12,8))\n",
        "sns.distplot(df['price'])"
      ],
      "execution_count": 24,
      "outputs": [
        {
          "output_type": "execute_result",
          "data": {
            "text/plain": [
              "<matplotlib.axes._subplots.AxesSubplot at 0x7fdffc570400>"
            ]
          },
          "metadata": {
            "tags": []
          },
          "execution_count": 24
        },
        {
          "output_type": "display_data",
          "data": {
            "image/png": "[encoded data removed]",
            "text/plain": [
              "<Figure size 864x576 with 1 Axes>"
            ]
          },
          "metadata": {
            "tags": []
          }
        }
      ]
    },
    {
      "cell_type": "code",
      "metadata": {
        "id": "YTg3i8kyJNta",
        "colab_type": "code",
        "colab": {
          "base_uri": "https://localhost:8080/",
          "height": 35
        },
        "outputId": "2a21b86e-7c1c-42ad-8da2-f618b25071d7"
      },
      "source": [
        "df['price'].mean()"
      ],
      "execution_count": 25,
      "outputs": [
        {
          "output_type": "execute_result",
          "data": {
            "text/plain": [
              "247578.8089511041"
            ]
          },
          "metadata": {
            "tags": []
          },
          "execution_count": 25
        }
      ]
    },
    {
      "cell_type": "code",
      "metadata": {
        "id": "2Irg2irzJgdD",
        "colab_type": "code",
        "colab": {
          "base_uri": "https://localhost:8080/",
          "height": 35
        },
        "outputId": "3c51a42c-7b33-41bc-ac92-dd4fe90b2bd4"
      },
      "source": [
        "df['price'].median()"
      ],
      "execution_count": 26,
      "outputs": [
        {
          "output_type": "execute_result",
          "data": {
            "text/plain": [
              "149000.0"
            ]
          },
          "metadata": {
            "tags": []
          },
          "execution_count": 26
        }
      ]
    },
    {
      "cell_type": "code",
      "metadata": {
        "id": "31ui6836JXhv",
        "colab_type": "code",
        "colab": {
          "base_uri": "https://localhost:8080/",
          "height": 261
        },
        "outputId": "c73dca0e-a276-442c-9dce-c3707b98014d"
      },
      "source": [
        "df.sort_values('price',ascending=False).head()"
      ],
      "execution_count": 27,
      "outputs": [
        {
          "output_type": "execute_result",
          "data": {
            "text/html": [
              "<div>\n",
              "<style scoped>\n",
              "    .dataframe tbody tr th:only-of-type {\n",
              "        vertical-align: middle;\n",
              "    }\n",
              "\n",
              "    .dataframe tbody tr th {\n",
              "        vertical-align: top;\n",
              "    }\n",
              "\n",
              "    .dataframe thead th {\n",
              "        text-align: right;\n",
              "    }\n",
              "</style>\n",
              "<table border=\"1\" class=\"dataframe\">\n",
              "  <thead>\n",
              "    <tr style=\"text-align: right;\">\n",
              "      <th></th>\n",
              "      <th>created_on</th>\n",
              "      <th>lat</th>\n",
              "      <th>lon</th>\n",
              "      <th>price</th>\n",
              "      <th>surface_total_in_m2</th>\n",
              "      <th>surface_covered_in_m2</th>\n",
              "      <th>price_usd_per_m2</th>\n",
              "      <th>rooms</th>\n",
              "      <th>property_type_PH</th>\n",
              "      <th>property_type_apartment</th>\n",
              "      <th>property_type_house</th>\n",
              "      <th>property_type_store</th>\n",
              "      <th>place_name_Almagro</th>\n",
              "      <th>place_name_Bahía Blanca</th>\n",
              "      <th>place_name_Balvanera</th>\n",
              "      <th>place_name_Banfield</th>\n",
              "      <th>place_name_Barracas</th>\n",
              "      <th>place_name_Barrio Norte</th>\n",
              "      <th>place_name_Belgrano</th>\n",
              "      <th>place_name_Boca</th>\n",
              "      <th>place_name_Caballito</th>\n",
              "      <th>place_name_Caseros</th>\n",
              "      <th>place_name_Castelar</th>\n",
              "      <th>place_name_Centro / Microcentro</th>\n",
              "      <th>place_name_Colegiales</th>\n",
              "      <th>place_name_Congreso</th>\n",
              "      <th>place_name_Córdoba</th>\n",
              "      <th>place_name_Escobar</th>\n",
              "      <th>place_name_Flores</th>\n",
              "      <th>place_name_Floresta</th>\n",
              "      <th>place_name_Florida</th>\n",
              "      <th>place_name_General San Martín</th>\n",
              "      <th>place_name_Haedo</th>\n",
              "      <th>place_name_Ituzaingó</th>\n",
              "      <th>place_name_La Matanza</th>\n",
              "      <th>place_name_La Plata</th>\n",
              "      <th>place_name_Lanús</th>\n",
              "      <th>place_name_Lomas de Zamora</th>\n",
              "      <th>place_name_Maldonado</th>\n",
              "      <th>place_name_Mar del Plata</th>\n",
              "      <th>place_name_Martínez</th>\n",
              "      <th>place_name_Mataderos</th>\n",
              "      <th>place_name_Monserrat</th>\n",
              "      <th>place_name_Montevideo</th>\n",
              "      <th>place_name_Morón</th>\n",
              "      <th>place_name_Nordelta</th>\n",
              "      <th>place_name_Nuñez</th>\n",
              "      <th>place_name_Olivos</th>\n",
              "      <th>place_name_Once</th>\n",
              "      <th>place_name_Palermo</th>\n",
              "      <th>place_name_Palermo Hollywood</th>\n",
              "      <th>place_name_Pilar</th>\n",
              "      <th>place_name_Pinamar</th>\n",
              "      <th>place_name_Puerto Madero</th>\n",
              "      <th>place_name_Punta del Este</th>\n",
              "      <th>place_name_Ramos Mejía</th>\n",
              "      <th>place_name_Recoleta</th>\n",
              "      <th>place_name_Saavedra</th>\n",
              "      <th>place_name_San Antonio De Padua</th>\n",
              "      <th>place_name_San Cristobal</th>\n",
              "      <th>place_name_San Fernando</th>\n",
              "      <th>place_name_San Isidro</th>\n",
              "      <th>place_name_San Justo</th>\n",
              "      <th>place_name_San Miguel</th>\n",
              "      <th>place_name_San Telmo</th>\n",
              "      <th>place_name_Santos Lugares</th>\n",
              "      <th>place_name_Tigre</th>\n",
              "      <th>place_name_Tres de Febrero</th>\n",
              "      <th>place_name_Vicente López</th>\n",
              "      <th>place_name_Villa Ballester</th>\n",
              "      <th>place_name_Villa Crespo</th>\n",
              "      <th>place_name_Villa Devoto</th>\n",
              "      <th>place_name_Villa Urquiza</th>\n",
              "      <th>place_name_Villa del Parque</th>\n",
              "    </tr>\n",
              "  </thead>\n",
              "  <tbody>\n",
              "    <tr>\n",
              "      <th>43318</th>\n",
              "      <td>2015-10-20</td>\n",
              "      <td>-34.936879</td>\n",
              "      <td>-54.928150</td>\n",
              "      <td>25000000.0</td>\n",
              "      <td>130000.0</td>\n",
              "      <td>4000.0</td>\n",
              "      <td>192.307692</td>\n",
              "      <td>10.0</td>\n",
              "      <td>0</td>\n",
              "      <td>0</td>\n",
              "      <td>1</td>\n",
              "      <td>0</td>\n",
              "      <td>0</td>\n",
              "      <td>0</td>\n",
              "      <td>0</td>\n",
              "      <td>0</td>\n",
              "      <td>0</td>\n",
              "      <td>0</td>\n",
              "      <td>0</td>\n",
              "      <td>0</td>\n",
              "      <td>0</td>\n",
              "      <td>0</td>\n",
              "      <td>0</td>\n",
              "      <td>0</td>\n",
              "      <td>0</td>\n",
              "      <td>0</td>\n",
              "      <td>0</td>\n",
              "      <td>0</td>\n",
              "      <td>0</td>\n",
              "      <td>0</td>\n",
              "      <td>0</td>\n",
              "      <td>0</td>\n",
              "      <td>0</td>\n",
              "      <td>0</td>\n",
              "      <td>0</td>\n",
              "      <td>0</td>\n",
              "      <td>0</td>\n",
              "      <td>0</td>\n",
              "      <td>0</td>\n",
              "      <td>0</td>\n",
              "      <td>0</td>\n",
              "      <td>0</td>\n",
              "      <td>0</td>\n",
              "      <td>0</td>\n",
              "      <td>0</td>\n",
              "      <td>0</td>\n",
              "      <td>0</td>\n",
              "      <td>0</td>\n",
              "      <td>0</td>\n",
              "      <td>0</td>\n",
              "      <td>0</td>\n",
              "      <td>0</td>\n",
              "      <td>0</td>\n",
              "      <td>0</td>\n",
              "      <td>1</td>\n",
              "      <td>0</td>\n",
              "      <td>0</td>\n",
              "      <td>0</td>\n",
              "      <td>0</td>\n",
              "      <td>0</td>\n",
              "      <td>0</td>\n",
              "      <td>0</td>\n",
              "      <td>0</td>\n",
              "      <td>0</td>\n",
              "      <td>0</td>\n",
              "      <td>0</td>\n",
              "      <td>0</td>\n",
              "      <td>0</td>\n",
              "      <td>0</td>\n",
              "      <td>0</td>\n",
              "      <td>0</td>\n",
              "      <td>0</td>\n",
              "      <td>0</td>\n",
              "      <td>0</td>\n",
              "    </tr>\n",
              "    <tr>\n",
              "      <th>109757</th>\n",
              "      <td>2016-08-25</td>\n",
              "      <td>-34.904653</td>\n",
              "      <td>-54.966112</td>\n",
              "      <td>13000000.0</td>\n",
              "      <td>12000.0</td>\n",
              "      <td>870.0</td>\n",
              "      <td>1083.333333</td>\n",
              "      <td>8.0</td>\n",
              "      <td>0</td>\n",
              "      <td>0</td>\n",
              "      <td>1</td>\n",
              "      <td>0</td>\n",
              "      <td>0</td>\n",
              "      <td>0</td>\n",
              "      <td>0</td>\n",
              "      <td>0</td>\n",
              "      <td>0</td>\n",
              "      <td>0</td>\n",
              "      <td>0</td>\n",
              "      <td>0</td>\n",
              "      <td>0</td>\n",
              "      <td>0</td>\n",
              "      <td>0</td>\n",
              "      <td>0</td>\n",
              "      <td>0</td>\n",
              "      <td>0</td>\n",
              "      <td>0</td>\n",
              "      <td>0</td>\n",
              "      <td>0</td>\n",
              "      <td>0</td>\n",
              "      <td>0</td>\n",
              "      <td>0</td>\n",
              "      <td>0</td>\n",
              "      <td>0</td>\n",
              "      <td>0</td>\n",
              "      <td>0</td>\n",
              "      <td>0</td>\n",
              "      <td>0</td>\n",
              "      <td>0</td>\n",
              "      <td>0</td>\n",
              "      <td>0</td>\n",
              "      <td>0</td>\n",
              "      <td>0</td>\n",
              "      <td>0</td>\n",
              "      <td>0</td>\n",
              "      <td>0</td>\n",
              "      <td>0</td>\n",
              "      <td>0</td>\n",
              "      <td>0</td>\n",
              "      <td>0</td>\n",
              "      <td>0</td>\n",
              "      <td>0</td>\n",
              "      <td>0</td>\n",
              "      <td>0</td>\n",
              "      <td>1</td>\n",
              "      <td>0</td>\n",
              "      <td>0</td>\n",
              "      <td>0</td>\n",
              "      <td>0</td>\n",
              "      <td>0</td>\n",
              "      <td>0</td>\n",
              "      <td>0</td>\n",
              "      <td>0</td>\n",
              "      <td>0</td>\n",
              "      <td>0</td>\n",
              "      <td>0</td>\n",
              "      <td>0</td>\n",
              "      <td>0</td>\n",
              "      <td>0</td>\n",
              "      <td>0</td>\n",
              "      <td>0</td>\n",
              "      <td>0</td>\n",
              "      <td>0</td>\n",
              "      <td>0</td>\n",
              "    </tr>\n",
              "    <tr>\n",
              "      <th>69790</th>\n",
              "      <td>2016-04-23</td>\n",
              "      <td>-34.936879</td>\n",
              "      <td>-54.928150</td>\n",
              "      <td>12000000.0</td>\n",
              "      <td>367.0</td>\n",
              "      <td>367.0</td>\n",
              "      <td>32697.547684</td>\n",
              "      <td>7.0</td>\n",
              "      <td>0</td>\n",
              "      <td>0</td>\n",
              "      <td>1</td>\n",
              "      <td>0</td>\n",
              "      <td>0</td>\n",
              "      <td>0</td>\n",
              "      <td>0</td>\n",
              "      <td>0</td>\n",
              "      <td>0</td>\n",
              "      <td>0</td>\n",
              "      <td>0</td>\n",
              "      <td>0</td>\n",
              "      <td>0</td>\n",
              "      <td>0</td>\n",
              "      <td>0</td>\n",
              "      <td>0</td>\n",
              "      <td>0</td>\n",
              "      <td>0</td>\n",
              "      <td>0</td>\n",
              "      <td>0</td>\n",
              "      <td>0</td>\n",
              "      <td>0</td>\n",
              "      <td>0</td>\n",
              "      <td>0</td>\n",
              "      <td>0</td>\n",
              "      <td>0</td>\n",
              "      <td>0</td>\n",
              "      <td>0</td>\n",
              "      <td>0</td>\n",
              "      <td>0</td>\n",
              "      <td>0</td>\n",
              "      <td>0</td>\n",
              "      <td>0</td>\n",
              "      <td>0</td>\n",
              "      <td>0</td>\n",
              "      <td>0</td>\n",
              "      <td>0</td>\n",
              "      <td>0</td>\n",
              "      <td>0</td>\n",
              "      <td>0</td>\n",
              "      <td>0</td>\n",
              "      <td>0</td>\n",
              "      <td>0</td>\n",
              "      <td>0</td>\n",
              "      <td>0</td>\n",
              "      <td>0</td>\n",
              "      <td>1</td>\n",
              "      <td>0</td>\n",
              "      <td>0</td>\n",
              "      <td>0</td>\n",
              "      <td>0</td>\n",
              "      <td>0</td>\n",
              "      <td>0</td>\n",
              "      <td>0</td>\n",
              "      <td>0</td>\n",
              "      <td>0</td>\n",
              "      <td>0</td>\n",
              "      <td>0</td>\n",
              "      <td>0</td>\n",
              "      <td>0</td>\n",
              "      <td>0</td>\n",
              "      <td>0</td>\n",
              "      <td>0</td>\n",
              "      <td>0</td>\n",
              "      <td>0</td>\n",
              "      <td>0</td>\n",
              "    </tr>\n",
              "    <tr>\n",
              "      <th>143100</th>\n",
              "      <td>2016-10-28</td>\n",
              "      <td>-34.463217</td>\n",
              "      <td>-58.556603</td>\n",
              "      <td>11111111.0</td>\n",
              "      <td>1902.0</td>\n",
              "      <td>404.0</td>\n",
              "      <td>5841.803891</td>\n",
              "      <td>5.0</td>\n",
              "      <td>0</td>\n",
              "      <td>0</td>\n",
              "      <td>1</td>\n",
              "      <td>0</td>\n",
              "      <td>0</td>\n",
              "      <td>0</td>\n",
              "      <td>0</td>\n",
              "      <td>0</td>\n",
              "      <td>0</td>\n",
              "      <td>0</td>\n",
              "      <td>0</td>\n",
              "      <td>0</td>\n",
              "      <td>0</td>\n",
              "      <td>0</td>\n",
              "      <td>0</td>\n",
              "      <td>0</td>\n",
              "      <td>0</td>\n",
              "      <td>0</td>\n",
              "      <td>0</td>\n",
              "      <td>0</td>\n",
              "      <td>0</td>\n",
              "      <td>0</td>\n",
              "      <td>0</td>\n",
              "      <td>0</td>\n",
              "      <td>0</td>\n",
              "      <td>0</td>\n",
              "      <td>0</td>\n",
              "      <td>0</td>\n",
              "      <td>0</td>\n",
              "      <td>0</td>\n",
              "      <td>0</td>\n",
              "      <td>0</td>\n",
              "      <td>0</td>\n",
              "      <td>0</td>\n",
              "      <td>0</td>\n",
              "      <td>0</td>\n",
              "      <td>0</td>\n",
              "      <td>0</td>\n",
              "      <td>0</td>\n",
              "      <td>0</td>\n",
              "      <td>0</td>\n",
              "      <td>0</td>\n",
              "      <td>0</td>\n",
              "      <td>0</td>\n",
              "      <td>0</td>\n",
              "      <td>0</td>\n",
              "      <td>0</td>\n",
              "      <td>0</td>\n",
              "      <td>0</td>\n",
              "      <td>0</td>\n",
              "      <td>0</td>\n",
              "      <td>0</td>\n",
              "      <td>0</td>\n",
              "      <td>0</td>\n",
              "      <td>0</td>\n",
              "      <td>0</td>\n",
              "      <td>0</td>\n",
              "      <td>0</td>\n",
              "      <td>1</td>\n",
              "      <td>0</td>\n",
              "      <td>0</td>\n",
              "      <td>0</td>\n",
              "      <td>0</td>\n",
              "      <td>0</td>\n",
              "      <td>0</td>\n",
              "      <td>0</td>\n",
              "    </tr>\n",
              "    <tr>\n",
              "      <th>25831</th>\n",
              "      <td>2015-06-14</td>\n",
              "      <td>-34.447361</td>\n",
              "      <td>-58.631426</td>\n",
              "      <td>9550360.0</td>\n",
              "      <td>137.0</td>\n",
              "      <td>137.0</td>\n",
              "      <td>69710.656934</td>\n",
              "      <td>3.0</td>\n",
              "      <td>0</td>\n",
              "      <td>1</td>\n",
              "      <td>0</td>\n",
              "      <td>0</td>\n",
              "      <td>0</td>\n",
              "      <td>0</td>\n",
              "      <td>0</td>\n",
              "      <td>0</td>\n",
              "      <td>0</td>\n",
              "      <td>0</td>\n",
              "      <td>0</td>\n",
              "      <td>0</td>\n",
              "      <td>0</td>\n",
              "      <td>0</td>\n",
              "      <td>0</td>\n",
              "      <td>0</td>\n",
              "      <td>0</td>\n",
              "      <td>0</td>\n",
              "      <td>0</td>\n",
              "      <td>0</td>\n",
              "      <td>0</td>\n",
              "      <td>0</td>\n",
              "      <td>0</td>\n",
              "      <td>0</td>\n",
              "      <td>0</td>\n",
              "      <td>0</td>\n",
              "      <td>0</td>\n",
              "      <td>0</td>\n",
              "      <td>0</td>\n",
              "      <td>0</td>\n",
              "      <td>0</td>\n",
              "      <td>0</td>\n",
              "      <td>0</td>\n",
              "      <td>0</td>\n",
              "      <td>0</td>\n",
              "      <td>0</td>\n",
              "      <td>0</td>\n",
              "      <td>0</td>\n",
              "      <td>0</td>\n",
              "      <td>0</td>\n",
              "      <td>0</td>\n",
              "      <td>0</td>\n",
              "      <td>0</td>\n",
              "      <td>0</td>\n",
              "      <td>0</td>\n",
              "      <td>0</td>\n",
              "      <td>0</td>\n",
              "      <td>0</td>\n",
              "      <td>0</td>\n",
              "      <td>0</td>\n",
              "      <td>0</td>\n",
              "      <td>0</td>\n",
              "      <td>0</td>\n",
              "      <td>0</td>\n",
              "      <td>0</td>\n",
              "      <td>0</td>\n",
              "      <td>0</td>\n",
              "      <td>0</td>\n",
              "      <td>1</td>\n",
              "      <td>0</td>\n",
              "      <td>0</td>\n",
              "      <td>0</td>\n",
              "      <td>0</td>\n",
              "      <td>0</td>\n",
              "      <td>0</td>\n",
              "      <td>0</td>\n",
              "    </tr>\n",
              "  </tbody>\n",
              "</table>\n",
              "</div>"
            ],
            "text/plain": [
              "        created_on  ...  place_name_Villa del Parque\n",
              "43318   2015-10-20  ...                            0\n",
              "109757  2016-08-25  ...                            0\n",
              "69790   2016-04-23  ...                            0\n",
              "143100  2016-10-28  ...                            0\n",
              "25831   2015-06-14  ...                            0\n",
              "\n",
              "[5 rows x 74 columns]"
            ]
          },
          "metadata": {
            "tags": []
          },
          "execution_count": 27
        }
      ]
    },
    {
      "cell_type": "markdown",
      "metadata": {
        "id": "gbiNURjFrU_q",
        "colab_type": "text"
      },
      "source": [
        "#supprimer 20% de la dataset (maison ayant un prix trop élevé)"
      ]
    },
    {
      "cell_type": "code",
      "metadata": {
        "id": "VYx9clG-Je_p",
        "colab_type": "code",
        "colab": {
          "base_uri": "https://localhost:8080/",
          "height": 35
        },
        "outputId": "f0ce144e-cdf2-4461-a576-61bf9ca10b83"
      },
      "source": [
        "len(df)*(0.20)"
      ],
      "execution_count": 28,
      "outputs": [
        {
          "output_type": "execute_result",
          "data": {
            "text/plain": [
              "5072.0"
            ]
          },
          "metadata": {
            "tags": []
          },
          "execution_count": 28
        }
      ]
    },
    {
      "cell_type": "code",
      "metadata": {
        "id": "edkw7_E-JzXm",
        "colab_type": "code",
        "colab": {}
      },
      "source": [
        "df = df.sort_values('price',ascending=False).iloc[5073:]"
      ],
      "execution_count": 0,
      "outputs": []
    },
    {
      "cell_type": "code",
      "metadata": {
        "id": "9NGOdrk5J5Po",
        "colab_type": "code",
        "colab": {
          "base_uri": "https://localhost:8080/",
          "height": 526
        },
        "outputId": "f36cbb47-7d59-47e6-dc73-c517600351eb"
      },
      "source": [
        "plt.figure(figsize=(12,8))\n",
        "sns.distplot(df['price'])"
      ],
      "execution_count": 30,
      "outputs": [
        {
          "output_type": "execute_result",
          "data": {
            "text/plain": [
              "<matplotlib.axes._subplots.AxesSubplot at 0x7fdffad41cf8>"
            ]
          },
          "metadata": {
            "tags": []
          },
          "execution_count": 30
        },
        {
          "output_type": "display_data",
          "data": {
            "image/png": "[encoded data removed]",
            "text/plain": [
              "<Figure size 864x576 with 1 Axes>"
            ]
          },
          "metadata": {
            "tags": []
          }
        }
      ]
    },
    {
      "cell_type": "markdown",
      "metadata": {
        "id": "97HRdGBAsZOt",
        "colab_type": "text"
      },
      "source": [
        "#Feature Engineering pour la Date"
      ]
    },
    {
      "cell_type": "code",
      "metadata": {
        "id": "Pq7agT2EJ-Jd",
        "colab_type": "code",
        "colab": {}
      },
      "source": [
        "df['created_on'] = pd.to_datetime(df['created_on'])\n",
        "df['month'] = df['created_on'].apply(lambda date:date.month)\n",
        "df['year'] = df['created_on'].apply(lambda date:date.year)\n",
        "df = df.drop('created_on',axis=1)"
      ],
      "execution_count": 0,
      "outputs": []
    },
    {
      "cell_type": "code",
      "metadata": {
        "id": "r1x1B7_vsnmS",
        "colab_type": "code",
        "colab": {
          "base_uri": "https://localhost:8080/",
          "height": 301
        },
        "outputId": "788047b2-1c0f-443e-d564-bf5372b3bfae"
      },
      "source": [
        "df.groupby('year').mean()['price'].plot()"
      ],
      "execution_count": 46,
      "outputs": [
        {
          "output_type": "execute_result",
          "data": {
            "text/plain": [
              "<matplotlib.axes._subplots.AxesSubplot at 0x7fdff01a82b0>"
            ]
          },
          "metadata": {
            "tags": []
          },
          "execution_count": 46
        },
        {
          "output_type": "display_data",
          "data": {
            "image/png": "[encoded data removed]",
            "text/plain": [
              "<Figure size 432x288 with 1 Axes>"
            ]
          },
          "metadata": {
            "tags": []
          }
        }
      ]
    },
    {
      "cell_type": "markdown",
      "metadata": {
        "id": "CgCEuv6FsxPs",
        "colab_type": "text"
      },
      "source": [
        "#Mise à l'échelle et Train Test Split"
      ]
    },
    {
      "cell_type": "code",
      "metadata": {
        "id": "TRbubEVDKk-F",
        "colab_type": "code",
        "colab": {}
      },
      "source": [
        "X = df.drop('price',axis=1).values\n",
        "y = df['price'].values"
      ],
      "execution_count": 0,
      "outputs": []
    },
    {
      "cell_type": "code",
      "metadata": {
        "id": "8iSYy-MRZuIo",
        "colab_type": "code",
        "colab": {}
      },
      "source": [
        "X_train, X_test, y_train, y_test = train_test_split(X,y,test_size=0.25,random_state=101)"
      ],
      "execution_count": 0,
      "outputs": []
    },
    {
      "cell_type": "code",
      "metadata": {
        "id": "S3t6fUFvZwwH",
        "colab_type": "code",
        "colab": {}
      },
      "source": [
        "scaler = MinMaxScaler()\n",
        "X_train= scaler.fit_transform(X_train)\n",
        "X_test = scaler.transform(X_test)"
      ],
      "execution_count": 0,
      "outputs": []
    },
    {
      "cell_type": "code",
      "metadata": {
        "id": "hxJmAWcqkeQP",
        "colab_type": "code",
        "colab": {
          "base_uri": "https://localhost:8080/",
          "height": 35
        },
        "outputId": "5cf4e407-e049-4f24-ee65-a2e5fe1e2c0f"
      },
      "source": [
        "df.shape"
      ],
      "execution_count": 35,
      "outputs": [
        {
          "output_type": "execute_result",
          "data": {
            "text/plain": [
              "(20287, 75)"
            ]
          },
          "metadata": {
            "tags": []
          },
          "execution_count": 35
        }
      ]
    },
    {
      "cell_type": "markdown",
      "metadata": {
        "id": "XJay2jPws3PM",
        "colab_type": "text"
      },
      "source": [
        "#Création d'un modèle"
      ]
    },
    {
      "cell_type": "code",
      "metadata": {
        "id": "1rtj97EAZ5d5",
        "colab_type": "code",
        "colab": {
          "base_uri": "https://localhost:8080/",
          "height": 1000
        },
        "outputId": "18c468fb-0712-4638-8f87-6013ce4c712a"
      },
      "source": [
        "# Build the neural network\n",
        "model = Sequential()\n",
        "model.add(Dense(units=100, activation='relu', input_shape=(74, ))) # Hidden 1\n",
        "model.add(Dense(100, activation='relu'))\n",
        "model.add(Dense(100, activation='relu'))\n",
        "model.add(Dense(100, activation='relu'))\n",
        "model.add(Dense(100, activation='relu'))\n",
        "model.add(Dense(100, activation='relu'))\n",
        "model.add(Dense(100, activation='relu'))\n",
        "model.add(Dense(1)) # Output\n",
        "model.compile(loss='mean_squared_error', optimizer='adam')\n",
        "monitor = EarlyStopping(monitor='val_loss', min_delta=1e-3, \n",
        "                        patience=5, verbose=1, mode='auto', restore_best_weights=True)\n",
        "model.fit(X_train,y_train,validation_data=(X_test,y_test),callbacks=[monitor],verbose=2,epochs=1000)"
      ],
      "execution_count": 36,
      "outputs": [
        {
          "output_type": "stream",
          "text": [
            "Epoch 1/1000\n",
            "476/476 - 1s - loss: 5275598336.0000 - val_loss: 2145268352.0000\n",
            "Epoch 2/1000\n",
            "476/476 - 1s - loss: 1815822464.0000 - val_loss: 1870919424.0000\n",
            "Epoch 3/1000\n",
            "476/476 - 1s - loss: 1643881216.0000 - val_loss: 1780700544.0000\n",
            "Epoch 4/1000\n",
            "476/476 - 1s - loss: 1532351104.0000 - val_loss: 1657292800.0000\n",
            "Epoch 5/1000\n",
            "476/476 - 1s - loss: 1483727744.0000 - val_loss: 1924537600.0000\n",
            "Epoch 6/1000\n",
            "476/476 - 1s - loss: 1429909504.0000 - val_loss: 1516077824.0000\n",
            "Epoch 7/1000\n",
            "476/476 - 1s - loss: 1383971584.0000 - val_loss: 1464350080.0000\n",
            "Epoch 8/1000\n",
            "476/476 - 1s - loss: 1343433984.0000 - val_loss: 1460277888.0000\n",
            "Epoch 9/1000\n",
            "476/476 - 1s - loss: 1307060608.0000 - val_loss: 1371535744.0000\n",
            "Epoch 10/1000\n",
            "476/476 - 1s - loss: 1258933120.0000 - val_loss: 1332361984.0000\n",
            "Epoch 11/1000\n",
            "476/476 - 1s - loss: 1216658688.0000 - val_loss: 1357067392.0000\n",
            "Epoch 12/1000\n",
            "476/476 - 1s - loss: 1169295488.0000 - val_loss: 1210486528.0000\n",
            "Epoch 13/1000\n",
            "476/476 - 1s - loss: 1106793344.0000 - val_loss: 1159435392.0000\n",
            "Epoch 14/1000\n",
            "476/476 - 1s - loss: 1050165440.0000 - val_loss: 1274148736.0000\n",
            "Epoch 15/1000\n",
            "476/476 - 1s - loss: 1025873792.0000 - val_loss: 1087707392.0000\n",
            "Epoch 16/1000\n",
            "476/476 - 1s - loss: 978259520.0000 - val_loss: 1055469248.0000\n",
            "Epoch 17/1000\n",
            "476/476 - 1s - loss: 936985984.0000 - val_loss: 1108484608.0000\n",
            "Epoch 18/1000\n",
            "476/476 - 1s - loss: 930041536.0000 - val_loss: 1056632704.0000\n",
            "Epoch 19/1000\n",
            "476/476 - 1s - loss: 917523328.0000 - val_loss: 1053231744.0000\n",
            "Epoch 20/1000\n",
            "476/476 - 1s - loss: 917753280.0000 - val_loss: 1015221568.0000\n",
            "Epoch 21/1000\n",
            "476/476 - 1s - loss: 894917248.0000 - val_loss: 1137575936.0000\n",
            "Epoch 22/1000\n",
            "476/476 - 1s - loss: 887698176.0000 - val_loss: 955397696.0000\n",
            "Epoch 23/1000\n",
            "476/476 - 1s - loss: 872379072.0000 - val_loss: 987915840.0000\n",
            "Epoch 24/1000\n",
            "476/476 - 1s - loss: 882914240.0000 - val_loss: 933002240.0000\n",
            "Epoch 25/1000\n",
            "476/476 - 1s - loss: 849377152.0000 - val_loss: 917018048.0000\n",
            "Epoch 26/1000\n",
            "476/476 - 1s - loss: 855344960.0000 - val_loss: 939719680.0000\n",
            "Epoch 27/1000\n",
            "476/476 - 1s - loss: 851196096.0000 - val_loss: 937575232.0000\n",
            "Epoch 28/1000\n",
            "476/476 - 1s - loss: 822652416.0000 - val_loss: 1033130112.0000\n",
            "Epoch 29/1000\n",
            "476/476 - 1s - loss: 829141632.0000 - val_loss: 872754432.0000\n",
            "Epoch 30/1000\n",
            "476/476 - 1s - loss: 818235200.0000 - val_loss: 876428096.0000\n",
            "Epoch 31/1000\n",
            "476/476 - 1s - loss: 801806464.0000 - val_loss: 865153216.0000\n",
            "Epoch 32/1000\n",
            "476/476 - 1s - loss: 790305792.0000 - val_loss: 968103552.0000\n",
            "Epoch 33/1000\n",
            "476/476 - 1s - loss: 772027840.0000 - val_loss: 924090368.0000\n",
            "Epoch 34/1000\n",
            "476/476 - 1s - loss: 769867200.0000 - val_loss: 832227968.0000\n",
            "Epoch 35/1000\n",
            "476/476 - 1s - loss: 774083968.0000 - val_loss: 871411968.0000\n",
            "Epoch 36/1000\n",
            "476/476 - 1s - loss: 750403648.0000 - val_loss: 875990144.0000\n",
            "Epoch 37/1000\n",
            "476/476 - 1s - loss: 753356672.0000 - val_loss: 814335168.0000\n",
            "Epoch 38/1000\n",
            "476/476 - 1s - loss: 727528768.0000 - val_loss: 807939968.0000\n",
            "Epoch 39/1000\n",
            "476/476 - 1s - loss: 721556416.0000 - val_loss: 805641536.0000\n",
            "Epoch 40/1000\n",
            "476/476 - 1s - loss: 713260096.0000 - val_loss: 1039773760.0000\n",
            "Epoch 41/1000\n",
            "476/476 - 1s - loss: 706548096.0000 - val_loss: 797313216.0000\n",
            "Epoch 42/1000\n",
            "476/476 - 1s - loss: 700532096.0000 - val_loss: 807288512.0000\n",
            "Epoch 43/1000\n",
            "476/476 - 1s - loss: 683799296.0000 - val_loss: 835643584.0000\n",
            "Epoch 44/1000\n",
            "476/476 - 1s - loss: 682681088.0000 - val_loss: 802655680.0000\n",
            "Epoch 45/1000\n",
            "476/476 - 1s - loss: 671134272.0000 - val_loss: 825410048.0000\n",
            "Epoch 46/1000\n",
            "Restoring model weights from the end of the best epoch.\n",
            "476/476 - 1s - loss: 653691712.0000 - val_loss: 799192640.0000\n",
            "Epoch 00046: early stopping\n"
          ],
          "name": "stdout"
        },
        {
          "output_type": "execute_result",
          "data": {
            "text/plain": [
              "<tensorflow.python.keras.callbacks.History at 0x7fdff49853c8>"
            ]
          },
          "metadata": {
            "tags": []
          },
          "execution_count": 36
        }
      ]
    },
    {
      "cell_type": "code",
      "metadata": {
        "id": "LXU-MrCQaCN_",
        "colab_type": "code",
        "colab": {
          "base_uri": "https://localhost:8080/",
          "height": 312
        },
        "outputId": "a0fb54eb-08a5-4723-d981-c6c2aa899d7a"
      },
      "source": [
        "plt.figure(figsize=(12,8))\n",
        "losses = pd.DataFrame(model.history.history)\n",
        "losses.plot()"
      ],
      "execution_count": 37,
      "outputs": [
        {
          "output_type": "execute_result",
          "data": {
            "text/plain": [
              "<matplotlib.axes._subplots.AxesSubplot at 0x7fdff1217780>"
            ]
          },
          "metadata": {
            "tags": []
          },
          "execution_count": 37
        },
        {
          "output_type": "display_data",
          "data": {
            "text/plain": [
              "<Figure size 864x576 with 0 Axes>"
            ]
          },
          "metadata": {
            "tags": []
          }
        },
        {
          "output_type": "display_data",
          "data": {
            "image/png": "[encoded data removed]",
            "text/plain": [
              "<Figure size 432x288 with 1 Axes>"
            ]
          },
          "metadata": {
            "tags": []
          }
        }
      ]
    },
    {
      "cell_type": "markdown",
      "metadata": {
        "id": "Yonzb5vms_Cd",
        "colab_type": "text"
      },
      "source": [
        "#Évaluation sur les données de test"
      ]
    },
    {
      "cell_type": "code",
      "metadata": {
        "id": "xv03UUbsaQbK",
        "colab_type": "code",
        "colab": {
          "base_uri": "https://localhost:8080/",
          "height": 90
        },
        "outputId": "314ed960-fe66-4e9b-9c8c-e84acf452169"
      },
      "source": [
        "from sklearn.metrics import mean_squared_error,mean_absolute_error,explained_variance_score\n",
        "\n",
        "predictions = model.predict(X_test)\n",
        "\n",
        "MSE = mean_squared_error(y_test,predictions)\n",
        "RMSE = np.sqrt(mean_squared_error(y_test,predictions))\n",
        "MAE = mean_absolute_error(y_test,predictions)\n",
        "EVS = explained_variance_score(y_test,predictions)\n",
        "print(\"MSE : {}\".format(MSE))\n",
        "print(\"RMSE : {}\".format(RMSE))\n",
        "print(\"MAE : {}\".format(MAE))\n",
        "print(\"EVS : {}\".format(EVS))"
      ],
      "execution_count": 38,
      "outputs": [
        {
          "output_type": "stream",
          "text": [
            "MSE : 797089387.765274\n",
            "RMSE : 28232.771521146733\n",
            "MAE : 18450.671895024152\n",
            "EVS : 0.8168165743533169\n"
          ],
          "name": "stdout"
        }
      ]
    },
    {
      "cell_type": "code",
      "metadata": {
        "id": "bbkZ_OdPaUHy",
        "colab_type": "code",
        "colab": {}
      },
      "source": [
        "def chart_regression(pred, y, sort=True):\n",
        "    plt.figure(figsize=(12,8))\n",
        "    t = pd.DataFrame({'pred': pred, 'y': y.flatten()})\n",
        "    if sort:\n",
        "        t.sort_values(by=['y'], inplace=True) \n",
        "    plt.plot(t['pred'].tolist(), label='prediction')\n",
        "    plt.plot(t['y'].tolist(), label='expected')\n",
        "    plt.ylabel('output')\n",
        "    plt.legend()\n",
        "    plt.show()"
      ],
      "execution_count": 0,
      "outputs": []
    },
    {
      "cell_type": "code",
      "metadata": {
        "id": "DtYWrTb7adHC",
        "colab_type": "code",
        "colab": {
          "base_uri": "https://localhost:8080/",
          "height": 483
        },
        "outputId": "000393cc-0c0f-4bb1-fc20-4a545f7d5296"
      },
      "source": [
        "chart_regression(predictions.flatten(),y_test)"
      ],
      "execution_count": 40,
      "outputs": [
        {
          "output_type": "display_data",
          "data": {
            "image/png": "[encoded data removed]",
            "text/plain": [
              "<Figure size 864x576 with 1 Axes>"
            ]
          },
          "metadata": {
            "tags": []
          }
        }
      ]
    },
    {
      "cell_type": "code",
      "metadata": {
        "id": "0BDI20zIaelO",
        "colab_type": "code",
        "colab": {
          "base_uri": "https://localhost:8080/",
          "height": 501
        },
        "outputId": "7638d75a-1170-4868-c04d-84596d554409"
      },
      "source": [
        "plt.figure(figsize=(12,8))\n",
        "# Our predictions\n",
        "plt.scatter(y_test,predictions)\n",
        "\n",
        "# Perfect predictions\n",
        "plt.plot(y_test,y_test,'r')"
      ],
      "execution_count": 41,
      "outputs": [
        {
          "output_type": "execute_result",
          "data": {
            "text/plain": [
              "[<matplotlib.lines.Line2D at 0x7fdffac29fd0>]"
            ]
          },
          "metadata": {
            "tags": []
          },
          "execution_count": 41
        },
        {
          "output_type": "display_data",
          "data": {
            "image/png": "[encoded data removed]",
            "text/plain": [
              "<Figure size 864x576 with 1 Axes>"
            ]
          },
          "metadata": {
            "tags": []
          }
        }
      ]
    },
    {
      "cell_type": "code",
      "metadata": {
        "id": "WjVAehkJa4tt",
        "colab_type": "code",
        "colab": {
          "base_uri": "https://localhost:8080/",
          "height": 35
        },
        "outputId": "9599b3a0-6abe-496c-d57c-a46b94cf01cd"
      },
      "source": [
        "df['price'].mean()"
      ],
      "execution_count": 42,
      "outputs": [
        {
          "output_type": "execute_result",
          "data": {
            "text/plain": [
              "138125.89564745896"
            ]
          },
          "metadata": {
            "tags": []
          },
          "execution_count": 42
        }
      ]
    },
    {
      "cell_type": "code",
      "metadata": {
        "id": "7hxEZ1U5dKaR",
        "colab_type": "code",
        "colab": {
          "base_uri": "https://localhost:8080/",
          "height": 35
        },
        "outputId": "ffcdcd96-2a29-40c0-b948-b8316c35bbe9"
      },
      "source": [
        "df['price'].median()"
      ],
      "execution_count": 43,
      "outputs": [
        {
          "output_type": "execute_result",
          "data": {
            "text/plain": [
              "125000.0"
            ]
          },
          "metadata": {
            "tags": []
          },
          "execution_count": 43
        }
      ]
    },
    {
      "cell_type": "code",
      "metadata": {
        "id": "AYHqJzf-eC9L",
        "colab_type": "code",
        "colab": {
          "base_uri": "https://localhost:8080/",
          "height": 35
        },
        "outputId": "beed3d45-4fae-4d54-cb41-61f839827b86"
      },
      "source": [
        "df.shape"
      ],
      "execution_count": 44,
      "outputs": [
        {
          "output_type": "execute_result",
          "data": {
            "text/plain": [
              "(20287, 75)"
            ]
          },
          "metadata": {
            "tags": []
          },
          "execution_count": 44
        }
      ]
    },
    {
      "cell_type": "code",
      "metadata": {
        "id": "gmGVV0u5rt5I",
        "colab_type": "code",
        "colab": {}
      },
      "source": [
        ""
      ],
      "execution_count": 0,
      "outputs": []
    }
  ]
}