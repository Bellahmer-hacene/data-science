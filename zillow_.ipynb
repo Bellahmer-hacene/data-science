{
  "nbformat": 4,
  "nbformat_minor": 0,
  "metadata": {
    "colab": {
      "name": "zillow_.ipynb",
      "provenance": [],
      "collapsed_sections": [],
      "authorship_tag": "ABX9TyMW5VKUQnUCsDXv1/SYxqFR",
      "include_colab_link": true
    },
    "kernelspec": {
      "name": "python3",
      "display_name": "Python 3"
    }
  },
  "cells": [
    {
      "cell_type": "markdown",
      "metadata": {
        "id": "view-in-github",
        "colab_type": "text"
      },
      "source": [
        "<a href=\"https://colab.research.google.com/github/Bellahmer-hacene/data-science/blob/master/zillow_.ipynb\" target=\"_parent\"><img src=\"https://colab.research.google.com/assets/colab-badge.svg\" alt=\"Open In Colab\"/></a>"
      ]
    },
    {
      "cell_type": "code",
      "metadata": {
        "id": "5p3g5-wKPdH8",
        "colab_type": "code",
        "outputId": "0ed7e601-9a5d-4c74-add6-7eafbaa27377",
        "colab": {
          "base_uri": "https://localhost:8080/",
          "height": 156
        }
      },
      "source": [
        "colonne a supprimer : \n",
        "architecturalstyletypeid, basementsqft,calculatedbathnbr,finishedfloor1squarefeet,finishedsquarefeet6,finishedsquarefeet13,\n",
        "finishedsquarefeet50,heatingorsystemtypeid ,latitude,longitude,numberofstories,parcelid,poolsizesum,censustractandblock,\n",
        "regionidneighborhood,storytypeid,typeconstructiontypeid,yardbuildingsqft17,yardbuildingsqft26,taxdelinquencyflag,\n",
        "taxdelinquencyyear,fips\n",
        "\n",
        "colonne a garder : airconditioningtypeid*, bathroomcnt, bedroomcnt,buildingclasstypeid*,buildingqualitytypeid-,decktypeid*,\n",
        "threequarterbathnbr*0,calculatedfinishedsquarefeet,finishedsquarefeet12,finishedsquarefeet15$,fips,fireplacecnt*0,fullbathcnt*0,\n",
        "garagecarcnt*0,garagetotalsqft*0,hashottuborspa*0,lotsizesquarefeet,poolcnt*0,pooltypeid10*0,pooltypeid2*0,pooltypeid7*0\n",
        ",propertycountylandusecode,propertylandusetypeid,rawcensustractandblock,regionidcounty,regionidcity,regionidzip,roomcnt,unitcnt\n",
        ",yearbuilt,taxvaluedollarcnt,structuretaxvaluedollarcnt,landtaxvaluedollarcnt,assessmentyear,taxamount"
      ],
      "execution_count": 0,
      "outputs": [
        {
          "output_type": "error",
          "ename": "SyntaxError",
          "evalue": "ignored",
          "traceback": [
            "\u001b[0;36m  File \u001b[0;32m\"<ipython-input-66-d39d6ebe74e5>\"\u001b[0;36m, line \u001b[0;32m1\u001b[0m\n\u001b[0;31m    colonne a supprimer : architecturalstyletypeid, basementsqft,calculatedbathnbr,finishedfloor1squarefeet,finishedsquarefeet6,finishedsquarefeet13,\u001b[0m\n\u001b[0m            ^\u001b[0m\n\u001b[0;31mSyntaxError\u001b[0m\u001b[0;31m:\u001b[0m invalid syntax\n"
          ]
        }
      ]
    },
    {
      "cell_type": "code",
      "metadata": {
        "id": "zre735q8bOtf",
        "colab_type": "code",
        "outputId": "ba309515-f1fc-41cc-fed1-43b3c4a7cfce",
        "colab": {
          "base_uri": "https://localhost:8080/",
          "height": 36
        }
      },
      "source": [
        "from google.colab import drive\n",
        "drive.mount('/content/gdrive')"
      ],
      "execution_count": 2,
      "outputs": [
        {
          "output_type": "stream",
          "text": [
            "Mounted at /content/gdrive\n"
          ],
          "name": "stdout"
        }
      ]
    },
    {
      "cell_type": "code",
      "metadata": {
        "id": "WSb0QxcObPgh",
        "colab_type": "code",
        "outputId": "73575813-b749-476c-fe9d-61da116752c8",
        "colab": {
          "base_uri": "https://localhost:8080/",
          "height": 74
        }
      },
      "source": [
        "import tensorflow as tf\n",
        "import pandas as pd\n",
        "import numpy as np\n",
        "import seaborn as sns\n",
        "import matplotlib.pyplot as plt\n",
        "%load_ext tensorboard"
      ],
      "execution_count": 3,
      "outputs": [
        {
          "output_type": "stream",
          "text": [
            "/usr/local/lib/python3.6/dist-packages/statsmodels/tools/_testing.py:19: FutureWarning: pandas.util.testing is deprecated. Use the functions in the public API at pandas.testing instead.\n",
            "  import pandas.util.testing as tm\n"
          ],
          "name": "stderr"
        }
      ]
    },
    {
      "cell_type": "code",
      "metadata": {
        "id": "51Np5vF3baxO",
        "colab_type": "code",
        "outputId": "355a521a-3edc-4446-ea7b-a51990615aa7",
        "colab": {
          "base_uri": "https://localhost:8080/",
          "height": 74
        }
      },
      "source": [
        "df = pd.read_csv('/content/gdrive/My Drive/dataset/properties_2016.csv')"
      ],
      "execution_count": 14,
      "outputs": [
        {
          "output_type": "stream",
          "text": [
            "/usr/local/lib/python3.6/dist-packages/IPython/core/interactiveshell.py:2718: DtypeWarning: Columns (22,32,34,49,55) have mixed types.Specify dtype option on import or set low_memory=False.\n",
            "  interactivity=interactivity, compiler=compiler, result=result)\n"
          ],
          "name": "stderr"
        }
      ]
    },
    {
      "cell_type": "code",
      "metadata": {
        "id": "7Bb-MYcRbc9K",
        "colab_type": "code",
        "colab": {}
      },
      "source": [
        "#colonnes supprimer\n",
        "df = df.drop(['architecturalstyletypeid', 'basementsqft','calculatedbathnbr','finishedfloor1squarefeet','finishedsquarefeet6','finishedsquarefeet13',\n",
        "'finishedsquarefeet50','heatingorsystemtypeid' ,'latitude','longitude','numberofstories','parcelid','poolsizesum','censustractandblock',\n",
        "'regionidneighborhood','storytypeid','typeconstructiontypeid','yardbuildingsqft17','yardbuildingsqft26','taxdelinquencyflag',\n",
        "'taxdelinquencyyear'],axis=1)"
      ],
      "execution_count": 0,
      "outputs": []
    },
    {
      "cell_type": "code",
      "metadata": {
        "id": "7KN292sCcKMT",
        "colab_type": "code",
        "colab": {}
      },
      "source": [
        "df = df[df['finishedsquarefeet15'].notna()]"
      ],
      "execution_count": 0,
      "outputs": []
    },
    {
      "cell_type": "code",
      "metadata": {
        "id": "Hn9ks6f-eESE",
        "colab_type": "code",
        "colab": {}
      },
      "source": [
        "df['airconditioningtypeid'] = df['airconditioningtypeid'].fillna(value=0)"
      ],
      "execution_count": 0,
      "outputs": []
    },
    {
      "cell_type": "code",
      "metadata": {
        "id": "ur8mzN8GeH1T",
        "colab_type": "code",
        "colab": {}
      },
      "source": [
        "df['bathroomcnt'] = df['bathroomcnt'].fillna(value=0)"
      ],
      "execution_count": 0,
      "outputs": []
    },
    {
      "cell_type": "code",
      "metadata": {
        "id": "qzJ-8QXEeaCW",
        "colab_type": "code",
        "colab": {}
      },
      "source": [
        "df['bedroomcnt'] = df['bedroomcnt'].fillna(value=0)"
      ],
      "execution_count": 0,
      "outputs": []
    },
    {
      "cell_type": "code",
      "metadata": {
        "id": "9u7EtRv6ef9z",
        "colab_type": "code",
        "colab": {}
      },
      "source": [
        "df['buildingclasstypeid'] = df['buildingclasstypeid'].fillna(value=6)"
      ],
      "execution_count": 0,
      "outputs": []
    },
    {
      "cell_type": "code",
      "metadata": {
        "id": "KOjXGMmRfJmN",
        "colab_type": "code",
        "colab": {}
      },
      "source": [
        "df = df[df['buildingqualitytypeid'].notna()]"
      ],
      "execution_count": 0,
      "outputs": []
    },
    {
      "cell_type": "code",
      "metadata": {
        "id": "TgETRFHQhIGG",
        "colab_type": "code",
        "colab": {}
      },
      "source": [
        "df['calculatedfinishedsquarefeet'] = df['calculatedfinishedsquarefeet'].fillna(value=0)"
      ],
      "execution_count": 0,
      "outputs": []
    },
    {
      "cell_type": "code",
      "metadata": {
        "id": "EMYS1ORUhata",
        "colab_type": "code",
        "colab": {}
      },
      "source": [
        "df = df[df['fips'].notna()]"
      ],
      "execution_count": 0,
      "outputs": []
    },
    {
      "cell_type": "code",
      "metadata": {
        "id": "ECH0ev_9gsKi",
        "colab_type": "code",
        "colab": {}
      },
      "source": [
        "df['fullbathcnt'] = df['fullbathcnt'].fillna(value=0)"
      ],
      "execution_count": 0,
      "outputs": []
    },
    {
      "cell_type": "code",
      "metadata": {
        "id": "pJ71s54NkI3j",
        "colab_type": "code",
        "colab": {}
      },
      "source": [
        "df = df[df['lotsizesquarefeet'].notna()]"
      ],
      "execution_count": 0,
      "outputs": []
    },
    {
      "cell_type": "code",
      "metadata": {
        "id": "LFaxcPbbk0H1",
        "colab_type": "code",
        "colab": {}
      },
      "source": [
        "df['poolcnt'] = df['poolcnt'].fillna(value=0)"
      ],
      "execution_count": 0,
      "outputs": []
    },
    {
      "cell_type": "code",
      "metadata": {
        "id": "lmrYj3X0k62x",
        "colab_type": "code",
        "colab": {}
      },
      "source": [
        "df['pooltypeid10'] = df['pooltypeid10'].fillna(value=0)"
      ],
      "execution_count": 0,
      "outputs": []
    },
    {
      "cell_type": "code",
      "metadata": {
        "id": "gIBienVIlDAY",
        "colab_type": "code",
        "colab": {}
      },
      "source": [
        "df['pooltypeid7'] = df['pooltypeid7'].fillna(value=0)"
      ],
      "execution_count": 0,
      "outputs": []
    },
    {
      "cell_type": "code",
      "metadata": {
        "id": "dPbnoU3NlUer",
        "colab_type": "code",
        "colab": {}
      },
      "source": [
        "df = df[df['propertycountylandusecode'].notna()]"
      ],
      "execution_count": 0,
      "outputs": []
    },
    {
      "cell_type": "code",
      "metadata": {
        "id": "9XoZR2uEl9_z",
        "colab_type": "code",
        "colab": {}
      },
      "source": [
        "df = df[df['regionidcity'].notna()]"
      ],
      "execution_count": 0,
      "outputs": []
    },
    {
      "cell_type": "code",
      "metadata": {
        "id": "ZbMlQBaVnnvW",
        "colab_type": "code",
        "colab": {}
      },
      "source": [
        "df['unitcnt'] = df['unitcnt'].fillna(value=0)"
      ],
      "execution_count": 0,
      "outputs": []
    },
    {
      "cell_type": "code",
      "metadata": {
        "id": "SsigQ-lloDu8",
        "colab_type": "code",
        "colab": {}
      },
      "source": [
        "df = df[df['yearbuilt'].notna()]"
      ],
      "execution_count": 0,
      "outputs": []
    },
    {
      "cell_type": "code",
      "metadata": {
        "id": "J9Ycg1n8oq77",
        "colab_type": "code",
        "colab": {}
      },
      "source": [
        "df = df[df['taxvaluedollarcnt'].notna()]"
      ],
      "execution_count": 0,
      "outputs": []
    },
    {
      "cell_type": "code",
      "metadata": {
        "id": "vY-W7NPko46l",
        "colab_type": "code",
        "colab": {}
      },
      "source": [
        "df = df[df['taxamount'].notna()]"
      ],
      "execution_count": 0,
      "outputs": []
    },
    {
      "cell_type": "code",
      "metadata": {
        "id": "jAE7aQ-YqFuy",
        "colab_type": "code",
        "colab": {}
      },
      "source": [
        "df = df[df['structuretaxvaluedollarcnt'].notna()]"
      ],
      "execution_count": 0,
      "outputs": []
    },
    {
      "cell_type": "code",
      "metadata": {
        "id": "JSKfEnIetDiE",
        "colab_type": "code",
        "colab": {}
      },
      "source": [
        "df = df[df['propertyzoningdesc'].notna()]"
      ],
      "execution_count": 0,
      "outputs": []
    },
    {
      "cell_type": "code",
      "metadata": {
        "id": "RL-uFCIrt8xL",
        "colab_type": "code",
        "colab": {}
      },
      "source": [
        "df['hashottuborspa'] = df['hashottuborspa'].fillna(value=0)"
      ],
      "execution_count": 0,
      "outputs": []
    },
    {
      "cell_type": "code",
      "metadata": {
        "id": "qf_zBUnQtaif",
        "colab_type": "code",
        "colab": {}
      },
      "source": [
        "df = df.drop(['decktypeid','finishedsquarefeet12','fireplacecnt','garagecarcnt','garagetotalsqft','pooltypeid2','threequarterbathnbr','fireplaceflag'],axis=1)"
      ],
      "execution_count": 0,
      "outputs": []
    },
    {
      "cell_type": "code",
      "metadata": {
        "id": "pvstTzhxgYRF",
        "colab_type": "code",
        "outputId": "26e5e1fc-c51b-474c-b389-88d10b7385df",
        "colab": {
          "base_uri": "https://localhost:8080/",
          "height": 578
        }
      },
      "source": [
        "100* df.isnull().sum()/len(df) "
      ],
      "execution_count": 39,
      "outputs": [
        {
          "output_type": "execute_result",
          "data": {
            "text/plain": [
              "airconditioningtypeid           0.0\n",
              "bathroomcnt                     0.0\n",
              "bedroomcnt                      0.0\n",
              "buildingclasstypeid             0.0\n",
              "buildingqualitytypeid           0.0\n",
              "calculatedfinishedsquarefeet    0.0\n",
              "finishedsquarefeet15            0.0\n",
              "fips                            0.0\n",
              "fullbathcnt                     0.0\n",
              "hashottuborspa                  0.0\n",
              "lotsizesquarefeet               0.0\n",
              "poolcnt                         0.0\n",
              "pooltypeid10                    0.0\n",
              "pooltypeid7                     0.0\n",
              "propertycountylandusecode       0.0\n",
              "propertylandusetypeid           0.0\n",
              "propertyzoningdesc              0.0\n",
              "rawcensustractandblock          0.0\n",
              "regionidcity                    0.0\n",
              "regionidcounty                  0.0\n",
              "regionidzip                     0.0\n",
              "roomcnt                         0.0\n",
              "unitcnt                         0.0\n",
              "yearbuilt                       0.0\n",
              "structuretaxvaluedollarcnt      0.0\n",
              "taxvaluedollarcnt               0.0\n",
              "assessmentyear                  0.0\n",
              "landtaxvaluedollarcnt           0.0\n",
              "taxamount                       0.0\n",
              "dtype: float64"
            ]
          },
          "metadata": {
            "tags": []
          },
          "execution_count": 39
        }
      ]
    },
    {
      "cell_type": "code",
      "metadata": {
        "id": "SpZmRqVLu00I",
        "colab_type": "code",
        "outputId": "45233835-f5d9-44b0-ec9f-4faef6e8fde0",
        "colab": {
          "base_uri": "https://localhost:8080/",
          "height": 226
        }
      },
      "source": [
        "df.head()"
      ],
      "execution_count": 40,
      "outputs": [
        {
          "output_type": "execute_result",
          "data": {
            "text/html": [
              "<div>\n",
              "<style scoped>\n",
              "    .dataframe tbody tr th:only-of-type {\n",
              "        vertical-align: middle;\n",
              "    }\n",
              "\n",
              "    .dataframe tbody tr th {\n",
              "        vertical-align: top;\n",
              "    }\n",
              "\n",
              "    .dataframe thead th {\n",
              "        text-align: right;\n",
              "    }\n",
              "</style>\n",
              "<table border=\"1\" class=\"dataframe\">\n",
              "  <thead>\n",
              "    <tr style=\"text-align: right;\">\n",
              "      <th></th>\n",
              "      <th>airconditioningtypeid</th>\n",
              "      <th>bathroomcnt</th>\n",
              "      <th>bedroomcnt</th>\n",
              "      <th>buildingclasstypeid</th>\n",
              "      <th>buildingqualitytypeid</th>\n",
              "      <th>calculatedfinishedsquarefeet</th>\n",
              "      <th>finishedsquarefeet15</th>\n",
              "      <th>fips</th>\n",
              "      <th>fullbathcnt</th>\n",
              "      <th>hashottuborspa</th>\n",
              "      <th>lotsizesquarefeet</th>\n",
              "      <th>poolcnt</th>\n",
              "      <th>pooltypeid10</th>\n",
              "      <th>pooltypeid7</th>\n",
              "      <th>propertycountylandusecode</th>\n",
              "      <th>propertylandusetypeid</th>\n",
              "      <th>propertyzoningdesc</th>\n",
              "      <th>rawcensustractandblock</th>\n",
              "      <th>regionidcity</th>\n",
              "      <th>regionidcounty</th>\n",
              "      <th>regionidzip</th>\n",
              "      <th>roomcnt</th>\n",
              "      <th>unitcnt</th>\n",
              "      <th>yearbuilt</th>\n",
              "      <th>structuretaxvaluedollarcnt</th>\n",
              "      <th>taxvaluedollarcnt</th>\n",
              "      <th>assessmentyear</th>\n",
              "      <th>landtaxvaluedollarcnt</th>\n",
              "      <th>taxamount</th>\n",
              "    </tr>\n",
              "  </thead>\n",
              "  <tbody>\n",
              "    <tr>\n",
              "      <th>3</th>\n",
              "      <td>0.0</td>\n",
              "      <td>0.0</td>\n",
              "      <td>0.0</td>\n",
              "      <td>3.0</td>\n",
              "      <td>7.0</td>\n",
              "      <td>5068.0</td>\n",
              "      <td>5068.0</td>\n",
              "      <td>6037.0</td>\n",
              "      <td>0.0</td>\n",
              "      <td>0</td>\n",
              "      <td>7521.0</td>\n",
              "      <td>0.0</td>\n",
              "      <td>0.0</td>\n",
              "      <td>0.0</td>\n",
              "      <td>1200</td>\n",
              "      <td>47.0</td>\n",
              "      <td>LAC2</td>\n",
              "      <td>6.037141e+07</td>\n",
              "      <td>12447.0</td>\n",
              "      <td>3101.0</td>\n",
              "      <td>96424.0</td>\n",
              "      <td>0.0</td>\n",
              "      <td>0.0</td>\n",
              "      <td>1948.0</td>\n",
              "      <td>571346.0</td>\n",
              "      <td>1156834.0</td>\n",
              "      <td>2015.0</td>\n",
              "      <td>585488.0</td>\n",
              "      <td>14557.57</td>\n",
              "    </tr>\n",
              "    <tr>\n",
              "      <th>5</th>\n",
              "      <td>0.0</td>\n",
              "      <td>0.0</td>\n",
              "      <td>0.0</td>\n",
              "      <td>4.0</td>\n",
              "      <td>7.0</td>\n",
              "      <td>2400.0</td>\n",
              "      <td>2400.0</td>\n",
              "      <td>6037.0</td>\n",
              "      <td>0.0</td>\n",
              "      <td>0</td>\n",
              "      <td>2500.0</td>\n",
              "      <td>0.0</td>\n",
              "      <td>0.0</td>\n",
              "      <td>0.0</td>\n",
              "      <td>1210</td>\n",
              "      <td>31.0</td>\n",
              "      <td>LAC4</td>\n",
              "      <td>6.037125e+07</td>\n",
              "      <td>12447.0</td>\n",
              "      <td>3101.0</td>\n",
              "      <td>96446.0</td>\n",
              "      <td>0.0</td>\n",
              "      <td>0.0</td>\n",
              "      <td>1943.0</td>\n",
              "      <td>176383.0</td>\n",
              "      <td>283315.0</td>\n",
              "      <td>2015.0</td>\n",
              "      <td>106932.0</td>\n",
              "      <td>3661.28</td>\n",
              "    </tr>\n",
              "    <tr>\n",
              "      <th>9</th>\n",
              "      <td>0.0</td>\n",
              "      <td>0.0</td>\n",
              "      <td>0.0</td>\n",
              "      <td>3.0</td>\n",
              "      <td>7.0</td>\n",
              "      <td>3754.0</td>\n",
              "      <td>3754.0</td>\n",
              "      <td>6037.0</td>\n",
              "      <td>0.0</td>\n",
              "      <td>0</td>\n",
              "      <td>7494.0</td>\n",
              "      <td>0.0</td>\n",
              "      <td>0.0</td>\n",
              "      <td>0.0</td>\n",
              "      <td>1210</td>\n",
              "      <td>31.0</td>\n",
              "      <td>SFC2*</td>\n",
              "      <td>6.037320e+07</td>\n",
              "      <td>47547.0</td>\n",
              "      <td>3101.0</td>\n",
              "      <td>96366.0</td>\n",
              "      <td>0.0</td>\n",
              "      <td>0.0</td>\n",
              "      <td>1978.0</td>\n",
              "      <td>218440.0</td>\n",
              "      <td>261201.0</td>\n",
              "      <td>2015.0</td>\n",
              "      <td>42761.0</td>\n",
              "      <td>4054.76</td>\n",
              "    </tr>\n",
              "    <tr>\n",
              "      <th>17</th>\n",
              "      <td>0.0</td>\n",
              "      <td>0.0</td>\n",
              "      <td>0.0</td>\n",
              "      <td>4.0</td>\n",
              "      <td>7.0</td>\n",
              "      <td>2760.0</td>\n",
              "      <td>2760.0</td>\n",
              "      <td>6037.0</td>\n",
              "      <td>0.0</td>\n",
              "      <td>0</td>\n",
              "      <td>8856.0</td>\n",
              "      <td>0.0</td>\n",
              "      <td>0.0</td>\n",
              "      <td>0.0</td>\n",
              "      <td>1210</td>\n",
              "      <td>31.0</td>\n",
              "      <td>LRC3*</td>\n",
              "      <td>6.037901e+07</td>\n",
              "      <td>5534.0</td>\n",
              "      <td>3101.0</td>\n",
              "      <td>97317.0</td>\n",
              "      <td>0.0</td>\n",
              "      <td>0.0</td>\n",
              "      <td>1949.0</td>\n",
              "      <td>32654.0</td>\n",
              "      <td>62424.0</td>\n",
              "      <td>2015.0</td>\n",
              "      <td>29770.0</td>\n",
              "      <td>2330.24</td>\n",
              "    </tr>\n",
              "    <tr>\n",
              "      <th>20</th>\n",
              "      <td>0.0</td>\n",
              "      <td>0.0</td>\n",
              "      <td>0.0</td>\n",
              "      <td>3.0</td>\n",
              "      <td>7.0</td>\n",
              "      <td>4053.0</td>\n",
              "      <td>4053.0</td>\n",
              "      <td>6037.0</td>\n",
              "      <td>0.0</td>\n",
              "      <td>0</td>\n",
              "      <td>8050.0</td>\n",
              "      <td>0.0</td>\n",
              "      <td>0.0</td>\n",
              "      <td>0.0</td>\n",
              "      <td>1210</td>\n",
              "      <td>31.0</td>\n",
              "      <td>LAC2</td>\n",
              "      <td>6.037235e+07</td>\n",
              "      <td>12447.0</td>\n",
              "      <td>3101.0</td>\n",
              "      <td>96024.0</td>\n",
              "      <td>0.0</td>\n",
              "      <td>1.0</td>\n",
              "      <td>1957.0</td>\n",
              "      <td>197599.0</td>\n",
              "      <td>503752.0</td>\n",
              "      <td>2015.0</td>\n",
              "      <td>306153.0</td>\n",
              "      <td>6840.34</td>\n",
              "    </tr>\n",
              "  </tbody>\n",
              "</table>\n",
              "</div>"
            ],
            "text/plain": [
              "    airconditioningtypeid  bathroomcnt  ...  landtaxvaluedollarcnt  taxamount\n",
              "3                     0.0          0.0  ...               585488.0   14557.57\n",
              "5                     0.0          0.0  ...               106932.0    3661.28\n",
              "9                     0.0          0.0  ...                42761.0    4054.76\n",
              "17                    0.0          0.0  ...                29770.0    2330.24\n",
              "20                    0.0          0.0  ...               306153.0    6840.34\n",
              "\n",
              "[5 rows x 29 columns]"
            ]
          },
          "metadata": {
            "tags": []
          },
          "execution_count": 40
        }
      ]
    },
    {
      "cell_type": "markdown",
      "metadata": {
        "id": "5cG7nFL2vIyx",
        "colab_type": "text"
      },
      "source": [
        "#propertycountylandusecode :  Code d'utilisation des terres du comté, c'est-à-dire le zonage au niveau du comté -> 78 code"
      ]
    },
    {
      "cell_type": "code",
      "metadata": {
        "id": "RI5BIy_Nndgw",
        "colab_type": "code",
        "outputId": "6fef183f-004f-46de-f100-426a90ea63c9",
        "colab": {
          "base_uri": "https://localhost:8080/",
          "height": 241
        }
      },
      "source": [
        "df['propertycountylandusecode'].value_counts()"
      ],
      "execution_count": 41,
      "outputs": [
        {
          "output_type": "execute_result",
          "data": {
            "text/plain": [
              "0200    94918\n",
              "0300    31174\n",
              "0400    28115\n",
              "1210     5955\n",
              "1200     2213\n",
              "        ...  \n",
              "040A        1\n",
              "1181        1\n",
              "0305        1\n",
              "0310        1\n",
              "0403        1\n",
              "Name: propertycountylandusecode, Length: 78, dtype: int64"
            ]
          },
          "metadata": {
            "tags": []
          },
          "execution_count": 41
        }
      ]
    },
    {
      "cell_type": "code",
      "metadata": {
        "id": "vH_gfLV0ojaO",
        "colab_type": "code",
        "colab": {}
      },
      "source": [
        "df = pd.concat([df,pd.get_dummies(df['propertycountylandusecode'],prefix=\"propertycountylandusecode\")],axis=1)\n",
        "df.drop('propertycountylandusecode', axis=1, inplace=True)"
      ],
      "execution_count": 0,
      "outputs": []
    },
    {
      "cell_type": "markdown",
      "metadata": {
        "id": "m1OJgKLtwWYz",
        "colab_type": "text"
      },
      "source": [
        "#buildingclasstypeid : Le type de charpente du bâtiment (charpente métallique, charpente en bois, béton/brique) -> 6 types"
      ]
    },
    {
      "cell_type": "code",
      "metadata": {
        "id": "cVF77j6hvobK",
        "colab_type": "code",
        "colab": {
          "base_uri": "https://localhost:8080/",
          "height": 148
        },
        "outputId": "af0e156b-e387-4bec-9949-e38a68d3a4bb"
      },
      "source": [
        "df['buildingclasstypeid'].value_counts()"
      ],
      "execution_count": 43,
      "outputs": [
        {
          "output_type": "execute_result",
          "data": {
            "text/plain": [
              "6.0    156838\n",
              "4.0      6848\n",
              "3.0      2068\n",
              "5.0        18\n",
              "2.0        16\n",
              "1.0         1\n",
              "Name: buildingclasstypeid, dtype: int64"
            ]
          },
          "metadata": {
            "tags": []
          },
          "execution_count": 43
        }
      ]
    },
    {
      "cell_type": "code",
      "metadata": {
        "id": "Ri029BdZwIJJ",
        "colab_type": "code",
        "colab": {}
      },
      "source": [
        "df = pd.concat([df,pd.get_dummies(df['buildingclasstypeid'],prefix=\"buildingclasstypeid\")],axis=1)\n",
        "df.drop('buildingclasstypeid', axis=1, inplace=True)"
      ],
      "execution_count": 0,
      "outputs": []
    },
    {
      "cell_type": "markdown",
      "metadata": {
        "id": "EpR67P4hxdeb",
        "colab_type": "text"
      },
      "source": [
        "#'buildingqualitytypeid' : Évaluation globale de l'état du bâtiment, du meilleur (le plus bas) au pire (le plus élevé) -> 9 types"
      ]
    },
    {
      "cell_type": "code",
      "metadata": {
        "id": "vFHlETr2wycs",
        "colab_type": "code",
        "colab": {
          "base_uri": "https://localhost:8080/",
          "height": 204
        },
        "outputId": "34081488-9e03-49cd-bd39-82fffc152ba2"
      },
      "source": [
        "df['buildingqualitytypeid'].value_counts()"
      ],
      "execution_count": 45,
      "outputs": [
        {
          "output_type": "execute_result",
          "data": {
            "text/plain": [
              "7.0     155373\n",
              "4.0       9148\n",
              "10.0       963\n",
              "1.0        280\n",
              "12.0        12\n",
              "6.0          7\n",
              "8.0          3\n",
              "5.0          2\n",
              "2.0          1\n",
              "Name: buildingqualitytypeid, dtype: int64"
            ]
          },
          "metadata": {
            "tags": []
          },
          "execution_count": 45
        }
      ]
    },
    {
      "cell_type": "code",
      "metadata": {
        "id": "9PSym9F0w3K8",
        "colab_type": "code",
        "colab": {}
      },
      "source": [
        "df = pd.concat([df,pd.get_dummies(df['buildingqualitytypeid'],prefix=\"buildingqualitytypeid\")],axis=1)\n",
        "df.drop('buildingqualitytypeid', axis=1, inplace=True)"
      ],
      "execution_count": 0,
      "outputs": []
    },
    {
      "cell_type": "code",
      "metadata": {
        "id": "60Kf34z2xHay",
        "colab_type": "code",
        "colab": {
          "base_uri": "https://localhost:8080/",
          "height": 73
        },
        "outputId": "a0184de0-4741-45e3-a03f-d007c52a2967"
      },
      "source": [
        "df['hashottuborspa'].value_counts()"
      ],
      "execution_count": 47,
      "outputs": [
        {
          "output_type": "execute_result",
          "data": {
            "text/plain": [
              "0       165675\n",
              "True       114\n",
              "Name: hashottuborspa, dtype: int64"
            ]
          },
          "metadata": {
            "tags": []
          },
          "execution_count": 47
        }
      ]
    },
    {
      "cell_type": "code",
      "metadata": {
        "id": "wUiCr-xS2cSq",
        "colab_type": "code",
        "colab": {}
      },
      "source": [
        "df['hashottuborspa'] = df['hashottuborspa'].astype('int64')"
      ],
      "execution_count": 0,
      "outputs": []
    },
    {
      "cell_type": "code",
      "metadata": {
        "id": "ZvAfY1Dj2sWr",
        "colab_type": "code",
        "colab": {
          "base_uri": "https://localhost:8080/",
          "height": 73
        },
        "outputId": "e50e59bd-c468-404e-cdd2-460c3ddbdddd"
      },
      "source": [
        "df['hashottuborspa'].value_counts()"
      ],
      "execution_count": 49,
      "outputs": [
        {
          "output_type": "execute_result",
          "data": {
            "text/plain": [
              "0    165675\n",
              "1       114\n",
              "Name: hashottuborspa, dtype: int64"
            ]
          },
          "metadata": {
            "tags": []
          },
          "execution_count": 49
        }
      ]
    },
    {
      "cell_type": "markdown",
      "metadata": {
        "id": "jtQMlxqe3Vxf",
        "colab_type": "text"
      },
      "source": [
        "#propertylandusetypeid : Type d'utilisation du terrain pour lequel la propriété est zonée"
      ]
    },
    {
      "cell_type": "code",
      "metadata": {
        "id": "Al_GfITf20jz",
        "colab_type": "code",
        "colab": {
          "base_uri": "https://localhost:8080/",
          "height": 148
        },
        "outputId": "95c0d360-f7d3-450c-e0e1-02dac73eb358"
      },
      "source": [
        "df['propertylandusetypeid'].value_counts()"
      ],
      "execution_count": 50,
      "outputs": [
        {
          "output_type": "execute_result",
          "data": {
            "text/plain": [
              "246.0    96846\n",
              "247.0    31527\n",
              "248.0    28461\n",
              "31.0      6386\n",
              "47.0      2568\n",
              "260.0        1\n",
              "Name: propertylandusetypeid, dtype: int64"
            ]
          },
          "metadata": {
            "tags": []
          },
          "execution_count": 50
        }
      ]
    },
    {
      "cell_type": "code",
      "metadata": {
        "id": "DXiQi3B13CLM",
        "colab_type": "code",
        "colab": {}
      },
      "source": [
        "df = pd.concat([df,pd.get_dummies(df['propertylandusetypeid'],prefix=\"propertylandusetypeid\")],axis=1)\n",
        "df.drop('propertylandusetypeid', axis=1, inplace=True)"
      ],
      "execution_count": 0,
      "outputs": []
    },
    {
      "cell_type": "markdown",
      "metadata": {
        "id": "0L7pckAa4Hwu",
        "colab_type": "text"
      },
      "source": [
        "#'regionidcity' : Ville dans laquelle le bien est situé (le cas échéant) "
      ]
    },
    {
      "cell_type": "code",
      "metadata": {
        "id": "wdW-tKbF3gzr",
        "colab_type": "code",
        "colab": {
          "base_uri": "https://localhost:8080/",
          "height": 241
        },
        "outputId": "f4e11a2c-270a-4e53-f591-b640993d0768"
      },
      "source": [
        "df['regionidcity'].value_counts()"
      ],
      "execution_count": 52,
      "outputs": [
        {
          "output_type": "execute_result",
          "data": {
            "text/plain": [
              "12447.0    69964\n",
              "46298.0    12173\n",
              "17882.0     6609\n",
              "45888.0     3193\n",
              "47762.0     2953\n",
              "           ...  \n",
              "32927.0        2\n",
              "37882.0        1\n",
              "48211.0        1\n",
              "41673.0        1\n",
              "40633.0        1\n",
              "Name: regionidcity, Length: 120, dtype: int64"
            ]
          },
          "metadata": {
            "tags": []
          },
          "execution_count": 52
        }
      ]
    },
    {
      "cell_type": "code",
      "metadata": {
        "id": "3lUIMoNk3oze",
        "colab_type": "code",
        "colab": {}
      },
      "source": [
        "df = pd.concat([df,pd.get_dummies(df['regionidcity'],prefix=\"regionidcity\")],axis=1)\n",
        "df.drop('regionidcity', axis=1, inplace=True)"
      ],
      "execution_count": 0,
      "outputs": []
    },
    {
      "cell_type": "code",
      "metadata": {
        "id": "1f-lNjtI3_qY",
        "colab_type": "code",
        "colab": {
          "base_uri": "https://localhost:8080/",
          "height": 54
        },
        "outputId": "2ed35264-9794-4e2d-f580-76d1901c305c"
      },
      "source": [
        "df['regionidcounty'].value_counts()"
      ],
      "execution_count": 54,
      "outputs": [
        {
          "output_type": "execute_result",
          "data": {
            "text/plain": [
              "3101.0    165789\n",
              "Name: regionidcounty, dtype: int64"
            ]
          },
          "metadata": {
            "tags": []
          },
          "execution_count": 54
        }
      ]
    },
    {
      "cell_type": "code",
      "metadata": {
        "id": "-KU6fFa24Ovx",
        "colab_type": "code",
        "colab": {}
      },
      "source": [
        "df = df.drop(['regionidcounty'],axis=1)"
      ],
      "execution_count": 0,
      "outputs": []
    },
    {
      "cell_type": "code",
      "metadata": {
        "id": "R6wUbcIg4grR",
        "colab_type": "code",
        "colab": {
          "base_uri": "https://localhost:8080/",
          "height": 54
        },
        "outputId": "807aacd2-2ef3-47d0-a04a-b27ce5ff6452"
      },
      "source": [
        "df['fips'].value_counts()"
      ],
      "execution_count": 56,
      "outputs": [
        {
          "output_type": "execute_result",
          "data": {
            "text/plain": [
              "6037.0    165789\n",
              "Name: fips, dtype: int64"
            ]
          },
          "metadata": {
            "tags": []
          },
          "execution_count": 56
        }
      ]
    },
    {
      "cell_type": "code",
      "metadata": {
        "id": "OQRL7c-k4jL7",
        "colab_type": "code",
        "colab": {}
      },
      "source": [
        "df = df.drop(['fips'],axis=1)"
      ],
      "execution_count": 0,
      "outputs": []
    },
    {
      "cell_type": "markdown",
      "metadata": {
        "id": "M1ls2AIQ4_Jn",
        "colab_type": "text"
      },
      "source": [
        "#'regionidzip' : Code postal dans lequel se trouve le bien"
      ]
    },
    {
      "cell_type": "code",
      "metadata": {
        "id": "YmxbbQ904mun",
        "colab_type": "code",
        "colab": {
          "base_uri": "https://localhost:8080/",
          "height": 241
        },
        "outputId": "ca7afa4b-55af-4258-aaba-8f5d4d9af141"
      },
      "source": [
        "df['regionidzip'].value_counts()"
      ],
      "execution_count": 58,
      "outputs": [
        {
          "output_type": "execute_result",
          "data": {
            "text/plain": [
              "95992.0    4948\n",
              "96025.0    3647\n",
              "96003.0    3256\n",
              "96083.0    3250\n",
              "96007.0    3243\n",
              "           ... \n",
              "96048.0       2\n",
              "97344.0       2\n",
              "96072.0       1\n",
              "96356.0       1\n",
              "96384.0       1\n",
              "Name: regionidzip, Length: 271, dtype: int64"
            ]
          },
          "metadata": {
            "tags": []
          },
          "execution_count": 58
        }
      ]
    },
    {
      "cell_type": "code",
      "metadata": {
        "id": "71pWCy8W4xIE",
        "colab_type": "code",
        "colab": {}
      },
      "source": [
        "df = pd.concat([df,pd.get_dummies(df['regionidzip'],prefix=\"regionidzip\")],axis=1)\n",
        "df.drop('regionidzip', axis=1, inplace=True)"
      ],
      "execution_count": 0,
      "outputs": []
    },
    {
      "cell_type": "markdown",
      "metadata": {
        "id": "41FEQljFw5Op",
        "colab_type": "text"
      },
      "source": [
        "#'propertyzoningdesc' : Description des utilisations du sol autorisées (zonage) pour cette propriété"
      ]
    },
    {
      "cell_type": "code",
      "metadata": {
        "id": "2fjjN3Cu45Mj",
        "colab_type": "code",
        "colab": {
          "base_uri": "https://localhost:8080/",
          "height": 241
        },
        "outputId": "3ed234ee-be57-4265-b1c7-502d14c9152b"
      },
      "source": [
        "df['propertyzoningdesc'].value_counts()"
      ],
      "execution_count": 60,
      "outputs": [
        {
          "output_type": "execute_result",
          "data": {
            "text/plain": [
              "LAR2        20409\n",
              "LARD1.5     11768\n",
              "LAR1        10678\n",
              "LAR3         8230\n",
              "LARD2        7892\n",
              "            ...  \n",
              "EMR1B           1\n",
              "MOR3PY          1\n",
              "LRR17000        1\n",
              "SGR 3YY         1\n",
              "LCR1600*        1\n",
              "Name: propertyzoningdesc, Length: 2097, dtype: int64"
            ]
          },
          "metadata": {
            "tags": []
          },
          "execution_count": 60
        }
      ]
    },
    {
      "cell_type": "code",
      "metadata": {
        "id": "GF2Z2Iyp97p_",
        "colab_type": "code",
        "colab": {
          "base_uri": "https://localhost:8080/",
          "height": 36
        },
        "outputId": "2dd25dda-a097-4fd1-8489-30432e9ffbdf"
      },
      "source": [
        "len(df.columns)"
      ],
      "execution_count": 61,
      "outputs": [
        {
          "output_type": "execute_result",
          "data": {
            "text/plain": [
              "511"
            ]
          },
          "metadata": {
            "tags": []
          },
          "execution_count": 61
        }
      ]
    },
    {
      "cell_type": "code",
      "metadata": {
        "id": "usTJr4xCtqST",
        "colab_type": "code",
        "colab": {
          "base_uri": "https://localhost:8080/",
          "height": 36
        },
        "outputId": "e03ee33d-47f5-4503-a17e-c01a11784cfa"
      },
      "source": [
        "len(df)"
      ],
      "execution_count": 66,
      "outputs": [
        {
          "output_type": "execute_result",
          "data": {
            "text/plain": [
              "165789"
            ]
          },
          "metadata": {
            "tags": []
          },
          "execution_count": 66
        }
      ]
    },
    {
      "cell_type": "code",
      "metadata": {
        "id": "QUPTk05T1uza",
        "colab_type": "code",
        "colab": {
          "base_uri": "https://localhost:8080/",
          "height": 255
        },
        "outputId": "0ef986e4-e6d4-4e34-b7ba-3bf981acdc6e"
      },
      "source": [
        "df.head()"
      ],
      "execution_count": 67,
      "outputs": [
        {
          "output_type": "execute_result",
          "data": {
            "text/html": [
              "<div>\n",
              "<style scoped>\n",
              "    .dataframe tbody tr th:only-of-type {\n",
              "        vertical-align: middle;\n",
              "    }\n",
              "\n",
              "    .dataframe tbody tr th {\n",
              "        vertical-align: top;\n",
              "    }\n",
              "\n",
              "    .dataframe thead th {\n",
              "        text-align: right;\n",
              "    }\n",
              "</style>\n",
              "<table border=\"1\" class=\"dataframe\">\n",
              "  <thead>\n",
              "    <tr style=\"text-align: right;\">\n",
              "      <th></th>\n",
              "      <th>airconditioningtypeid</th>\n",
              "      <th>bathroomcnt</th>\n",
              "      <th>bedroomcnt</th>\n",
              "      <th>calculatedfinishedsquarefeet</th>\n",
              "      <th>finishedsquarefeet15</th>\n",
              "      <th>fullbathcnt</th>\n",
              "      <th>hashottuborspa</th>\n",
              "      <th>lotsizesquarefeet</th>\n",
              "      <th>poolcnt</th>\n",
              "      <th>pooltypeid10</th>\n",
              "      <th>pooltypeid7</th>\n",
              "      <th>propertyzoningdesc</th>\n",
              "      <th>rawcensustractandblock</th>\n",
              "      <th>roomcnt</th>\n",
              "      <th>unitcnt</th>\n",
              "      <th>yearbuilt</th>\n",
              "      <th>structuretaxvaluedollarcnt</th>\n",
              "      <th>taxvaluedollarcnt</th>\n",
              "      <th>assessmentyear</th>\n",
              "      <th>landtaxvaluedollarcnt</th>\n",
              "      <th>taxamount</th>\n",
              "      <th>propertycountylandusecode_014D</th>\n",
              "      <th>propertycountylandusecode_0200</th>\n",
              "      <th>propertycountylandusecode_0201</th>\n",
              "      <th>propertycountylandusecode_0202</th>\n",
              "      <th>propertycountylandusecode_0203</th>\n",
              "      <th>propertycountylandusecode_0204</th>\n",
              "      <th>propertycountylandusecode_0208</th>\n",
              "      <th>propertycountylandusecode_0209</th>\n",
              "      <th>propertycountylandusecode_020A</th>\n",
              "      <th>propertycountylandusecode_020C</th>\n",
              "      <th>propertycountylandusecode_020E</th>\n",
              "      <th>propertycountylandusecode_020G</th>\n",
              "      <th>propertycountylandusecode_020M</th>\n",
              "      <th>propertycountylandusecode_0210</th>\n",
              "      <th>propertycountylandusecode_0220</th>\n",
              "      <th>propertycountylandusecode_0230</th>\n",
              "      <th>propertycountylandusecode_0231</th>\n",
              "      <th>propertycountylandusecode_02G0</th>\n",
              "      <th>propertycountylandusecode_0300</th>\n",
              "      <th>...</th>\n",
              "      <th>regionidzip_96478.0</th>\n",
              "      <th>regionidzip_96479.0</th>\n",
              "      <th>regionidzip_96480.0</th>\n",
              "      <th>regionidzip_96485.0</th>\n",
              "      <th>regionidzip_96486.0</th>\n",
              "      <th>regionidzip_96488.0</th>\n",
              "      <th>regionidzip_96489.0</th>\n",
              "      <th>regionidzip_96490.0</th>\n",
              "      <th>regionidzip_96492.0</th>\n",
              "      <th>regionidzip_96494.0</th>\n",
              "      <th>regionidzip_96496.0</th>\n",
              "      <th>regionidzip_96497.0</th>\n",
              "      <th>regionidzip_96505.0</th>\n",
              "      <th>regionidzip_96506.0</th>\n",
              "      <th>regionidzip_96507.0</th>\n",
              "      <th>regionidzip_96508.0</th>\n",
              "      <th>regionidzip_96510.0</th>\n",
              "      <th>regionidzip_96513.0</th>\n",
              "      <th>regionidzip_96514.0</th>\n",
              "      <th>regionidzip_96515.0</th>\n",
              "      <th>regionidzip_96517.0</th>\n",
              "      <th>regionidzip_96522.0</th>\n",
              "      <th>regionidzip_96523.0</th>\n",
              "      <th>regionidzip_96524.0</th>\n",
              "      <th>regionidzip_96525.0</th>\n",
              "      <th>regionidzip_96531.0</th>\n",
              "      <th>regionidzip_96533.0</th>\n",
              "      <th>regionidzip_97298.0</th>\n",
              "      <th>regionidzip_97316.0</th>\n",
              "      <th>regionidzip_97317.0</th>\n",
              "      <th>regionidzip_97318.0</th>\n",
              "      <th>regionidzip_97319.0</th>\n",
              "      <th>regionidzip_97323.0</th>\n",
              "      <th>regionidzip_97324.0</th>\n",
              "      <th>regionidzip_97328.0</th>\n",
              "      <th>regionidzip_97329.0</th>\n",
              "      <th>regionidzip_97330.0</th>\n",
              "      <th>regionidzip_97331.0</th>\n",
              "      <th>regionidzip_97344.0</th>\n",
              "      <th>regionidzip_399675.0</th>\n",
              "    </tr>\n",
              "  </thead>\n",
              "  <tbody>\n",
              "    <tr>\n",
              "      <th>3</th>\n",
              "      <td>0.0</td>\n",
              "      <td>0.0</td>\n",
              "      <td>0.0</td>\n",
              "      <td>5068.0</td>\n",
              "      <td>5068.0</td>\n",
              "      <td>0.0</td>\n",
              "      <td>0</td>\n",
              "      <td>7521.0</td>\n",
              "      <td>0.0</td>\n",
              "      <td>0.0</td>\n",
              "      <td>0.0</td>\n",
              "      <td>LAC2</td>\n",
              "      <td>6.037141e+07</td>\n",
              "      <td>0.0</td>\n",
              "      <td>0.0</td>\n",
              "      <td>1948.0</td>\n",
              "      <td>571346.0</td>\n",
              "      <td>1156834.0</td>\n",
              "      <td>2015.0</td>\n",
              "      <td>585488.0</td>\n",
              "      <td>14557.57</td>\n",
              "      <td>0</td>\n",
              "      <td>0</td>\n",
              "      <td>0</td>\n",
              "      <td>0</td>\n",
              "      <td>0</td>\n",
              "      <td>0</td>\n",
              "      <td>0</td>\n",
              "      <td>0</td>\n",
              "      <td>0</td>\n",
              "      <td>0</td>\n",
              "      <td>0</td>\n",
              "      <td>0</td>\n",
              "      <td>0</td>\n",
              "      <td>0</td>\n",
              "      <td>0</td>\n",
              "      <td>0</td>\n",
              "      <td>0</td>\n",
              "      <td>0</td>\n",
              "      <td>0</td>\n",
              "      <td>...</td>\n",
              "      <td>0</td>\n",
              "      <td>0</td>\n",
              "      <td>0</td>\n",
              "      <td>0</td>\n",
              "      <td>0</td>\n",
              "      <td>0</td>\n",
              "      <td>0</td>\n",
              "      <td>0</td>\n",
              "      <td>0</td>\n",
              "      <td>0</td>\n",
              "      <td>0</td>\n",
              "      <td>0</td>\n",
              "      <td>0</td>\n",
              "      <td>0</td>\n",
              "      <td>0</td>\n",
              "      <td>0</td>\n",
              "      <td>0</td>\n",
              "      <td>0</td>\n",
              "      <td>0</td>\n",
              "      <td>0</td>\n",
              "      <td>0</td>\n",
              "      <td>0</td>\n",
              "      <td>0</td>\n",
              "      <td>0</td>\n",
              "      <td>0</td>\n",
              "      <td>0</td>\n",
              "      <td>0</td>\n",
              "      <td>0</td>\n",
              "      <td>0</td>\n",
              "      <td>0</td>\n",
              "      <td>0</td>\n",
              "      <td>0</td>\n",
              "      <td>0</td>\n",
              "      <td>0</td>\n",
              "      <td>0</td>\n",
              "      <td>0</td>\n",
              "      <td>0</td>\n",
              "      <td>0</td>\n",
              "      <td>0</td>\n",
              "      <td>0</td>\n",
              "    </tr>\n",
              "    <tr>\n",
              "      <th>5</th>\n",
              "      <td>0.0</td>\n",
              "      <td>0.0</td>\n",
              "      <td>0.0</td>\n",
              "      <td>2400.0</td>\n",
              "      <td>2400.0</td>\n",
              "      <td>0.0</td>\n",
              "      <td>0</td>\n",
              "      <td>2500.0</td>\n",
              "      <td>0.0</td>\n",
              "      <td>0.0</td>\n",
              "      <td>0.0</td>\n",
              "      <td>LAC4</td>\n",
              "      <td>6.037125e+07</td>\n",
              "      <td>0.0</td>\n",
              "      <td>0.0</td>\n",
              "      <td>1943.0</td>\n",
              "      <td>176383.0</td>\n",
              "      <td>283315.0</td>\n",
              "      <td>2015.0</td>\n",
              "      <td>106932.0</td>\n",
              "      <td>3661.28</td>\n",
              "      <td>0</td>\n",
              "      <td>0</td>\n",
              "      <td>0</td>\n",
              "      <td>0</td>\n",
              "      <td>0</td>\n",
              "      <td>0</td>\n",
              "      <td>0</td>\n",
              "      <td>0</td>\n",
              "      <td>0</td>\n",
              "      <td>0</td>\n",
              "      <td>0</td>\n",
              "      <td>0</td>\n",
              "      <td>0</td>\n",
              "      <td>0</td>\n",
              "      <td>0</td>\n",
              "      <td>0</td>\n",
              "      <td>0</td>\n",
              "      <td>0</td>\n",
              "      <td>0</td>\n",
              "      <td>...</td>\n",
              "      <td>0</td>\n",
              "      <td>0</td>\n",
              "      <td>0</td>\n",
              "      <td>0</td>\n",
              "      <td>0</td>\n",
              "      <td>0</td>\n",
              "      <td>0</td>\n",
              "      <td>0</td>\n",
              "      <td>0</td>\n",
              "      <td>0</td>\n",
              "      <td>0</td>\n",
              "      <td>0</td>\n",
              "      <td>0</td>\n",
              "      <td>0</td>\n",
              "      <td>0</td>\n",
              "      <td>0</td>\n",
              "      <td>0</td>\n",
              "      <td>0</td>\n",
              "      <td>0</td>\n",
              "      <td>0</td>\n",
              "      <td>0</td>\n",
              "      <td>0</td>\n",
              "      <td>0</td>\n",
              "      <td>0</td>\n",
              "      <td>0</td>\n",
              "      <td>0</td>\n",
              "      <td>0</td>\n",
              "      <td>0</td>\n",
              "      <td>0</td>\n",
              "      <td>0</td>\n",
              "      <td>0</td>\n",
              "      <td>0</td>\n",
              "      <td>0</td>\n",
              "      <td>0</td>\n",
              "      <td>0</td>\n",
              "      <td>0</td>\n",
              "      <td>0</td>\n",
              "      <td>0</td>\n",
              "      <td>0</td>\n",
              "      <td>0</td>\n",
              "    </tr>\n",
              "    <tr>\n",
              "      <th>9</th>\n",
              "      <td>0.0</td>\n",
              "      <td>0.0</td>\n",
              "      <td>0.0</td>\n",
              "      <td>3754.0</td>\n",
              "      <td>3754.0</td>\n",
              "      <td>0.0</td>\n",
              "      <td>0</td>\n",
              "      <td>7494.0</td>\n",
              "      <td>0.0</td>\n",
              "      <td>0.0</td>\n",
              "      <td>0.0</td>\n",
              "      <td>SFC2*</td>\n",
              "      <td>6.037320e+07</td>\n",
              "      <td>0.0</td>\n",
              "      <td>0.0</td>\n",
              "      <td>1978.0</td>\n",
              "      <td>218440.0</td>\n",
              "      <td>261201.0</td>\n",
              "      <td>2015.0</td>\n",
              "      <td>42761.0</td>\n",
              "      <td>4054.76</td>\n",
              "      <td>0</td>\n",
              "      <td>0</td>\n",
              "      <td>0</td>\n",
              "      <td>0</td>\n",
              "      <td>0</td>\n",
              "      <td>0</td>\n",
              "      <td>0</td>\n",
              "      <td>0</td>\n",
              "      <td>0</td>\n",
              "      <td>0</td>\n",
              "      <td>0</td>\n",
              "      <td>0</td>\n",
              "      <td>0</td>\n",
              "      <td>0</td>\n",
              "      <td>0</td>\n",
              "      <td>0</td>\n",
              "      <td>0</td>\n",
              "      <td>0</td>\n",
              "      <td>0</td>\n",
              "      <td>...</td>\n",
              "      <td>0</td>\n",
              "      <td>0</td>\n",
              "      <td>0</td>\n",
              "      <td>0</td>\n",
              "      <td>0</td>\n",
              "      <td>0</td>\n",
              "      <td>0</td>\n",
              "      <td>0</td>\n",
              "      <td>0</td>\n",
              "      <td>0</td>\n",
              "      <td>0</td>\n",
              "      <td>0</td>\n",
              "      <td>0</td>\n",
              "      <td>0</td>\n",
              "      <td>0</td>\n",
              "      <td>0</td>\n",
              "      <td>0</td>\n",
              "      <td>0</td>\n",
              "      <td>0</td>\n",
              "      <td>0</td>\n",
              "      <td>0</td>\n",
              "      <td>0</td>\n",
              "      <td>0</td>\n",
              "      <td>0</td>\n",
              "      <td>0</td>\n",
              "      <td>0</td>\n",
              "      <td>0</td>\n",
              "      <td>0</td>\n",
              "      <td>0</td>\n",
              "      <td>0</td>\n",
              "      <td>0</td>\n",
              "      <td>0</td>\n",
              "      <td>0</td>\n",
              "      <td>0</td>\n",
              "      <td>0</td>\n",
              "      <td>0</td>\n",
              "      <td>0</td>\n",
              "      <td>0</td>\n",
              "      <td>0</td>\n",
              "      <td>0</td>\n",
              "    </tr>\n",
              "    <tr>\n",
              "      <th>17</th>\n",
              "      <td>0.0</td>\n",
              "      <td>0.0</td>\n",
              "      <td>0.0</td>\n",
              "      <td>2760.0</td>\n",
              "      <td>2760.0</td>\n",
              "      <td>0.0</td>\n",
              "      <td>0</td>\n",
              "      <td>8856.0</td>\n",
              "      <td>0.0</td>\n",
              "      <td>0.0</td>\n",
              "      <td>0.0</td>\n",
              "      <td>LRC3*</td>\n",
              "      <td>6.037901e+07</td>\n",
              "      <td>0.0</td>\n",
              "      <td>0.0</td>\n",
              "      <td>1949.0</td>\n",
              "      <td>32654.0</td>\n",
              "      <td>62424.0</td>\n",
              "      <td>2015.0</td>\n",
              "      <td>29770.0</td>\n",
              "      <td>2330.24</td>\n",
              "      <td>0</td>\n",
              "      <td>0</td>\n",
              "      <td>0</td>\n",
              "      <td>0</td>\n",
              "      <td>0</td>\n",
              "      <td>0</td>\n",
              "      <td>0</td>\n",
              "      <td>0</td>\n",
              "      <td>0</td>\n",
              "      <td>0</td>\n",
              "      <td>0</td>\n",
              "      <td>0</td>\n",
              "      <td>0</td>\n",
              "      <td>0</td>\n",
              "      <td>0</td>\n",
              "      <td>0</td>\n",
              "      <td>0</td>\n",
              "      <td>0</td>\n",
              "      <td>0</td>\n",
              "      <td>...</td>\n",
              "      <td>0</td>\n",
              "      <td>0</td>\n",
              "      <td>0</td>\n",
              "      <td>0</td>\n",
              "      <td>0</td>\n",
              "      <td>0</td>\n",
              "      <td>0</td>\n",
              "      <td>0</td>\n",
              "      <td>0</td>\n",
              "      <td>0</td>\n",
              "      <td>0</td>\n",
              "      <td>0</td>\n",
              "      <td>0</td>\n",
              "      <td>0</td>\n",
              "      <td>0</td>\n",
              "      <td>0</td>\n",
              "      <td>0</td>\n",
              "      <td>0</td>\n",
              "      <td>0</td>\n",
              "      <td>0</td>\n",
              "      <td>0</td>\n",
              "      <td>0</td>\n",
              "      <td>0</td>\n",
              "      <td>0</td>\n",
              "      <td>0</td>\n",
              "      <td>0</td>\n",
              "      <td>0</td>\n",
              "      <td>0</td>\n",
              "      <td>0</td>\n",
              "      <td>1</td>\n",
              "      <td>0</td>\n",
              "      <td>0</td>\n",
              "      <td>0</td>\n",
              "      <td>0</td>\n",
              "      <td>0</td>\n",
              "      <td>0</td>\n",
              "      <td>0</td>\n",
              "      <td>0</td>\n",
              "      <td>0</td>\n",
              "      <td>0</td>\n",
              "    </tr>\n",
              "    <tr>\n",
              "      <th>20</th>\n",
              "      <td>0.0</td>\n",
              "      <td>0.0</td>\n",
              "      <td>0.0</td>\n",
              "      <td>4053.0</td>\n",
              "      <td>4053.0</td>\n",
              "      <td>0.0</td>\n",
              "      <td>0</td>\n",
              "      <td>8050.0</td>\n",
              "      <td>0.0</td>\n",
              "      <td>0.0</td>\n",
              "      <td>0.0</td>\n",
              "      <td>LAC2</td>\n",
              "      <td>6.037235e+07</td>\n",
              "      <td>0.0</td>\n",
              "      <td>1.0</td>\n",
              "      <td>1957.0</td>\n",
              "      <td>197599.0</td>\n",
              "      <td>503752.0</td>\n",
              "      <td>2015.0</td>\n",
              "      <td>306153.0</td>\n",
              "      <td>6840.34</td>\n",
              "      <td>0</td>\n",
              "      <td>0</td>\n",
              "      <td>0</td>\n",
              "      <td>0</td>\n",
              "      <td>0</td>\n",
              "      <td>0</td>\n",
              "      <td>0</td>\n",
              "      <td>0</td>\n",
              "      <td>0</td>\n",
              "      <td>0</td>\n",
              "      <td>0</td>\n",
              "      <td>0</td>\n",
              "      <td>0</td>\n",
              "      <td>0</td>\n",
              "      <td>0</td>\n",
              "      <td>0</td>\n",
              "      <td>0</td>\n",
              "      <td>0</td>\n",
              "      <td>0</td>\n",
              "      <td>...</td>\n",
              "      <td>0</td>\n",
              "      <td>0</td>\n",
              "      <td>0</td>\n",
              "      <td>0</td>\n",
              "      <td>0</td>\n",
              "      <td>0</td>\n",
              "      <td>0</td>\n",
              "      <td>0</td>\n",
              "      <td>0</td>\n",
              "      <td>0</td>\n",
              "      <td>0</td>\n",
              "      <td>0</td>\n",
              "      <td>0</td>\n",
              "      <td>0</td>\n",
              "      <td>0</td>\n",
              "      <td>0</td>\n",
              "      <td>0</td>\n",
              "      <td>0</td>\n",
              "      <td>0</td>\n",
              "      <td>0</td>\n",
              "      <td>0</td>\n",
              "      <td>0</td>\n",
              "      <td>0</td>\n",
              "      <td>0</td>\n",
              "      <td>0</td>\n",
              "      <td>0</td>\n",
              "      <td>0</td>\n",
              "      <td>0</td>\n",
              "      <td>0</td>\n",
              "      <td>0</td>\n",
              "      <td>0</td>\n",
              "      <td>0</td>\n",
              "      <td>0</td>\n",
              "      <td>0</td>\n",
              "      <td>0</td>\n",
              "      <td>0</td>\n",
              "      <td>0</td>\n",
              "      <td>0</td>\n",
              "      <td>0</td>\n",
              "      <td>0</td>\n",
              "    </tr>\n",
              "  </tbody>\n",
              "</table>\n",
              "<p>5 rows × 511 columns</p>\n",
              "</div>"
            ],
            "text/plain": [
              "    airconditioningtypeid  ...  regionidzip_399675.0\n",
              "3                     0.0  ...                     0\n",
              "5                     0.0  ...                     0\n",
              "9                     0.0  ...                     0\n",
              "17                    0.0  ...                     0\n",
              "20                    0.0  ...                     0\n",
              "\n",
              "[5 rows x 511 columns]"
            ]
          },
          "metadata": {
            "tags": []
          },
          "execution_count": 67
        }
      ]
    },
    {
      "cell_type": "code",
      "metadata": {
        "id": "4Q_C7XYN1wtb",
        "colab_type": "code",
        "colab": {}
      },
      "source": [
        ""
      ],
      "execution_count": 0,
      "outputs": []
    }
  ]
}