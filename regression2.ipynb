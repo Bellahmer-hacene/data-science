{
  "nbformat": 4,
  "nbformat_minor": 0,
  "metadata": {
    "colab": {
      "name": "regression2.ipynb",
      "provenance": [],
      "authorship_tag": "ABX9TyNZ6HPanMm1HbwuyohjYaAv",
      "include_colab_link": true
    },
    "kernelspec": {
      "name": "python3",
      "display_name": "Python 3"
    }
  },
  "cells": [
    {
      "cell_type": "markdown",
      "metadata": {
        "id": "view-in-github",
        "colab_type": "text"
      },
      "source": [
        "<a href=\"https://colab.research.google.com/github/Bellahmer-hacene/data-science/blob/master/regression2.ipynb\" target=\"_parent\"><img src=\"https://colab.research.google.com/assets/colab-badge.svg\" alt=\"Open In Colab\"/></a>"
      ]
    },
    {
      "cell_type": "code",
      "metadata": {
        "id": "_pANVLetPDGy",
        "colab_type": "code",
        "outputId": "e812f0b2-15c7-4beb-dd0d-1ecd25f45bb9",
        "colab": {
          "base_uri": "https://localhost:8080/",
          "height": 237
        }
      },
      "source": [
        "!wget https://raw.githubusercontent.com/AndersonUyekita/ND111_data_science_foundations_02/master/04-Chapter04/15-Lesson_15/02-Dataset/house_prices.csv"
      ],
      "execution_count": 0,
      "outputs": [
        {
          "output_type": "stream",
          "text": [
            "--2020-04-02 14:12:33--  https://raw.githubusercontent.com/AndersonUyekita/ND111_data_science_foundations_02/master/04-Chapter04/15-Lesson_15/02-Dataset/house_prices.csv\n",
            "Resolving raw.githubusercontent.com (raw.githubusercontent.com)... 151.101.0.133, 151.101.64.133, 151.101.128.133, ...\n",
            "Connecting to raw.githubusercontent.com (raw.githubusercontent.com)|151.101.0.133|:443... connected.\n",
            "HTTP request sent, awaiting response... 200 OK\n",
            "Length: 186414 (182K) [text/plain]\n",
            "Saving to: ‘house_prices.csv’\n",
            "\n",
            "\rhouse_prices.csv      0%[                    ]       0  --.-KB/s               \rhouse_prices.csv    100%[===================>] 182.04K  --.-KB/s    in 0.02s   \n",
            "\n",
            "2020-04-02 14:12:33 (8.54 MB/s) - ‘house_prices.csv’ saved [186414/186414]\n",
            "\n"
          ],
          "name": "stdout"
        }
      ]
    },
    {
      "cell_type": "code",
      "metadata": {
        "id": "TXP_OtU1PE8Q",
        "colab_type": "code",
        "outputId": "49e09828-b6c1-48e8-cdc5-a0afb2f6a7c4",
        "colab": {
          "base_uri": "https://localhost:8080/",
          "height": 73
        }
      },
      "source": [
        "import tensorflow as tf\n",
        "import pandas as pd\n",
        "import numpy as np\n",
        "import seaborn as sns\n",
        "import matplotlib.pyplot as plt"
      ],
      "execution_count": 0,
      "outputs": [
        {
          "output_type": "stream",
          "text": [
            "/usr/local/lib/python3.6/dist-packages/statsmodels/tools/_testing.py:19: FutureWarning: pandas.util.testing is deprecated. Use the functions in the public API at pandas.testing instead.\n",
            "  import pandas.util.testing as tm\n"
          ],
          "name": "stderr"
        }
      ]
    },
    {
      "cell_type": "code",
      "metadata": {
        "id": "j4dzvXq9PLK7",
        "colab_type": "code",
        "colab": {}
      },
      "source": [
        "df = pd.read_csv('house_prices.csv')"
      ],
      "execution_count": 0,
      "outputs": []
    },
    {
      "cell_type": "code",
      "metadata": {
        "id": "n9Tm3kSDPPiY",
        "colab_type": "code",
        "outputId": "f8b7cae9-3c00-4b23-dd41-3a42bb831bd3",
        "colab": {
          "base_uri": "https://localhost:8080/",
          "height": 424
        }
      },
      "source": [
        "df"
      ],
      "execution_count": 0,
      "outputs": [
        {
          "output_type": "execute_result",
          "data": {
            "text/html": [
              "<div>\n",
              "<style scoped>\n",
              "    .dataframe tbody tr th:only-of-type {\n",
              "        vertical-align: middle;\n",
              "    }\n",
              "\n",
              "    .dataframe tbody tr th {\n",
              "        vertical-align: top;\n",
              "    }\n",
              "\n",
              "    .dataframe thead th {\n",
              "        text-align: right;\n",
              "    }\n",
              "</style>\n",
              "<table border=\"1\" class=\"dataframe\">\n",
              "  <thead>\n",
              "    <tr style=\"text-align: right;\">\n",
              "      <th></th>\n",
              "      <th>house_id</th>\n",
              "      <th>neighborhood</th>\n",
              "      <th>area</th>\n",
              "      <th>bedrooms</th>\n",
              "      <th>bathrooms</th>\n",
              "      <th>style</th>\n",
              "      <th>price</th>\n",
              "    </tr>\n",
              "  </thead>\n",
              "  <tbody>\n",
              "    <tr>\n",
              "      <th>0</th>\n",
              "      <td>1112</td>\n",
              "      <td>B</td>\n",
              "      <td>1188</td>\n",
              "      <td>3</td>\n",
              "      <td>2</td>\n",
              "      <td>ranch</td>\n",
              "      <td>598291</td>\n",
              "    </tr>\n",
              "    <tr>\n",
              "      <th>1</th>\n",
              "      <td>491</td>\n",
              "      <td>B</td>\n",
              "      <td>3512</td>\n",
              "      <td>5</td>\n",
              "      <td>3</td>\n",
              "      <td>victorian</td>\n",
              "      <td>1744259</td>\n",
              "    </tr>\n",
              "    <tr>\n",
              "      <th>2</th>\n",
              "      <td>5952</td>\n",
              "      <td>B</td>\n",
              "      <td>1134</td>\n",
              "      <td>3</td>\n",
              "      <td>2</td>\n",
              "      <td>ranch</td>\n",
              "      <td>571669</td>\n",
              "    </tr>\n",
              "    <tr>\n",
              "      <th>3</th>\n",
              "      <td>3525</td>\n",
              "      <td>A</td>\n",
              "      <td>1940</td>\n",
              "      <td>4</td>\n",
              "      <td>2</td>\n",
              "      <td>ranch</td>\n",
              "      <td>493675</td>\n",
              "    </tr>\n",
              "    <tr>\n",
              "      <th>4</th>\n",
              "      <td>5108</td>\n",
              "      <td>B</td>\n",
              "      <td>2208</td>\n",
              "      <td>6</td>\n",
              "      <td>4</td>\n",
              "      <td>victorian</td>\n",
              "      <td>1101539</td>\n",
              "    </tr>\n",
              "    <tr>\n",
              "      <th>...</th>\n",
              "      <td>...</td>\n",
              "      <td>...</td>\n",
              "      <td>...</td>\n",
              "      <td>...</td>\n",
              "      <td>...</td>\n",
              "      <td>...</td>\n",
              "      <td>...</td>\n",
              "    </tr>\n",
              "    <tr>\n",
              "      <th>6023</th>\n",
              "      <td>4373</td>\n",
              "      <td>B</td>\n",
              "      <td>757</td>\n",
              "      <td>0</td>\n",
              "      <td>0</td>\n",
              "      <td>lodge</td>\n",
              "      <td>385420</td>\n",
              "    </tr>\n",
              "    <tr>\n",
              "      <th>6024</th>\n",
              "      <td>4422</td>\n",
              "      <td>C</td>\n",
              "      <td>3540</td>\n",
              "      <td>5</td>\n",
              "      <td>3</td>\n",
              "      <td>victorian</td>\n",
              "      <td>890627</td>\n",
              "    </tr>\n",
              "    <tr>\n",
              "      <th>6025</th>\n",
              "      <td>5894</td>\n",
              "      <td>B</td>\n",
              "      <td>1518</td>\n",
              "      <td>2</td>\n",
              "      <td>1</td>\n",
              "      <td>lodge</td>\n",
              "      <td>760829</td>\n",
              "    </tr>\n",
              "    <tr>\n",
              "      <th>6026</th>\n",
              "      <td>5591</td>\n",
              "      <td>C</td>\n",
              "      <td>2270</td>\n",
              "      <td>4</td>\n",
              "      <td>2</td>\n",
              "      <td>ranch</td>\n",
              "      <td>575515</td>\n",
              "    </tr>\n",
              "    <tr>\n",
              "      <th>6027</th>\n",
              "      <td>6211</td>\n",
              "      <td>C</td>\n",
              "      <td>3355</td>\n",
              "      <td>5</td>\n",
              "      <td>3</td>\n",
              "      <td>victorian</td>\n",
              "      <td>844747</td>\n",
              "    </tr>\n",
              "  </tbody>\n",
              "</table>\n",
              "<p>6028 rows × 7 columns</p>\n",
              "</div>"
            ],
            "text/plain": [
              "      house_id neighborhood  area  bedrooms  bathrooms      style    price\n",
              "0         1112            B  1188         3          2      ranch   598291\n",
              "1          491            B  3512         5          3  victorian  1744259\n",
              "2         5952            B  1134         3          2      ranch   571669\n",
              "3         3525            A  1940         4          2      ranch   493675\n",
              "4         5108            B  2208         6          4  victorian  1101539\n",
              "...        ...          ...   ...       ...        ...        ...      ...\n",
              "6023      4373            B   757         0          0      lodge   385420\n",
              "6024      4422            C  3540         5          3  victorian   890627\n",
              "6025      5894            B  1518         2          1      lodge   760829\n",
              "6026      5591            C  2270         4          2      ranch   575515\n",
              "6027      6211            C  3355         5          3  victorian   844747\n",
              "\n",
              "[6028 rows x 7 columns]"
            ]
          },
          "metadata": {
            "tags": []
          },
          "execution_count": 4
        }
      ]
    },
    {
      "cell_type": "code",
      "metadata": {
        "id": "T2ZapOWcQwwS",
        "colab_type": "code",
        "outputId": "6cff3f37-291f-45ae-ed31-6e6626aa7cd1",
        "colab": {
          "base_uri": "https://localhost:8080/",
          "height": 526
        }
      },
      "source": [
        "plt.figure(figsize=(12,8))\n",
        "sns.distplot(df['price'])"
      ],
      "execution_count": 0,
      "outputs": [
        {
          "output_type": "execute_result",
          "data": {
            "text/plain": [
              "<matplotlib.axes._subplots.AxesSubplot at 0x7f44e0a25f28>"
            ]
          },
          "metadata": {
            "tags": []
          },
          "execution_count": 17
        },
        {
          "output_type": "display_data",
          "data": {
            "image/png": "[encoded data removed]",
            "text/plain": [
              "<Figure size 864x576 with 1 Axes>"
            ]
          },
          "metadata": {
            "tags": []
          }
        }
      ]
    },
    {
      "cell_type": "code",
      "metadata": {
        "id": "kqFHLL0oPWAc",
        "colab_type": "code",
        "colab": {}
      },
      "source": [
        "df = pd.concat([df,pd.get_dummies(df['style'],prefix=\"style\")],axis=1)\n",
        "df.drop('style', axis=1, inplace=True)\n",
        "df = pd.concat([df,pd.get_dummies(df['neighborhood'],prefix=\"neighborhood\")],axis=1)\n",
        "df.drop('neighborhood', axis=1, inplace=True)"
      ],
      "execution_count": 0,
      "outputs": []
    },
    {
      "cell_type": "code",
      "metadata": {
        "id": "YCFVLJx6Pfxy",
        "colab_type": "code",
        "colab": {}
      },
      "source": [
        "df.drop('house_id', axis=1, inplace=True)"
      ],
      "execution_count": 0,
      "outputs": []
    },
    {
      "cell_type": "code",
      "metadata": {
        "id": "_VBtgJgRPgiI",
        "colab_type": "code",
        "colab": {}
      },
      "source": [
        "X = df.drop('price',axis=1).values\n",
        "y = df['price'].values"
      ],
      "execution_count": 0,
      "outputs": []
    },
    {
      "cell_type": "code",
      "metadata": {
        "id": "baJG11z7P9Dm",
        "colab_type": "code",
        "colab": {}
      },
      "source": [
        "from sklearn.model_selection import train_test_split\n",
        "X_train, X_test, y_train, y_test = train_test_split(X,y,test_size=0.25,random_state=101)\n",
        "from sklearn.preprocessing import MinMaxScaler\n",
        "scaler = MinMaxScaler()\n",
        "X_train= scaler.fit_transform(X_train)\n",
        "X_test = scaler.transform(X_test)"
      ],
      "execution_count": 0,
      "outputs": []
    },
    {
      "cell_type": "code",
      "metadata": {
        "id": "hcKx0nG7QEtj",
        "colab_type": "code",
        "outputId": "cd8dff5c-edfd-4e81-cc91-ad2a8d2df7cf",
        "colab": {
          "base_uri": "https://localhost:8080/",
          "height": 35
        }
      },
      "source": [
        "df.shape"
      ],
      "execution_count": 0,
      "outputs": [
        {
          "output_type": "execute_result",
          "data": {
            "text/plain": [
              "(6028, 10)"
            ]
          },
          "metadata": {
            "tags": []
          },
          "execution_count": 10
        }
      ]
    },
    {
      "cell_type": "code",
      "metadata": {
        "id": "BlqAHu4BQIeN",
        "colab_type": "code",
        "outputId": "131fc758-65b3-43a2-b332-d9967ae1f0f0",
        "colab": {
          "base_uri": "https://localhost:8080/",
          "height": 1000
        }
      },
      "source": [
        "from tensorflow.keras.models import Sequential\n",
        "from tensorflow.keras.layers import Dense, Activation,Dropout\n",
        "from tensorflow.keras.callbacks import EarlyStopping\n",
        "\n",
        "# Build the neural network\n",
        "model = Sequential()\n",
        "model.add(Dense(units=100, activation='relu', input_shape=(9, ))) # Hidden 1\n",
        "model.add(Dense(100, activation='relu'))\n",
        "model.add(Dense(100, activation='relu'))\n",
        "model.add(Dense(100, activation='relu'))\n",
        "model.add(Dense(100, activation='relu'))\n",
        "model.add(Dense(100, activation='relu'))\n",
        "model.add(Dense(100, activation='relu'))\n",
        "model.add(Dense(1)) # Output\n",
        "model.compile(loss='mean_squared_error', optimizer='adam')\n",
        "monitor = EarlyStopping(monitor='val_loss', min_delta=1e-3, \n",
        "                        patience=5, verbose=1, mode='auto', restore_best_weights=True)\n",
        "model.fit(X_train,y_train,validation_data=(X_test,y_test),callbacks=[monitor],verbose=2,epochs=1000)"
      ],
      "execution_count": 0,
      "outputs": [
        {
          "output_type": "stream",
          "text": [
            "Epoch 1/1000\n",
            "142/142 - 1s - loss: 501398962176.0000 - val_loss: 94135214080.0000\n",
            "Epoch 2/1000\n",
            "142/142 - 0s - loss: 63442673664.0000 - val_loss: 46706806784.0000\n",
            "Epoch 3/1000\n",
            "142/142 - 0s - loss: 38135201792.0000 - val_loss: 29107593216.0000\n",
            "Epoch 4/1000\n",
            "142/142 - 0s - loss: 23079616512.0000 - val_loss: 16880315392.0000\n",
            "Epoch 5/1000\n",
            "142/142 - 0s - loss: 13814977536.0000 - val_loss: 10337317888.0000\n",
            "Epoch 6/1000\n",
            "142/142 - 0s - loss: 8352211456.0000 - val_loss: 6494687744.0000\n",
            "Epoch 7/1000\n",
            "142/142 - 0s - loss: 4925830144.0000 - val_loss: 3657572096.0000\n",
            "Epoch 8/1000\n",
            "142/142 - 0s - loss: 2565332224.0000 - val_loss: 1754068992.0000\n",
            "Epoch 9/1000\n",
            "142/142 - 0s - loss: 1124929536.0000 - val_loss: 708031552.0000\n",
            "Epoch 10/1000\n",
            "142/142 - 0s - loss: 422923296.0000 - val_loss: 368894880.0000\n",
            "Epoch 11/1000\n",
            "142/142 - 0s - loss: 215767456.0000 - val_loss: 191504576.0000\n",
            "Epoch 12/1000\n",
            "142/142 - 0s - loss: 105491544.0000 - val_loss: 95613784.0000\n",
            "Epoch 13/1000\n",
            "142/142 - 0s - loss: 57158592.0000 - val_loss: 63184688.0000\n",
            "Epoch 14/1000\n",
            "142/142 - 0s - loss: 39986396.0000 - val_loss: 49367900.0000\n",
            "Epoch 15/1000\n",
            "142/142 - 0s - loss: 31942172.0000 - val_loss: 43662300.0000\n",
            "Epoch 16/1000\n",
            "142/142 - 0s - loss: 25258070.0000 - val_loss: 38010044.0000\n",
            "Epoch 17/1000\n",
            "142/142 - 0s - loss: 22668802.0000 - val_loss: 39137096.0000\n",
            "Epoch 18/1000\n",
            "142/142 - 0s - loss: 19366292.0000 - val_loss: 30855410.0000\n",
            "Epoch 19/1000\n",
            "142/142 - 0s - loss: 17095120.0000 - val_loss: 25418206.0000\n",
            "Epoch 20/1000\n",
            "142/142 - 0s - loss: 13617641.0000 - val_loss: 27220178.0000\n",
            "Epoch 21/1000\n",
            "142/142 - 0s - loss: 12489144.0000 - val_loss: 20791006.0000\n",
            "Epoch 22/1000\n",
            "142/142 - 0s - loss: 11520664.0000 - val_loss: 19595186.0000\n",
            "Epoch 23/1000\n",
            "142/142 - 0s - loss: 10503199.0000 - val_loss: 22036302.0000\n",
            "Epoch 24/1000\n",
            "142/142 - 0s - loss: 8524310.0000 - val_loss: 21948606.0000\n",
            "Epoch 25/1000\n",
            "142/142 - 0s - loss: 9093992.0000 - val_loss: 23385520.0000\n",
            "Epoch 26/1000\n",
            "142/142 - 0s - loss: 9564561.0000 - val_loss: 15029869.0000\n",
            "Epoch 27/1000\n",
            "142/142 - 0s - loss: 9688477.0000 - val_loss: 17961134.0000\n",
            "Epoch 28/1000\n",
            "142/142 - 0s - loss: 6071051.5000 - val_loss: 15151877.0000\n",
            "Epoch 29/1000\n",
            "142/142 - 0s - loss: 7903017.5000 - val_loss: 20310164.0000\n",
            "Epoch 30/1000\n",
            "142/142 - 0s - loss: 5009756.0000 - val_loss: 13113135.0000\n",
            "Epoch 31/1000\n",
            "142/142 - 0s - loss: 4154100.2500 - val_loss: 15610945.0000\n",
            "Epoch 32/1000\n",
            "142/142 - 0s - loss: 4842354.0000 - val_loss: 12372837.0000\n",
            "Epoch 33/1000\n",
            "142/142 - 0s - loss: 10687565.0000 - val_loss: 14574033.0000\n",
            "Epoch 34/1000\n",
            "142/142 - 0s - loss: 4325893.5000 - val_loss: 14752745.0000\n",
            "Epoch 35/1000\n",
            "142/142 - 0s - loss: 4235833.5000 - val_loss: 15909860.0000\n",
            "Epoch 36/1000\n",
            "142/142 - 0s - loss: 4148683.7500 - val_loss: 14011956.0000\n",
            "Epoch 37/1000\n",
            "Restoring model weights from the end of the best epoch.\n",
            "142/142 - 0s - loss: 4235947.5000 - val_loss: 16279307.0000\n",
            "Epoch 00037: early stopping\n"
          ],
          "name": "stdout"
        },
        {
          "output_type": "execute_result",
          "data": {
            "text/plain": [
              "<tensorflow.python.keras.callbacks.History at 0x7f44e3e76240>"
            ]
          },
          "metadata": {
            "tags": []
          },
          "execution_count": 11
        }
      ]
    },
    {
      "cell_type": "code",
      "metadata": {
        "id": "D5B9LQ3TQLCb",
        "colab_type": "code",
        "outputId": "8b41fc8c-a036-4949-c725-f044ebb216de",
        "colab": {
          "base_uri": "https://localhost:8080/",
          "height": 312
        }
      },
      "source": [
        "plt.figure(figsize=(12,8))\n",
        "losses = pd.DataFrame(model.history.history)\n",
        "losses.plot()"
      ],
      "execution_count": 0,
      "outputs": [
        {
          "output_type": "execute_result",
          "data": {
            "text/plain": [
              "<matplotlib.axes._subplots.AxesSubplot at 0x7f44df762b38>"
            ]
          },
          "metadata": {
            "tags": []
          },
          "execution_count": 12
        },
        {
          "output_type": "display_data",
          "data": {
            "text/plain": [
              "<Figure size 864x576 with 0 Axes>"
            ]
          },
          "metadata": {
            "tags": []
          }
        },
        {
          "output_type": "display_data",
          "data": {
            "image/png": "[encoded data removed]",
            "text/plain": [
              "<Figure size 432x288 with 1 Axes>"
            ]
          },
          "metadata": {
            "tags": []
          }
        }
      ]
    },
    {
      "cell_type": "code",
      "metadata": {
        "id": "lEP0A_MvQQwE",
        "colab_type": "code",
        "outputId": "dfe07e71-d3b9-43ae-93b3-999c8d9166c9",
        "colab": {
          "base_uri": "https://localhost:8080/",
          "height": 90
        }
      },
      "source": [
        "from sklearn.metrics import mean_squared_error,mean_absolute_error,explained_variance_score\n",
        "\n",
        "predictions = model.predict(X_test)\n",
        "\n",
        "MSE = mean_squared_error(y_test,predictions)\n",
        "RMSE = np.sqrt(mean_squared_error(y_test,predictions))\n",
        "MAE = mean_absolute_error(y_test,predictions)\n",
        "EVS = explained_variance_score(y_test,predictions)\n",
        "print(\"MSE : {}\".format(MSE))\n",
        "print(\"RMSE : {}\".format(RMSE))\n",
        "print(\"MAE : {}\".format(MAE))\n",
        "print(\"EVS : {}\".format(EVS))"
      ],
      "execution_count": 0,
      "outputs": [
        {
          "output_type": "stream",
          "text": [
            "MSE : 12603883.199452654\n",
            "RMSE : 3550.194811479034\n",
            "MAE : 1188.1586496091159\n",
            "EVS : 0.9999557919913703\n"
          ],
          "name": "stdout"
        }
      ]
    },
    {
      "cell_type": "code",
      "metadata": {
        "id": "B1ds6zBcQTIP",
        "colab_type": "code",
        "colab": {}
      },
      "source": [
        "def chart_regression(pred, y, sort=True):\n",
        "    plt.figure(figsize=(12,8))\n",
        "    t = pd.DataFrame({'pred': pred, 'y': y.flatten()})\n",
        "    if sort:\n",
        "        t.sort_values(by=['y'], inplace=True) \n",
        "    plt.plot(t['pred'].tolist(), label='prediction')\n",
        "    plt.plot(t['y'].tolist(), label='expected')\n",
        "    plt.ylabel('output')\n",
        "    plt.legend()\n",
        "    plt.show()"
      ],
      "execution_count": 0,
      "outputs": []
    },
    {
      "cell_type": "code",
      "metadata": {
        "id": "WjBc3iCCQexj",
        "colab_type": "code",
        "outputId": "8960ae38-5019-4919-920c-441a971d9b24",
        "colab": {
          "base_uri": "https://localhost:8080/",
          "height": 494
        }
      },
      "source": [
        "chart_regression(predictions.flatten(),y_test)"
      ],
      "execution_count": 0,
      "outputs": [
        {
          "output_type": "display_data",
          "data": {
            "image/png": "[encoded data removed]",
            "text/plain": [
              "<Figure size 864x576 with 1 Axes>"
            ]
          },
          "metadata": {
            "tags": []
          }
        }
      ]
    },
    {
      "cell_type": "code",
      "metadata": {
        "id": "6Z8mx4NlQgY_",
        "colab_type": "code",
        "outputId": "381623e3-041d-4c76-b224-6673c89ce56e",
        "colab": {
          "base_uri": "https://localhost:8080/",
          "height": 525
        }
      },
      "source": [
        "plt.figure(figsize=(12,8))\n",
        "# Our predictions\n",
        "plt.scatter(y_test,predictions)\n",
        "\n",
        "# Perfect predictions\n",
        "plt.plot(y_test,y_test,'r')"
      ],
      "execution_count": 0,
      "outputs": [
        {
          "output_type": "execute_result",
          "data": {
            "text/plain": [
              "[<matplotlib.lines.Line2D at 0x7f44df6bb8d0>]"
            ]
          },
          "metadata": {
            "tags": []
          },
          "execution_count": 16
        },
        {
          "output_type": "display_data",
          "data": {
            "image/png": "[encoded data removed]",
            "text/plain": [
              "<Figure size 864x576 with 1 Axes>"
            ]
          },
          "metadata": {
            "tags": []
          }
        }
      ]
    },
    {
      "cell_type": "code",
      "metadata": {
        "id": "LCBGvAXRQjGv",
        "colab_type": "code",
        "colab": {}
      },
      "source": [
        ""
      ],
      "execution_count": 0,
      "outputs": []
    }
  ]
}