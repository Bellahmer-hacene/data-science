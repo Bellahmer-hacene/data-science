{
  "nbformat": 4,
  "nbformat_minor": 0,
  "metadata": {
    "colab": {
      "name": "zillow.ipynb",
      "provenance": [],
      "collapsed_sections": [],
      "authorship_tag": "ABX9TyNQ3O+0DhUisxzbz71evU7O",
      "include_colab_link": true
    },
    "kernelspec": {
      "name": "python3",
      "display_name": "Python 3"
    }
  },
  "cells": [
    {
      "cell_type": "markdown",
      "metadata": {
        "id": "view-in-github",
        "colab_type": "text"
      },
      "source": [
        "<a href=\"https://colab.research.google.com/github/Bellahmer-hacene/data-science/blob/master/zillow.ipynb\" target=\"_parent\"><img src=\"https://colab.research.google.com/assets/colab-badge.svg\" alt=\"Open In Colab\"/></a>"
      ]
    },
    {
      "cell_type": "markdown",
      "metadata": {
        "id": "4bDopbDtN8Gr",
        "colab_type": "text"
      },
      "source": [
        "# Dataset \n",
        "https://www.kaggle.com/c/zillow-prize-1/data\n",
        "#Parametres \n",
        "\n",
        "\n",
        "*   'airconditioningtypeid' : Type de système de refroidissement présent dans la maison (le cas échéant)\n",
        "*   'architecturalstyletypeid' :  Style architectural de la maison (c'est-à-dire ranch, colonial, split-level, etc...)\n",
        "*   'basementsqft' :  Surface habitable finie sous ou partiellement sous le niveau du sol\n",
        "*  'bathroomcnt' :  Nombre de salles de bains dans la maison, y compris les salles de bains fractionnées\n",
        "*   'bedroomcnt' :  Nombre de chambres à coucher dans la maison \n",
        "*   'buildingqualitytypeid' : Évaluation globale de l'état du bâtiment, du meilleur (le plus bas) au pire (le plus élevé)\n",
        "*   'buildingclasstypeid' : Le type de charpente du bâtiment (charpente métallique, charpente en bois, béton/brique) \n",
        "*   'calculatedbathnbr' :  Nombre de salles de bains dans la maison, y compris la salle de bains fractionnée\n",
        "*   'decktypeid' : Type de la terrasse (le cas échéant) présente sur la parcelle\n",
        "*   'threequarterbathnbr' :  Nombre de 3/4 salles de bain dans la maison (douche + lavabo + toilettes)\n",
        "*   'finishedfloor1squarefeet'********* : Taille de la surface habitable finie au premier étage (entrée) de la maison\n",
        "*   'calculatedfinishedsquarefeet' : Calcul de la surface habitable finie totale de la maison\n",
        "*   'finishedsquarefeet6' : Base inachevée et zone achevée\n",
        "*   'finishedsquarefeet12' : Surface habitable finie\n",
        "*   'finishedsquarefeet13' : Périmètre de l'espace de vie\n",
        "*   'finishedsquarefeet15' : Superficie totale\n",
        "*   'finishedsquarefeet50'*********** :  Taille de la surface habitable finie au premier étage (entrée) de la maison\n",
        "*   'fips' : Code du Federal Information Processing Standard - voir https://en.wikipedia.org/wiki/FIPS_county_code pour plus de détails\n",
        "*   'fireplacecnt' :  Nombre de cheminées dans une maison (le cas échéant)\n",
        "*   'fireplaceflag' :  Une cheminée est-elle présente dans cette maison \n",
        "*   'fullbathcnt' :  Nombre de salles de bain complètes (lavabo, douche + baignoire et toilettes) présentes dans le logement\n",
        "*   'garagecarcnt' :  Nombre total de garages sur le terrain, y compris un garage attaché\n",
        "*   'garagetotalsqft' : Nombre total de pieds carrés de tous les garages sur le terrain, y compris un garage attaché\n",
        "*   'hashottuborspa' :  La maison dispose-t-elle d'un spa ou d'une station thermale ?\n",
        "*   'heatingorsystemtypeid' :  Type de système de chauffage domestique\n",
        "*   'latitude' :  Latitude du milieu de la Parcelle multipliée par 10e6\n",
        "*   'longitude' :  Longitude du milieu de la parcelle multipliée par 10e6\n",
        "*   'lotsizesquarefeet' :  Superficie du terrain en pieds carrés\n",
        "*   'numberofstories' :  Nombre de niveaux que possède le logement\n",
        "*   'parcelid' :  Identifiant unique pour les parcelles (lots) \n",
        "*   'poolcnt' :  Nombre de piscines sur le terrain (le cas échéant)\n",
        "*   'poolsizesum' :  Superficie totale en pieds carrés de toutes les piscines\n",
        "*   'pooltypeid10' :  Spa ou jacuzzi\n",
        "*   'pooltypeid2' :  Piscine avec spa/bain chauffant\n",
        "*   'pooltypeid7' :  Piscine sans jacuzzi\n",
        "*   'propertycountylandusecode' :  Code d'utilisation des terres du comté, c'est-à-dire le zonage au niveau du comté\n",
        "*   'propertylandusetypeid' :  Type d'utilisation du terrain pour lequel la propriété est zonée\n",
        "*   'propertyzoningdesc' : Description des utilisations du sol autorisées (zonage) pour cette propriété\n",
        "* 'rawcensustractandblock'***** : Identification combinée des secteurs de recensement et des blocs - contient également l'attribution de groupes de blocs par extension\n",
        "* 'censustractandblock'******* : Identification combinée des secteurs de recensement et des blocs - contient également l'attribution de groupes de blocs par extension\n",
        "* 'regionidcounty' : Comté dans lequel le bien est situé\n",
        "* 'regionidcity' :  Ville dans laquelle le bien est situé (le cas échéant) \n",
        "* 'regionidzip' :  Code postal dans lequel se trouve le bien\n",
        "* 'regionidneighborhood' : Quartier dans lequel se trouve le bien\n",
        "* 'roomcnt' : Nombre total de chambres dans la résidence principale\n",
        "* 'storytypeid' : Type d'étage dans une maison à plusieurs étages (c'est-à-dire sous-sol et niveau principal, étage intermédiaire, grenier, etc.) Voir l'onglet pour plus de détails.\n",
        "* 'typeconstructiontypeid' :  Quel type de matériau de construction a été utilisé pour construire la maison\n",
        "* 'unitcnt' : Nombre d'unités dans lesquelles la structure est intégrée (c'est-à-dire 2 = duplex, 3 = triplex, etc...)\n",
        "* 'yardbuildingsqft17' : Terrasse dans la cour\n",
        "* 'yardbuildingsqft26' : Hangar de stockage / bâtiment dans la cour\n",
        "* 'yearbuilt' :  L'année où la résidence principale a été construite\n",
        "* 'taxvaluedollarcnt' : La valeur imposable totale de la parcelle\n",
        "* 'structuretaxvaluedollarcnt' : La valeur estimée de la structure construite sur la parcelle\n",
        "* 'landtaxvaluedollarcnt' : La valeur estimée de la superficie de la parcelle\n",
        "* 'taxamount' : Le montant total de l'impôt foncier évalué pour cette année d'évaluation\n",
        "* 'assessmentyear' : L'année de l'évaluation de l'impôt foncier \n",
        "* 'taxdelinquencyflag' : Les impôts fonciers pour cette parcelle sont en retard à partir de 2015\n",
        "* 'taxdelinquencyyear' : Année pour laquelle les taxes foncières impayées étaient dues \n",
        "\n",
        "\n",
        "\n",
        "\n",
        "\n",
        "\n",
        "\n",
        "\n",
        "\n",
        "\n",
        "\n",
        "\n",
        "\n",
        "\n",
        "---\n",
        "\n"
      ]
    },
    {
      "cell_type": "code",
      "metadata": {
        "id": "d_zNJuiWdXFO",
        "colab_type": "code",
        "outputId": "9a83164f-a56f-4492-a989-f99aa0baedca",
        "colab": {
          "base_uri": "https://localhost:8080/",
          "height": 129
        }
      },
      "source": [
        "from google.colab import drive\n",
        "drive.mount('/content/gdrive')"
      ],
      "execution_count": 1,
      "outputs": [
        {
          "output_type": "stream",
          "text": [
            "Go to this URL in a browser: https://accounts.google.com/o/oauth2/auth?client_id=947318989803-6bn6qk8qdgf4n4g3pfee6491hc0brc4i.apps.googleusercontent.com&redirect_uri=urn%3aietf%3awg%3aoauth%3a2.0%3aoob&response_type=code&scope=email%20https%3a%2f%2fwww.googleapis.com%2fauth%2fdocs.test%20https%3a%2f%2fwww.googleapis.com%2fauth%2fdrive%20https%3a%2f%2fwww.googleapis.com%2fauth%2fdrive.photos.readonly%20https%3a%2f%2fwww.googleapis.com%2fauth%2fpeopleapi.readonly\n",
            "\n",
            "Enter your authorization code:\n",
            "··········\n",
            "Mounted at /content/gdrive\n"
          ],
          "name": "stdout"
        }
      ]
    },
    {
      "cell_type": "code",
      "metadata": {
        "id": "bJiGzYyOdidM",
        "colab_type": "code",
        "outputId": "e809acbd-17d8-4351-a2e9-f994a6ba4430",
        "colab": {
          "base_uri": "https://localhost:8080/",
          "height": 35
        }
      },
      "source": [
        "!ls '/content/gdrive/My Drive/dataset'"
      ],
      "execution_count": 2,
      "outputs": [
        {
          "output_type": "stream",
          "text": [
            "properties_2016.csv  zillow.csv\n"
          ],
          "name": "stdout"
        }
      ]
    },
    {
      "cell_type": "code",
      "metadata": {
        "id": "2JuMxKGre06L",
        "colab_type": "code",
        "outputId": "04529e72-1617-4880-9e86-fa0a09396289",
        "colab": {
          "base_uri": "https://localhost:8080/",
          "height": 74
        }
      },
      "source": [
        "import tensorflow as tf\n",
        "import pandas as pd\n",
        "import numpy as np\n",
        "import seaborn as sns\n",
        "import matplotlib.pyplot as plt\n",
        "%load_ext tensorboard"
      ],
      "execution_count": 3,
      "outputs": [
        {
          "output_type": "stream",
          "text": [
            "/usr/local/lib/python3.6/dist-packages/statsmodels/tools/_testing.py:19: FutureWarning: pandas.util.testing is deprecated. Use the functions in the public API at pandas.testing instead.\n",
            "  import pandas.util.testing as tm\n"
          ],
          "name": "stderr"
        }
      ]
    },
    {
      "cell_type": "code",
      "metadata": {
        "id": "9o1pvITUdz0P",
        "colab_type": "code",
        "outputId": "526a64d7-e066-457e-e412-80496722b223",
        "colab": {
          "base_uri": "https://localhost:8080/",
          "height": 74
        }
      },
      "source": [
        "df = pd.read_csv('/content/gdrive/My Drive/dataset/properties_2016.csv')"
      ],
      "execution_count": 4,
      "outputs": [
        {
          "output_type": "stream",
          "text": [
            "/usr/local/lib/python3.6/dist-packages/IPython/core/interactiveshell.py:2718: DtypeWarning: Columns (22,32,34,49,55) have mixed types.Specify dtype option on import or set low_memory=False.\n",
            "  interactivity=interactivity, compiler=compiler, result=result)\n"
          ],
          "name": "stderr"
        }
      ]
    },
    {
      "cell_type": "code",
      "metadata": {
        "id": "H_AxpP-YfB3a",
        "colab_type": "code",
        "outputId": "6c82e721-03f0-4bb6-8feb-a0ad45b2b646",
        "colab": {
          "base_uri": "https://localhost:8080/",
          "height": 35
        }
      },
      "source": [
        "len(df)"
      ],
      "execution_count": 0,
      "outputs": [
        {
          "output_type": "execute_result",
          "data": {
            "text/plain": [
              "2985217"
            ]
          },
          "metadata": {
            "tags": []
          },
          "execution_count": 7
        }
      ]
    },
    {
      "cell_type": "code",
      "metadata": {
        "id": "7QMHi3mVgN90",
        "colab_type": "code",
        "outputId": "e172e00c-eabf-46f0-e3d6-357c5c4601b5",
        "colab": {
          "base_uri": "https://localhost:8080/",
          "height": 1000
        }
      },
      "source": [
        "100* df.isnull().sum()/len(df) "
      ],
      "execution_count": 0,
      "outputs": [
        {
          "output_type": "execute_result",
          "data": {
            "text/plain": [
              "parcelid                         0.000000\n",
              "airconditioningtypeid           72.815410\n",
              "architecturalstyletypeid        99.796966\n",
              "basementsqft                    99.945465\n",
              "bathroomcnt                      0.383959\n",
              "bedroomcnt                       0.383557\n",
              "buildingclasstypeid             99.576949\n",
              "buildingqualitytypeid           35.063749\n",
              "calculatedbathnbr                4.318346\n",
              "decktypeid                      99.427311\n",
              "finishedfloor1squarefeet        93.209304\n",
              "calculatedfinishedsquarefeet     1.861339\n",
              "finishedsquarefeet12             9.246664\n",
              "finishedsquarefeet13            99.743000\n",
              "finishedsquarefeet15            93.608572\n",
              "finishedsquarefeet50            93.209304\n",
              "finishedsquarefeet6             99.263002\n",
              "fips                             0.383121\n",
              "fireplacecnt                    89.527160\n",
              "fullbathcnt                      4.318346\n",
              "garagecarcnt                    70.411967\n",
              "garagetotalsqft                 70.411967\n",
              "hashottuborspa                  97.688141\n",
              "heatingorsystemtypeid           39.488453\n",
              "latitude                         0.383121\n",
              "longitude                        0.383121\n",
              "lotsizesquarefeet                9.248875\n",
              "poolcnt                         82.663438\n",
              "poolsizesum                     99.063385\n",
              "pooltypeid10                    98.762603\n",
              "pooltypeid2                     98.925539\n",
              "pooltypeid7                     83.737899\n",
              "propertycountylandusecode        0.411260\n",
              "propertylandusetypeid            0.383121\n",
              "propertyzoningdesc              33.719090\n",
              "rawcensustractandblock           0.383121\n",
              "regionidcity                     2.105207\n",
              "regionidcounty                   0.383121\n",
              "regionidneighborhood            61.262381\n",
              "regionidzip                      0.468308\n",
              "roomcnt                          0.384394\n",
              "storytypeid                     99.945599\n",
              "threequarterbathnbr             89.560859\n",
              "typeconstructiontypeid          99.773986\n",
              "unitcnt                         33.757244\n",
              "yardbuildingsqft17              97.308236\n",
              "yardbuildingsqft26              99.911330\n",
              "yearbuilt                        2.007492\n",
              "numberofstories                 77.151778\n",
              "fireplaceflag                   99.827048\n",
              "structuretaxvaluedollarcnt       1.841809\n",
              "taxvaluedollarcnt                1.425357\n",
              "assessmentyear                   0.383188\n",
              "landtaxvaluedollarcnt            2.268947\n",
              "taxamount                        1.046825\n",
              "taxdelinquencyflag              98.108613\n",
              "taxdelinquencyyear              98.108546\n",
              "censustractandblock              2.516601\n",
              "dtype: float64"
            ]
          },
          "metadata": {
            "tags": []
          },
          "execution_count": 11
        }
      ]
    },
    {
      "cell_type": "code",
      "metadata": {
        "id": "CLJ8C5i3PMo4",
        "colab_type": "code",
        "outputId": "063729f4-034c-4499-eefe-30013210b7a4",
        "colab": {
          "base_uri": "https://localhost:8080/",
          "height": 1000
        }
      },
      "source": [
        "(100* df.isnull().sum()/len(df) > 99)"
      ],
      "execution_count": 0,
      "outputs": [
        {
          "output_type": "execute_result",
          "data": {
            "text/plain": [
              "parcelid                        False\n",
              "airconditioningtypeid           False\n",
              "architecturalstyletypeid         True\n",
              "basementsqft                     True\n",
              "bathroomcnt                     False\n",
              "bedroomcnt                      False\n",
              "buildingclasstypeid              True\n",
              "buildingqualitytypeid           False\n",
              "calculatedbathnbr               False\n",
              "decktypeid                       True\n",
              "finishedfloor1squarefeet        False\n",
              "calculatedfinishedsquarefeet    False\n",
              "finishedsquarefeet12            False\n",
              "finishedsquarefeet13             True\n",
              "finishedsquarefeet15            False\n",
              "finishedsquarefeet50            False\n",
              "finishedsquarefeet6              True\n",
              "fips                            False\n",
              "fireplacecnt                    False\n",
              "fullbathcnt                     False\n",
              "garagecarcnt                    False\n",
              "garagetotalsqft                 False\n",
              "hashottuborspa                  False\n",
              "heatingorsystemtypeid           False\n",
              "latitude                        False\n",
              "longitude                       False\n",
              "lotsizesquarefeet               False\n",
              "poolcnt                         False\n",
              "poolsizesum                      True\n",
              "pooltypeid10                    False\n",
              "pooltypeid2                     False\n",
              "pooltypeid7                     False\n",
              "propertycountylandusecode       False\n",
              "propertylandusetypeid           False\n",
              "propertyzoningdesc              False\n",
              "rawcensustractandblock          False\n",
              "regionidcity                    False\n",
              "regionidcounty                  False\n",
              "regionidneighborhood            False\n",
              "regionidzip                     False\n",
              "roomcnt                         False\n",
              "storytypeid                      True\n",
              "threequarterbathnbr             False\n",
              "typeconstructiontypeid           True\n",
              "unitcnt                         False\n",
              "yardbuildingsqft17              False\n",
              "yardbuildingsqft26               True\n",
              "yearbuilt                       False\n",
              "numberofstories                 False\n",
              "fireplaceflag                    True\n",
              "structuretaxvaluedollarcnt      False\n",
              "taxvaluedollarcnt               False\n",
              "assessmentyear                  False\n",
              "landtaxvaluedollarcnt           False\n",
              "taxamount                       False\n",
              "taxdelinquencyflag              False\n",
              "taxdelinquencyyear              False\n",
              "censustractandblock             False\n",
              "dtype: bool"
            ]
          },
          "metadata": {
            "tags": []
          },
          "execution_count": 7
        }
      ]
    },
    {
      "cell_type": "code",
      "metadata": {
        "id": "gdjPL8xhV_dy",
        "colab_type": "code",
        "outputId": "7971cc75-3d03-4f2d-b0bc-883fe87d0bfa",
        "colab": {
          "base_uri": "https://localhost:8080/",
          "height": 1000
        }
      },
      "source": [
        "df.corr()['taxvaluedollarcnt'].sort_values()"
      ],
      "execution_count": 0,
      "outputs": [
        {
          "output_type": "execute_result",
          "data": {
            "text/plain": [
              "heatingorsystemtypeid          -0.132412\n",
              "buildingclasstypeid            -0.084137\n",
              "propertylandusetypeid          -0.069751\n",
              "buildingqualitytypeid          -0.063837\n",
              "latitude                       -0.060417\n",
              "regionidcounty                 -0.026945\n",
              "longitude                      -0.021459\n",
              "regionidcity                   -0.017477\n",
              "assessmentyear                 -0.009821\n",
              "rawcensustractandblock          0.001302\n",
              "fips                            0.001595\n",
              "roomcnt                         0.002720\n",
              "censustractandblock             0.003063\n",
              "lotsizesquarefeet               0.003650\n",
              "parcelid                        0.004463\n",
              "architecturalstyletypeid        0.005196\n",
              "regionidneighborhood            0.011881\n",
              "airconditioningtypeid           0.013516\n",
              "regionidzip                     0.014398\n",
              "decktypeid                      0.023768\n",
              "taxdelinquencyyear              0.029781\n",
              "finishedsquarefeet6             0.049304\n",
              "typeconstructiontypeid          0.080559\n",
              "yardbuildingsqft26              0.083529\n",
              "numberofstories                 0.110480\n",
              "yearbuilt                       0.137470\n",
              "bedroomcnt                      0.147426\n",
              "unitcnt                         0.169403\n",
              "finishedsquarefeet13            0.193165\n",
              "poolsizesum                     0.260268\n",
              "yardbuildingsqft17              0.278682\n",
              "garagetotalsqft                 0.317558\n",
              "garagecarcnt                    0.320411\n",
              "threequarterbathnbr             0.325049\n",
              "bathroomcnt                     0.326395\n",
              "fireplacecnt                    0.362276\n",
              "fullbathcnt                     0.449540\n",
              "basementsqft                    0.461338\n",
              "calculatedbathnbr               0.463487\n",
              "finishedfloor1squarefeet        0.530985\n",
              "calculatedfinishedsquarefeet    0.535773\n",
              "finishedsquarefeet50            0.537105\n",
              "finishedsquarefeet12            0.596757\n",
              "finishedsquarefeet15            0.685283\n",
              "structuretaxvaluedollarcnt      0.846456\n",
              "landtaxvaluedollarcnt           0.873672\n",
              "taxamount                       0.949731\n",
              "taxvaluedollarcnt               1.000000\n",
              "poolcnt                              NaN\n",
              "pooltypeid10                         NaN\n",
              "pooltypeid2                          NaN\n",
              "pooltypeid7                          NaN\n",
              "storytypeid                          NaN\n",
              "Name: taxvaluedollarcnt, dtype: float64"
            ]
          },
          "metadata": {
            "tags": []
          },
          "execution_count": 18
        }
      ]
    },
    {
      "cell_type": "markdown",
      "metadata": {
        "id": "ruSpMLuE6q26",
        "colab_type": "text"
      },
      "source": [
        "#'basementsqft' : Surface habitable finie sous ou partiellement sous le niveau du sol"
      ]
    },
    {
      "cell_type": "code",
      "metadata": {
        "id": "P7gh-X_IooH9",
        "colab_type": "code",
        "colab": {}
      },
      "source": [
        "df['basementsqft'] = df['basementsqft'].fillna(value=0)"
      ],
      "execution_count": 0,
      "outputs": []
    },
    {
      "cell_type": "code",
      "metadata": {
        "id": "xGDRpVTF6bqS",
        "colab_type": "code",
        "colab": {
          "base_uri": "https://localhost:8080/",
          "height": 526
        },
        "outputId": "f60f7666-3ea7-49cf-da12-b3197b6f4568"
      },
      "source": [
        "plt.figure(figsize=(12,8))\n",
        "df.groupby('basementsqft').mean()['taxvaluedollarcnt'].plot()"
      ],
      "execution_count": 6,
      "outputs": [
        {
          "output_type": "execute_result",
          "data": {
            "text/plain": [
              "<matplotlib.axes._subplots.AxesSubplot at 0x7f7117fe1630>"
            ]
          },
          "metadata": {
            "tags": []
          },
          "execution_count": 6
        },
        {
          "output_type": "display_data",
          "data": {
            "image/png": "[encoded data removed]",
            "text/plain": [
              "<Figure size 864x576 with 1 Axes>"
            ]
          },
          "metadata": {
            "tags": [],
            "needs_background": "light"
          }
        }
      ]
    },
    {
      "cell_type": "markdown",
      "metadata": {
        "id": "5HkNV-3P7JpX",
        "colab_type": "text"
      },
      "source": [
        "#'buildingclasstypeid' : Le type de charpente du bâtiment (charpente métallique, charpente en bois, béton/brique) "
      ]
    },
    {
      "cell_type": "code",
      "metadata": {
        "id": "dgpYIBDs6-6K",
        "colab_type": "code",
        "colab": {
          "base_uri": "https://localhost:8080/",
          "height": 526
        },
        "outputId": "40771941-4758-47f6-eba4-67f300dbfd5c"
      },
      "source": [
        "plt.figure(figsize=(12,8))\n",
        "df.groupby('buildingclasstypeid').mean()['taxvaluedollarcnt'].plot()"
      ],
      "execution_count": 7,
      "outputs": [
        {
          "output_type": "execute_result",
          "data": {
            "text/plain": [
              "<matplotlib.axes._subplots.AxesSubplot at 0x7f7117f2ff98>"
            ]
          },
          "metadata": {
            "tags": []
          },
          "execution_count": 7
        },
        {
          "output_type": "display_data",
          "data": {
            "image/png": "[encoded data removed]",
            "text/plain": [
              "<Figure size 864x576 with 1 Axes>"
            ]
          },
          "metadata": {
            "tags": [],
            "needs_background": "light"
          }
        }
      ]
    },
    {
      "cell_type": "code",
      "metadata": {
        "id": "_MSGTbEYqYgI",
        "colab_type": "code",
        "colab": {}
      },
      "source": [
        "df['buildingclasstypeid'] = df['buildingclasstypeid'].fillna(value=6)"
      ],
      "execution_count": 0,
      "outputs": []
    },
    {
      "cell_type": "markdown",
      "metadata": {
        "id": "RTYEGwzW5b22",
        "colab_type": "text"
      },
      "source": [
        "#'decktypeid' : Type de la terrasse (le cas échéant) présente sur la parcelle"
      ]
    },
    {
      "cell_type": "code",
      "metadata": {
        "id": "7TGg4uQurTZS",
        "colab_type": "code",
        "colab": {}
      },
      "source": [
        "df['decktypeid'] = df['decktypeid'].fillna(value=0)"
      ],
      "execution_count": 0,
      "outputs": []
    },
    {
      "cell_type": "code",
      "metadata": {
        "id": "rx6zYp4-79qV",
        "colab_type": "code",
        "colab": {
          "base_uri": "https://localhost:8080/",
          "height": 515
        },
        "outputId": "d39e536f-a61d-4f18-8762-7408e249a759"
      },
      "source": [
        "plt.figure(figsize=(12,8))\n",
        "df.groupby('decktypeid').mean()['taxvaluedollarcnt'].plot()"
      ],
      "execution_count": 14,
      "outputs": [
        {
          "output_type": "execute_result",
          "data": {
            "text/plain": [
              "<matplotlib.axes._subplots.AxesSubplot at 0x7f71178df860>"
            ]
          },
          "metadata": {
            "tags": []
          },
          "execution_count": 14
        },
        {
          "output_type": "display_data",
          "data": {
            "image/png": "[encoded data removed]",
            "text/plain": [
              "<Figure size 864x576 with 1 Axes>"
            ]
          },
          "metadata": {
            "tags": [],
            "needs_background": "light"
          }
        }
      ]
    },
    {
      "cell_type": "markdown",
      "metadata": {
        "id": "Uc7tvb4g72UV",
        "colab_type": "text"
      },
      "source": [
        "#'storytypeid' : Type d'étage dans une maison à plusieurs étages (c'est-à-dire sous-sol et niveau principal, étage intermédiaire, grenier, etc.) "
      ]
    },
    {
      "cell_type": "code",
      "metadata": {
        "id": "QwCdO_UftUNf",
        "colab_type": "code",
        "colab": {}
      },
      "source": [
        "df['storytypeid'] = df['storytypeid'].fillna(value=0)"
      ],
      "execution_count": 0,
      "outputs": []
    },
    {
      "cell_type": "code",
      "metadata": {
        "id": "Jy6m-XQM7mhy",
        "colab_type": "code",
        "colab": {
          "base_uri": "https://localhost:8080/",
          "height": 515
        },
        "outputId": "81895326-91d2-423b-ea7a-43c994fbe411"
      },
      "source": [
        "plt.figure(figsize=(12,8))\n",
        "df.groupby('storytypeid').mean()['taxvaluedollarcnt'].plot()"
      ],
      "execution_count": 11,
      "outputs": [
        {
          "output_type": "execute_result",
          "data": {
            "text/plain": [
              "<matplotlib.axes._subplots.AxesSubplot at 0x7f7117a0b860>"
            ]
          },
          "metadata": {
            "tags": []
          },
          "execution_count": 11
        },
        {
          "output_type": "display_data",
          "data": {
            "image/png": "[encoded data removed]",
            "text/plain": [
              "<Figure size 864x576 with 1 Axes>"
            ]
          },
          "metadata": {
            "tags": [],
            "needs_background": "light"
          }
        }
      ]
    },
    {
      "cell_type": "code",
      "metadata": {
        "id": "-Dz7oDpZ7_o_",
        "colab_type": "code",
        "colab": {}
      },
      "source": [
        "df = df.drop(['architecturalstyletypeid','finishedsquarefeet13','finishedsquarefeet6','poolsizesum','typeconstructiontypeid','yardbuildingsqft26','fireplaceflag'],axis=1)"
      ],
      "execution_count": 0,
      "outputs": []
    },
    {
      "cell_type": "code",
      "metadata": {
        "id": "Zqg8oIts7tna",
        "colab_type": "code",
        "outputId": "fffe8cbc-3f12-419c-d229-a45776279985",
        "colab": {
          "base_uri": "https://localhost:8080/",
          "height": 977
        }
      },
      "source": [
        "100* df.isnull().sum()/len(df) "
      ],
      "execution_count": 0,
      "outputs": [
        {
          "output_type": "execute_result",
          "data": {
            "text/plain": [
              "parcelid                         0.000000\n",
              "airconditioningtypeid           72.815410\n",
              "basementsqft                     0.000000\n",
              "bathroomcnt                      0.383959\n",
              "bedroomcnt                       0.383557\n",
              "buildingclasstypeid              0.000000\n",
              "buildingqualitytypeid           35.063749\n",
              "calculatedbathnbr                4.318346\n",
              "decktypeid                       0.000000\n",
              "finishedfloor1squarefeet        93.209304\n",
              "calculatedfinishedsquarefeet     1.861339\n",
              "finishedsquarefeet12             9.246664\n",
              "finishedsquarefeet15            93.608572\n",
              "finishedsquarefeet50            93.209304\n",
              "fips                             0.383121\n",
              "fireplacecnt                    89.527160\n",
              "fullbathcnt                      4.318346\n",
              "garagecarcnt                    70.411967\n",
              "garagetotalsqft                 70.411967\n",
              "hashottuborspa                  97.688141\n",
              "heatingorsystemtypeid           39.488453\n",
              "latitude                         0.383121\n",
              "longitude                        0.383121\n",
              "lotsizesquarefeet                9.248875\n",
              "poolcnt                         82.663438\n",
              "pooltypeid10                    98.762603\n",
              "pooltypeid2                     98.925539\n",
              "pooltypeid7                     83.737899\n",
              "propertycountylandusecode        0.411260\n",
              "propertylandusetypeid            0.383121\n",
              "propertyzoningdesc              33.719090\n",
              "rawcensustractandblock           0.383121\n",
              "regionidcity                     2.105207\n",
              "regionidcounty                   0.383121\n",
              "regionidneighborhood            61.262381\n",
              "regionidzip                      0.468308\n",
              "roomcnt                          0.384394\n",
              "storytypeid                      0.000000\n",
              "threequarterbathnbr             89.560859\n",
              "unitcnt                         33.757244\n",
              "yardbuildingsqft17              97.308236\n",
              "yearbuilt                        2.007492\n",
              "numberofstories                 77.151778\n",
              "structuretaxvaluedollarcnt       1.841809\n",
              "taxvaluedollarcnt                1.425357\n",
              "assessmentyear                   0.383188\n",
              "landtaxvaluedollarcnt            2.268947\n",
              "taxamount                        1.046825\n",
              "taxdelinquencyflag              98.108613\n",
              "taxdelinquencyyear              98.108546\n",
              "censustractandblock              2.516601\n",
              "dtype: float64"
            ]
          },
          "metadata": {
            "tags": []
          },
          "execution_count": 28
        }
      ]
    },
    {
      "cell_type": "code",
      "metadata": {
        "id": "z_q_ZyDQ70Lg",
        "colab_type": "code",
        "outputId": "71c4214d-93f7-4f0c-b24d-7658235b3ffa",
        "colab": {
          "base_uri": "https://localhost:8080/",
          "height": 830
        }
      },
      "source": [
        "df.corr()['taxvaluedollarcnt'].sort_values()"
      ],
      "execution_count": 0,
      "outputs": [
        {
          "output_type": "execute_result",
          "data": {
            "text/plain": [
              "heatingorsystemtypeid          -0.132412\n",
              "propertylandusetypeid          -0.069751\n",
              "buildingqualitytypeid          -0.063837\n",
              "latitude                       -0.060417\n",
              "regionidcounty                 -0.026945\n",
              "longitude                      -0.021459\n",
              "regionidcity                   -0.017477\n",
              "assessmentyear                 -0.009821\n",
              "rawcensustractandblock          0.001302\n",
              "fips                            0.001595\n",
              "roomcnt                         0.002720\n",
              "censustractandblock             0.003063\n",
              "lotsizesquarefeet               0.003650\n",
              "parcelid                        0.004463\n",
              "regionidneighborhood            0.011881\n",
              "airconditioningtypeid           0.013516\n",
              "regionidzip                     0.014398\n",
              "taxdelinquencyyear              0.029781\n",
              "numberofstories                 0.110480\n",
              "yearbuilt                       0.137470\n",
              "bedroomcnt                      0.147426\n",
              "unitcnt                         0.169403\n",
              "yardbuildingsqft17              0.278682\n",
              "garagetotalsqft                 0.317558\n",
              "garagecarcnt                    0.320411\n",
              "threequarterbathnbr             0.325049\n",
              "bathroomcnt                     0.326395\n",
              "fireplacecnt                    0.362276\n",
              "fullbathcnt                     0.449540\n",
              "calculatedbathnbr               0.463487\n",
              "finishedfloor1squarefeet        0.530985\n",
              "calculatedfinishedsquarefeet    0.535773\n",
              "finishedsquarefeet50            0.537105\n",
              "finishedsquarefeet12            0.596757\n",
              "finishedsquarefeet15            0.685283\n",
              "structuretaxvaluedollarcnt      0.846456\n",
              "landtaxvaluedollarcnt           0.873672\n",
              "taxamount                       0.949731\n",
              "taxvaluedollarcnt               1.000000\n",
              "poolcnt                              NaN\n",
              "pooltypeid10                         NaN\n",
              "pooltypeid2                          NaN\n",
              "pooltypeid7                          NaN\n",
              "Name: taxvaluedollarcnt, dtype: float64"
            ]
          },
          "metadata": {
            "tags": []
          },
          "execution_count": 19
        }
      ]
    },
    {
      "cell_type": "code",
      "metadata": {
        "id": "Qwd5cOV471Xo",
        "colab_type": "code",
        "outputId": "8125ff5e-fd6b-43b8-ae52-5d507c70385c",
        "colab": {
          "base_uri": "https://localhost:8080/",
          "height": 35
        }
      },
      "source": [
        "len(df)"
      ],
      "execution_count": 0,
      "outputs": [
        {
          "output_type": "execute_result",
          "data": {
            "text/plain": [
              "2985217"
            ]
          },
          "metadata": {
            "tags": []
          },
          "execution_count": 20
        }
      ]
    },
    {
      "cell_type": "markdown",
      "metadata": {
        "id": "aqcigU-W9L-k",
        "colab_type": "text"
      },
      "source": [
        "#'pooltypeid7' : Piscine sans jacuzzi"
      ]
    },
    {
      "cell_type": "code",
      "metadata": {
        "id": "dtbdbvoR2Uxi",
        "colab_type": "code",
        "colab": {}
      },
      "source": [
        "df['pooltypeid7'] = df['pooltypeid7'].fillna(value=0)"
      ],
      "execution_count": 0,
      "outputs": []
    },
    {
      "cell_type": "code",
      "metadata": {
        "id": "vi4FNL3P9Qvt",
        "colab_type": "code",
        "colab": {
          "base_uri": "https://localhost:8080/",
          "height": 515
        },
        "outputId": "f0688519-b523-49f6-ab67-2dddc38fcd3d"
      },
      "source": [
        "plt.figure(figsize=(12,8))\n",
        "df.groupby('pooltypeid7').mean()['taxvaluedollarcnt'].plot()"
      ],
      "execution_count": 18,
      "outputs": [
        {
          "output_type": "execute_result",
          "data": {
            "text/plain": [
              "<matplotlib.axes._subplots.AxesSubplot at 0x7f7117806f28>"
            ]
          },
          "metadata": {
            "tags": []
          },
          "execution_count": 18
        },
        {
          "output_type": "display_data",
          "data": {
            "image/png": "[encoded data removed]",
            "text/plain": [
              "<Figure size 864x576 with 1 Axes>"
            ]
          },
          "metadata": {
            "tags": [],
            "needs_background": "light"
          }
        }
      ]
    },
    {
      "cell_type": "markdown",
      "metadata": {
        "id": "PTa7SjIN9m7p",
        "colab_type": "text"
      },
      "source": [
        "#pooltypeid2' : Piscine avec spa/bain chauffant"
      ]
    },
    {
      "cell_type": "code",
      "metadata": {
        "id": "6JgT5_q72z0T",
        "colab_type": "code",
        "colab": {}
      },
      "source": [
        "df['pooltypeid2'] = df['pooltypeid2'].fillna(value=0)"
      ],
      "execution_count": 0,
      "outputs": []
    },
    {
      "cell_type": "code",
      "metadata": {
        "id": "-4yk4nyz9r8t",
        "colab_type": "code",
        "colab": {
          "base_uri": "https://localhost:8080/",
          "height": 526
        },
        "outputId": "db8976e6-b276-4028-ac3b-cd92a16a5c13"
      },
      "source": [
        "plt.figure(figsize=(12,8))\n",
        "df.groupby('pooltypeid2').mean()['taxvaluedollarcnt'].plot()"
      ],
      "execution_count": 21,
      "outputs": [
        {
          "output_type": "execute_result",
          "data": {
            "text/plain": [
              "<matplotlib.axes._subplots.AxesSubplot at 0x7f7117728710>"
            ]
          },
          "metadata": {
            "tags": []
          },
          "execution_count": 21
        },
        {
          "output_type": "display_data",
          "data": {
            "image/png": "[encoded data removed]",
            "text/plain": [
              "<Figure size 864x576 with 1 Axes>"
            ]
          },
          "metadata": {
            "tags": [],
            "needs_background": "light"
          }
        }
      ]
    },
    {
      "cell_type": "markdown",
      "metadata": {
        "id": "mwTMTP_e9-0M",
        "colab_type": "text"
      },
      "source": [
        "#finishedsquarefeet15' : Superficie totale | colonne ayant un grand nombre de données manquantes d'une part (93.608572 %) et qui a une forte corrélation avec le prix du bien d'autres part"
      ]
    },
    {
      "cell_type": "code",
      "metadata": {
        "id": "Nac0JoA1CDZo",
        "colab_type": "code",
        "colab": {}
      },
      "source": [
        "df = df[df['finishedsquarefeet15'].notna()]"
      ],
      "execution_count": 0,
      "outputs": []
    },
    {
      "cell_type": "code",
      "metadata": {
        "id": "be5IX6svDI3f",
        "colab_type": "code",
        "outputId": "901e350d-4b03-4426-d3b6-36188411e120",
        "colab": {
          "base_uri": "https://localhost:8080/",
          "height": 35
        }
      },
      "source": [
        "len(df)"
      ],
      "execution_count": 0,
      "outputs": [
        {
          "output_type": "execute_result",
          "data": {
            "text/plain": [
              "190798"
            ]
          },
          "metadata": {
            "tags": []
          },
          "execution_count": 11
        }
      ]
    },
    {
      "cell_type": "markdown",
      "metadata": {
        "id": "0d9CmXN9-ic3",
        "colab_type": "text"
      },
      "source": [
        "#'pooltypeid10' : Spa ou jacuzzi"
      ]
    },
    {
      "cell_type": "code",
      "metadata": {
        "id": "G121txYh6Ovu",
        "colab_type": "code",
        "colab": {}
      },
      "source": [
        "df['pooltypeid10'] = df['pooltypeid10'].fillna(value=0)"
      ],
      "execution_count": 0,
      "outputs": []
    },
    {
      "cell_type": "code",
      "metadata": {
        "id": "_VNgnLOe-qUN",
        "colab_type": "code",
        "colab": {
          "base_uri": "https://localhost:8080/",
          "height": 526
        },
        "outputId": "8dd88afb-f0d7-441c-ffb5-780e7fb3e64d"
      },
      "source": [
        "plt.figure(figsize=(12,8))\n",
        "df.groupby('pooltypeid2').mean()['taxvaluedollarcnt'].plot()"
      ],
      "execution_count": 22,
      "outputs": [
        {
          "output_type": "execute_result",
          "data": {
            "text/plain": [
              "<matplotlib.axes._subplots.AxesSubplot at 0x7f71177cf160>"
            ]
          },
          "metadata": {
            "tags": []
          },
          "execution_count": 22
        },
        {
          "output_type": "display_data",
          "data": {
            "image/png": "[encoded data removed]",
            "text/plain": [
              "<Figure size 864x576 with 1 Axes>"
            ]
          },
          "metadata": {
            "tags": [],
            "needs_background": "light"
          }
        }
      ]
    },
    {
      "cell_type": "code",
      "metadata": {
        "id": "uc9aKOLWDOQP",
        "colab_type": "code",
        "outputId": "b49b58a9-88ca-4c78-fb6d-84588b28d743",
        "colab": {
          "base_uri": "https://localhost:8080/",
          "height": 903
        }
      },
      "source": [
        "100* df.isnull().sum()/len(df) "
      ],
      "execution_count": 0,
      "outputs": [
        {
          "output_type": "execute_result",
          "data": {
            "text/plain": [
              "parcelid                          0.000000\n",
              "airconditioningtypeid            91.839537\n",
              "bathroomcnt                       0.006289\n",
              "bedroomcnt                        0.000000\n",
              "buildingqualitytypeid            10.457657\n",
              "calculatedbathnbr                 8.977557\n",
              "finishedfloor1squarefeet         99.801361\n",
              "calculatedfinishedsquarefeet      0.000000\n",
              "finishedsquarefeet12             99.997904\n",
              "finishedsquarefeet15              0.000000\n",
              "finishedsquarefeet50             99.801361\n",
              "fips                              0.000000\n",
              "fireplacecnt                     99.864254\n",
              "fullbathcnt                       8.977557\n",
              "garagecarcnt                     99.837525\n",
              "garagetotalsqft                  99.837525\n",
              "hashottuborspa                   99.936582\n",
              "heatingorsystemtypeid            98.580174\n",
              "latitude                          0.000000\n",
              "longitude                         0.000000\n",
              "lotsizesquarefeet                 1.077055\n",
              "poolcnt                          98.765186\n",
              "pooltypeid10                     99.936582\n",
              "pooltypeid2                     100.000000\n",
              "pooltypeid7                      98.765186\n",
              "propertycountylandusecode         0.407761\n",
              "propertylandusetypeid             0.000000\n",
              "propertyzoningdesc                1.026740\n",
              "rawcensustractandblock            0.000000\n",
              "regionidcity                      0.583864\n",
              "regionidcounty                    0.000000\n",
              "regionidneighborhood             44.350046\n",
              "regionidzip                       0.082286\n",
              "roomcnt                           0.006289\n",
              "threequarterbathnbr              99.983228\n",
              "unitcnt                           4.271009\n",
              "yardbuildingsqft17               99.964360\n",
              "yearbuilt                         2.120567\n",
              "numberofstories                  94.380444\n",
              "structuretaxvaluedollarcnt        0.515729\n",
              "taxvaluedollarcnt                 0.025682\n",
              "assessmentyear                    0.000524\n",
              "landtaxvaluedollarcnt             0.041929\n",
              "taxamount                         0.602208\n",
              "taxdelinquencyflag               96.802377\n",
              "taxdelinquencyyear               96.802377\n",
              "censustractandblock               7.264227\n",
              "dtype: float64"
            ]
          },
          "metadata": {
            "tags": []
          },
          "execution_count": 24
        }
      ]
    },
    {
      "cell_type": "code",
      "metadata": {
        "id": "VoZVneDEDXbH",
        "colab_type": "code",
        "outputId": "0f97270b-1970-4f48-8bc5-0d36e798d4c5",
        "colab": {
          "base_uri": "https://localhost:8080/",
          "height": 830
        }
      },
      "source": [
        "df.corr()['taxvaluedollarcnt'].sort_values()"
      ],
      "execution_count": 0,
      "outputs": [
        {
          "output_type": "execute_result",
          "data": {
            "text/plain": [
              "heatingorsystemtypeid          -0.178104\n",
              "buildingqualitytypeid          -0.155263\n",
              "propertylandusetypeid          -0.143641\n",
              "longitude                      -0.063346\n",
              "bedroomcnt                     -0.036449\n",
              "regionidcity                   -0.016980\n",
              "bathroomcnt                    -0.014341\n",
              "assessmentyear                 -0.013057\n",
              "regionidcounty                 -0.004934\n",
              "roomcnt                        -0.000192\n",
              "parcelid                        0.000599\n",
              "censustractandblock             0.004677\n",
              "fips                            0.004934\n",
              "rawcensustractandblock          0.005234\n",
              "regionidneighborhood            0.010694\n",
              "latitude                        0.013046\n",
              "finishedsquarefeet50            0.014401\n",
              "regionidzip                     0.019038\n",
              "finishedfloor1squarefeet        0.022121\n",
              "lotsizesquarefeet               0.023331\n",
              "taxdelinquencyyear              0.024271\n",
              "garagetotalsqft                 0.050485\n",
              "garagecarcnt                    0.051016\n",
              "yardbuildingsqft17              0.067432\n",
              "yearbuilt                       0.093072\n",
              "numberofstories                 0.187068\n",
              "airconditioningtypeid           0.246758\n",
              "fullbathcnt                     0.305155\n",
              "calculatedbathnbr               0.305204\n",
              "fireplacecnt                    0.424761\n",
              "finishedsquarefeet12            0.544929\n",
              "unitcnt                         0.618569\n",
              "finishedsquarefeet15            0.685283\n",
              "calculatedfinishedsquarefeet    0.685291\n",
              "landtaxvaluedollarcnt           0.748004\n",
              "structuretaxvaluedollarcnt      0.963382\n",
              "taxamount                       0.984924\n",
              "taxvaluedollarcnt               1.000000\n",
              "poolcnt                              NaN\n",
              "pooltypeid10                         NaN\n",
              "pooltypeid2                          NaN\n",
              "pooltypeid7                          NaN\n",
              "threequarterbathnbr                  NaN\n",
              "Name: taxvaluedollarcnt, dtype: float64"
            ]
          },
          "metadata": {
            "tags": []
          },
          "execution_count": 25
        }
      ]
    },
    {
      "cell_type": "code",
      "metadata": {
        "id": "5lJWlWil51MP",
        "colab_type": "code",
        "colab": {}
      },
      "source": [
        "df['airconditioningtypeid'] = df['airconditioningtypeid'].fillna(value=0)"
      ],
      "execution_count": 0,
      "outputs": []
    },
    {
      "cell_type": "code",
      "metadata": {
        "id": "39INdJO9D_bt",
        "colab_type": "code",
        "colab": {}
      },
      "source": [
        "df = df.drop(['heatingorsystemtypeid','finishedsquarefeet50','finishedfloor1squarefeet','regionidneighborhood'],axis=1)"
      ],
      "execution_count": 0,
      "outputs": []
    },
    {
      "cell_type": "code",
      "metadata": {
        "id": "m1JXlvCRHIWW",
        "colab_type": "code",
        "colab": {}
      },
      "source": [
        "df['garagecarcnt'] = df['garagecarcnt'].fillna(value=0)"
      ],
      "execution_count": 0,
      "outputs": []
    },
    {
      "cell_type": "code",
      "metadata": {
        "id": "tyVwx86wISIK",
        "colab_type": "code",
        "colab": {}
      },
      "source": [
        "df['garagetotalsqft'] = df['garagetotalsqft'].fillna(value=0)"
      ],
      "execution_count": 0,
      "outputs": []
    },
    {
      "cell_type": "code",
      "metadata": {
        "id": "LPOzS6h4IoUb",
        "colab_type": "code",
        "colab": {}
      },
      "source": [
        "df['hashottuborspa'] = df['hashottuborspa'].fillna(value=0)"
      ],
      "execution_count": 0,
      "outputs": []
    },
    {
      "cell_type": "code",
      "metadata": {
        "id": "ku59l1ubJ7rm",
        "colab_type": "code",
        "colab": {}
      },
      "source": [
        "df['fireplacecnt'] = df['fireplacecnt'].fillna(value=0)"
      ],
      "execution_count": 0,
      "outputs": []
    },
    {
      "cell_type": "code",
      "metadata": {
        "id": "RmXopbA7NexK",
        "colab_type": "code",
        "colab": {}
      },
      "source": [
        "df['threequarterbathnbr'] = df['threequarterbathnbr'].fillna(value=0)"
      ],
      "execution_count": 0,
      "outputs": []
    },
    {
      "cell_type": "code",
      "metadata": {
        "id": "H28_20beHOhE",
        "colab_type": "code",
        "outputId": "74bb08ff-50fa-4335-8f3e-b0c93263b4ae",
        "colab": {
          "base_uri": "https://localhost:8080/",
          "height": 696
        }
      },
      "source": [
        "df.sort_values('yardbuildingsqft17',ascending=False).head(20)"
      ],
      "execution_count": 0,
      "outputs": [
        {
          "output_type": "execute_result",
          "data": {
            "text/html": [
              "<div>\n",
              "<style scoped>\n",
              "    .dataframe tbody tr th:only-of-type {\n",
              "        vertical-align: middle;\n",
              "    }\n",
              "\n",
              "    .dataframe tbody tr th {\n",
              "        vertical-align: top;\n",
              "    }\n",
              "\n",
              "    .dataframe thead th {\n",
              "        text-align: right;\n",
              "    }\n",
              "</style>\n",
              "<table border=\"1\" class=\"dataframe\">\n",
              "  <thead>\n",
              "    <tr style=\"text-align: right;\">\n",
              "      <th></th>\n",
              "      <th>parcelid</th>\n",
              "      <th>airconditioningtypeid</th>\n",
              "      <th>basementsqft</th>\n",
              "      <th>bathroomcnt</th>\n",
              "      <th>bedroomcnt</th>\n",
              "      <th>buildingclasstypeid</th>\n",
              "      <th>buildingqualitytypeid</th>\n",
              "      <th>calculatedbathnbr</th>\n",
              "      <th>decktypeid</th>\n",
              "      <th>calculatedfinishedsquarefeet</th>\n",
              "      <th>finishedsquarefeet12</th>\n",
              "      <th>finishedsquarefeet15</th>\n",
              "      <th>fips</th>\n",
              "      <th>fireplacecnt</th>\n",
              "      <th>fullbathcnt</th>\n",
              "      <th>garagecarcnt</th>\n",
              "      <th>garagetotalsqft</th>\n",
              "      <th>hashottuborspa</th>\n",
              "      <th>latitude</th>\n",
              "      <th>longitude</th>\n",
              "      <th>lotsizesquarefeet</th>\n",
              "      <th>poolcnt</th>\n",
              "      <th>pooltypeid10</th>\n",
              "      <th>pooltypeid2</th>\n",
              "      <th>pooltypeid7</th>\n",
              "      <th>propertycountylandusecode</th>\n",
              "      <th>propertylandusetypeid</th>\n",
              "      <th>propertyzoningdesc</th>\n",
              "      <th>regionidcity</th>\n",
              "      <th>regionidcounty</th>\n",
              "      <th>regionidzip</th>\n",
              "      <th>roomcnt</th>\n",
              "      <th>storytypeid</th>\n",
              "      <th>threequarterbathnbr</th>\n",
              "      <th>unitcnt</th>\n",
              "      <th>yardbuildingsqft17</th>\n",
              "      <th>yearbuilt</th>\n",
              "      <th>numberofstories</th>\n",
              "      <th>structuretaxvaluedollarcnt</th>\n",
              "      <th>taxvaluedollarcnt</th>\n",
              "      <th>assessmentyear</th>\n",
              "      <th>landtaxvaluedollarcnt</th>\n",
              "      <th>taxamount</th>\n",
              "      <th>taxdelinquencyflag</th>\n",
              "      <th>taxdelinquencyyear</th>\n",
              "    </tr>\n",
              "  </thead>\n",
              "  <tbody>\n",
              "    <tr>\n",
              "      <th>26</th>\n",
              "      <td>11488147</td>\n",
              "      <td>0.0</td>\n",
              "      <td>0.0</td>\n",
              "      <td>4.0</td>\n",
              "      <td>5.0</td>\n",
              "      <td>6.0</td>\n",
              "      <td>4.0</td>\n",
              "      <td>4.0</td>\n",
              "      <td>0.0</td>\n",
              "      <td>2865.0</td>\n",
              "      <td>NaN</td>\n",
              "      <td>2865.0</td>\n",
              "      <td>6037.0</td>\n",
              "      <td>0.0</td>\n",
              "      <td>4.0</td>\n",
              "      <td>0.0</td>\n",
              "      <td>0.0</td>\n",
              "      <td>0</td>\n",
              "      <td>33879216.0</td>\n",
              "      <td>-118361434.0</td>\n",
              "      <td>4990.0</td>\n",
              "      <td>NaN</td>\n",
              "      <td>0.0</td>\n",
              "      <td>0.0</td>\n",
              "      <td>0.0</td>\n",
              "      <td>0200</td>\n",
              "      <td>246.0</td>\n",
              "      <td>RBR-3</td>\n",
              "      <td>33612.0</td>\n",
              "      <td>3101.0</td>\n",
              "      <td>96124.0</td>\n",
              "      <td>0.0</td>\n",
              "      <td>0.0</td>\n",
              "      <td>0.0</td>\n",
              "      <td>2.0</td>\n",
              "      <td>NaN</td>\n",
              "      <td>1972.0</td>\n",
              "      <td>NaN</td>\n",
              "      <td>267623.0</td>\n",
              "      <td>818739.0</td>\n",
              "      <td>2015.0</td>\n",
              "      <td>551116.0</td>\n",
              "      <td>10455.41</td>\n",
              "      <td>NaN</td>\n",
              "      <td>NaN</td>\n",
              "    </tr>\n",
              "    <tr>\n",
              "      <th>32</th>\n",
              "      <td>11588747</td>\n",
              "      <td>0.0</td>\n",
              "      <td>0.0</td>\n",
              "      <td>3.0</td>\n",
              "      <td>3.0</td>\n",
              "      <td>6.0</td>\n",
              "      <td>7.0</td>\n",
              "      <td>3.0</td>\n",
              "      <td>0.0</td>\n",
              "      <td>2019.0</td>\n",
              "      <td>NaN</td>\n",
              "      <td>2019.0</td>\n",
              "      <td>6037.0</td>\n",
              "      <td>0.0</td>\n",
              "      <td>3.0</td>\n",
              "      <td>0.0</td>\n",
              "      <td>0.0</td>\n",
              "      <td>0</td>\n",
              "      <td>34003621.0</td>\n",
              "      <td>-118477513.0</td>\n",
              "      <td>6763.0</td>\n",
              "      <td>NaN</td>\n",
              "      <td>0.0</td>\n",
              "      <td>0.0</td>\n",
              "      <td>0.0</td>\n",
              "      <td>0300</td>\n",
              "      <td>247.0</td>\n",
              "      <td>SMOP2*</td>\n",
              "      <td>26964.0</td>\n",
              "      <td>3101.0</td>\n",
              "      <td>96152.0</td>\n",
              "      <td>0.0</td>\n",
              "      <td>0.0</td>\n",
              "      <td>0.0</td>\n",
              "      <td>3.0</td>\n",
              "      <td>NaN</td>\n",
              "      <td>NaN</td>\n",
              "      <td>NaN</td>\n",
              "      <td>445000.0</td>\n",
              "      <td>1410000.0</td>\n",
              "      <td>2015.0</td>\n",
              "      <td>965000.0</td>\n",
              "      <td>17034.34</td>\n",
              "      <td>NaN</td>\n",
              "      <td>NaN</td>\n",
              "    </tr>\n",
              "    <tr>\n",
              "      <th>43</th>\n",
              "      <td>11759947</td>\n",
              "      <td>0.0</td>\n",
              "      <td>0.0</td>\n",
              "      <td>2.0</td>\n",
              "      <td>4.0</td>\n",
              "      <td>6.0</td>\n",
              "      <td>7.0</td>\n",
              "      <td>2.0</td>\n",
              "      <td>0.0</td>\n",
              "      <td>1931.0</td>\n",
              "      <td>NaN</td>\n",
              "      <td>1931.0</td>\n",
              "      <td>6037.0</td>\n",
              "      <td>0.0</td>\n",
              "      <td>2.0</td>\n",
              "      <td>0.0</td>\n",
              "      <td>0.0</td>\n",
              "      <td>0</td>\n",
              "      <td>33990297.0</td>\n",
              "      <td>-118275168.0</td>\n",
              "      <td>5420.0</td>\n",
              "      <td>NaN</td>\n",
              "      <td>0.0</td>\n",
              "      <td>0.0</td>\n",
              "      <td>0.0</td>\n",
              "      <td>0200</td>\n",
              "      <td>246.0</td>\n",
              "      <td>LAR2</td>\n",
              "      <td>12447.0</td>\n",
              "      <td>3101.0</td>\n",
              "      <td>96018.0</td>\n",
              "      <td>0.0</td>\n",
              "      <td>0.0</td>\n",
              "      <td>0.0</td>\n",
              "      <td>2.0</td>\n",
              "      <td>NaN</td>\n",
              "      <td>1957.0</td>\n",
              "      <td>NaN</td>\n",
              "      <td>122915.0</td>\n",
              "      <td>221244.0</td>\n",
              "      <td>2015.0</td>\n",
              "      <td>98329.0</td>\n",
              "      <td>2885.93</td>\n",
              "      <td>NaN</td>\n",
              "      <td>NaN</td>\n",
              "    </tr>\n",
              "    <tr>\n",
              "      <th>72</th>\n",
              "      <td>12144747</td>\n",
              "      <td>0.0</td>\n",
              "      <td>0.0</td>\n",
              "      <td>4.0</td>\n",
              "      <td>4.0</td>\n",
              "      <td>6.0</td>\n",
              "      <td>7.0</td>\n",
              "      <td>4.0</td>\n",
              "      <td>0.0</td>\n",
              "      <td>3086.0</td>\n",
              "      <td>NaN</td>\n",
              "      <td>3086.0</td>\n",
              "      <td>6037.0</td>\n",
              "      <td>0.0</td>\n",
              "      <td>4.0</td>\n",
              "      <td>0.0</td>\n",
              "      <td>0.0</td>\n",
              "      <td>0</td>\n",
              "      <td>34111765.0</td>\n",
              "      <td>-118045669.0</td>\n",
              "      <td>12843.0</td>\n",
              "      <td>NaN</td>\n",
              "      <td>0.0</td>\n",
              "      <td>0.0</td>\n",
              "      <td>0.0</td>\n",
              "      <td>0200</td>\n",
              "      <td>246.0</td>\n",
              "      <td>ARR1YY</td>\n",
              "      <td>50749.0</td>\n",
              "      <td>3101.0</td>\n",
              "      <td>96268.0</td>\n",
              "      <td>0.0</td>\n",
              "      <td>0.0</td>\n",
              "      <td>0.0</td>\n",
              "      <td>2.0</td>\n",
              "      <td>NaN</td>\n",
              "      <td>1950.0</td>\n",
              "      <td>NaN</td>\n",
              "      <td>338167.0</td>\n",
              "      <td>993913.0</td>\n",
              "      <td>2015.0</td>\n",
              "      <td>655746.0</td>\n",
              "      <td>9602.77</td>\n",
              "      <td>NaN</td>\n",
              "      <td>NaN</td>\n",
              "    </tr>\n",
              "    <tr>\n",
              "      <th>1454</th>\n",
              "      <td>10771083</td>\n",
              "      <td>0.0</td>\n",
              "      <td>0.0</td>\n",
              "      <td>2.0</td>\n",
              "      <td>4.0</td>\n",
              "      <td>6.0</td>\n",
              "      <td>7.0</td>\n",
              "      <td>2.0</td>\n",
              "      <td>0.0</td>\n",
              "      <td>1680.0</td>\n",
              "      <td>NaN</td>\n",
              "      <td>1680.0</td>\n",
              "      <td>6037.0</td>\n",
              "      <td>0.0</td>\n",
              "      <td>2.0</td>\n",
              "      <td>0.0</td>\n",
              "      <td>0.0</td>\n",
              "      <td>0</td>\n",
              "      <td>34205640.0</td>\n",
              "      <td>-118594207.0</td>\n",
              "      <td>7500.0</td>\n",
              "      <td>NaN</td>\n",
              "      <td>0.0</td>\n",
              "      <td>0.0</td>\n",
              "      <td>0.0</td>\n",
              "      <td>0200</td>\n",
              "      <td>246.0</td>\n",
              "      <td>LARD3</td>\n",
              "      <td>12447.0</td>\n",
              "      <td>3101.0</td>\n",
              "      <td>96338.0</td>\n",
              "      <td>0.0</td>\n",
              "      <td>0.0</td>\n",
              "      <td>0.0</td>\n",
              "      <td>2.0</td>\n",
              "      <td>NaN</td>\n",
              "      <td>1947.0</td>\n",
              "      <td>NaN</td>\n",
              "      <td>152094.0</td>\n",
              "      <td>246120.0</td>\n",
              "      <td>2015.0</td>\n",
              "      <td>94026.0</td>\n",
              "      <td>3121.52</td>\n",
              "      <td>NaN</td>\n",
              "      <td>NaN</td>\n",
              "    </tr>\n",
              "    <tr>\n",
              "      <th>1737</th>\n",
              "      <td>10839699</td>\n",
              "      <td>0.0</td>\n",
              "      <td>0.0</td>\n",
              "      <td>2.0</td>\n",
              "      <td>2.0</td>\n",
              "      <td>6.0</td>\n",
              "      <td>7.0</td>\n",
              "      <td>2.0</td>\n",
              "      <td>0.0</td>\n",
              "      <td>1248.0</td>\n",
              "      <td>NaN</td>\n",
              "      <td>1248.0</td>\n",
              "      <td>6037.0</td>\n",
              "      <td>0.0</td>\n",
              "      <td>2.0</td>\n",
              "      <td>0.0</td>\n",
              "      <td>0.0</td>\n",
              "      <td>0</td>\n",
              "      <td>34190959.0</td>\n",
              "      <td>-118450719.0</td>\n",
              "      <td>6706.0</td>\n",
              "      <td>NaN</td>\n",
              "      <td>0.0</td>\n",
              "      <td>0.0</td>\n",
              "      <td>0.0</td>\n",
              "      <td>0200</td>\n",
              "      <td>246.0</td>\n",
              "      <td>LAR1</td>\n",
              "      <td>12447.0</td>\n",
              "      <td>3101.0</td>\n",
              "      <td>96414.0</td>\n",
              "      <td>0.0</td>\n",
              "      <td>0.0</td>\n",
              "      <td>0.0</td>\n",
              "      <td>2.0</td>\n",
              "      <td>NaN</td>\n",
              "      <td>1938.0</td>\n",
              "      <td>NaN</td>\n",
              "      <td>76292.0</td>\n",
              "      <td>256049.0</td>\n",
              "      <td>2015.0</td>\n",
              "      <td>179757.0</td>\n",
              "      <td>3247.04</td>\n",
              "      <td>NaN</td>\n",
              "      <td>NaN</td>\n",
              "    </tr>\n",
              "    <tr>\n",
              "      <th>1751</th>\n",
              "      <td>10843760</td>\n",
              "      <td>0.0</td>\n",
              "      <td>0.0</td>\n",
              "      <td>8.0</td>\n",
              "      <td>12.0</td>\n",
              "      <td>6.0</td>\n",
              "      <td>7.0</td>\n",
              "      <td>8.0</td>\n",
              "      <td>0.0</td>\n",
              "      <td>4408.0</td>\n",
              "      <td>NaN</td>\n",
              "      <td>4408.0</td>\n",
              "      <td>6037.0</td>\n",
              "      <td>0.0</td>\n",
              "      <td>8.0</td>\n",
              "      <td>0.0</td>\n",
              "      <td>0.0</td>\n",
              "      <td>0</td>\n",
              "      <td>34172443.0</td>\n",
              "      <td>-118457677.0</td>\n",
              "      <td>7257.0</td>\n",
              "      <td>NaN</td>\n",
              "      <td>0.0</td>\n",
              "      <td>0.0</td>\n",
              "      <td>0.0</td>\n",
              "      <td>0400</td>\n",
              "      <td>248.0</td>\n",
              "      <td>LAR3</td>\n",
              "      <td>12447.0</td>\n",
              "      <td>3101.0</td>\n",
              "      <td>96420.0</td>\n",
              "      <td>0.0</td>\n",
              "      <td>0.0</td>\n",
              "      <td>0.0</td>\n",
              "      <td>4.0</td>\n",
              "      <td>NaN</td>\n",
              "      <td>1957.0</td>\n",
              "      <td>NaN</td>\n",
              "      <td>226818.0</td>\n",
              "      <td>444232.0</td>\n",
              "      <td>2015.0</td>\n",
              "      <td>217414.0</td>\n",
              "      <td>5867.42</td>\n",
              "      <td>NaN</td>\n",
              "      <td>NaN</td>\n",
              "    </tr>\n",
              "    <tr>\n",
              "      <th>1762</th>\n",
              "      <td>10847650</td>\n",
              "      <td>0.0</td>\n",
              "      <td>0.0</td>\n",
              "      <td>3.0</td>\n",
              "      <td>3.0</td>\n",
              "      <td>6.0</td>\n",
              "      <td>7.0</td>\n",
              "      <td>3.0</td>\n",
              "      <td>0.0</td>\n",
              "      <td>2265.0</td>\n",
              "      <td>NaN</td>\n",
              "      <td>2265.0</td>\n",
              "      <td>6037.0</td>\n",
              "      <td>0.0</td>\n",
              "      <td>3.0</td>\n",
              "      <td>0.0</td>\n",
              "      <td>0.0</td>\n",
              "      <td>0</td>\n",
              "      <td>34167883.0</td>\n",
              "      <td>-118445886.0</td>\n",
              "      <td>4744.0</td>\n",
              "      <td>NaN</td>\n",
              "      <td>0.0</td>\n",
              "      <td>0.0</td>\n",
              "      <td>0.0</td>\n",
              "      <td>0300</td>\n",
              "      <td>247.0</td>\n",
              "      <td>LARD1.5</td>\n",
              "      <td>12447.0</td>\n",
              "      <td>3101.0</td>\n",
              "      <td>96410.0</td>\n",
              "      <td>0.0</td>\n",
              "      <td>0.0</td>\n",
              "      <td>0.0</td>\n",
              "      <td>3.0</td>\n",
              "      <td>NaN</td>\n",
              "      <td>1948.0</td>\n",
              "      <td>NaN</td>\n",
              "      <td>124260.0</td>\n",
              "      <td>289946.0</td>\n",
              "      <td>2015.0</td>\n",
              "      <td>165686.0</td>\n",
              "      <td>3763.67</td>\n",
              "      <td>NaN</td>\n",
              "      <td>NaN</td>\n",
              "    </tr>\n",
              "    <tr>\n",
              "      <th>1889</th>\n",
              "      <td>10877864</td>\n",
              "      <td>0.0</td>\n",
              "      <td>0.0</td>\n",
              "      <td>3.0</td>\n",
              "      <td>4.0</td>\n",
              "      <td>6.0</td>\n",
              "      <td>7.0</td>\n",
              "      <td>3.0</td>\n",
              "      <td>0.0</td>\n",
              "      <td>1846.0</td>\n",
              "      <td>NaN</td>\n",
              "      <td>1846.0</td>\n",
              "      <td>6037.0</td>\n",
              "      <td>0.0</td>\n",
              "      <td>3.0</td>\n",
              "      <td>0.0</td>\n",
              "      <td>0.0</td>\n",
              "      <td>0</td>\n",
              "      <td>34203510.0</td>\n",
              "      <td>-118369766.0</td>\n",
              "      <td>5999.0</td>\n",
              "      <td>NaN</td>\n",
              "      <td>0.0</td>\n",
              "      <td>0.0</td>\n",
              "      <td>0.0</td>\n",
              "      <td>0300</td>\n",
              "      <td>247.0</td>\n",
              "      <td>LAR3</td>\n",
              "      <td>12447.0</td>\n",
              "      <td>3101.0</td>\n",
              "      <td>96375.0</td>\n",
              "      <td>0.0</td>\n",
              "      <td>0.0</td>\n",
              "      <td>0.0</td>\n",
              "      <td>3.0</td>\n",
              "      <td>NaN</td>\n",
              "      <td>1959.0</td>\n",
              "      <td>NaN</td>\n",
              "      <td>107583.0</td>\n",
              "      <td>357587.0</td>\n",
              "      <td>2015.0</td>\n",
              "      <td>250004.0</td>\n",
              "      <td>4694.09</td>\n",
              "      <td>NaN</td>\n",
              "      <td>NaN</td>\n",
              "    </tr>\n",
              "    <tr>\n",
              "      <th>1909</th>\n",
              "      <td>10883796</td>\n",
              "      <td>0.0</td>\n",
              "      <td>0.0</td>\n",
              "      <td>4.0</td>\n",
              "      <td>4.0</td>\n",
              "      <td>6.0</td>\n",
              "      <td>7.0</td>\n",
              "      <td>4.0</td>\n",
              "      <td>0.0</td>\n",
              "      <td>2256.0</td>\n",
              "      <td>NaN</td>\n",
              "      <td>2256.0</td>\n",
              "      <td>6037.0</td>\n",
              "      <td>0.0</td>\n",
              "      <td>4.0</td>\n",
              "      <td>0.0</td>\n",
              "      <td>0.0</td>\n",
              "      <td>0</td>\n",
              "      <td>34199639.0</td>\n",
              "      <td>-118419729.0</td>\n",
              "      <td>6540.0</td>\n",
              "      <td>NaN</td>\n",
              "      <td>0.0</td>\n",
              "      <td>0.0</td>\n",
              "      <td>0.0</td>\n",
              "      <td>0400</td>\n",
              "      <td>248.0</td>\n",
              "      <td>LAR3</td>\n",
              "      <td>12447.0</td>\n",
              "      <td>3101.0</td>\n",
              "      <td>96450.0</td>\n",
              "      <td>0.0</td>\n",
              "      <td>0.0</td>\n",
              "      <td>0.0</td>\n",
              "      <td>4.0</td>\n",
              "      <td>NaN</td>\n",
              "      <td>1954.0</td>\n",
              "      <td>NaN</td>\n",
              "      <td>239695.0</td>\n",
              "      <td>525289.0</td>\n",
              "      <td>2015.0</td>\n",
              "      <td>285594.0</td>\n",
              "      <td>6622.96</td>\n",
              "      <td>NaN</td>\n",
              "      <td>NaN</td>\n",
              "    </tr>\n",
              "    <tr>\n",
              "      <th>1916</th>\n",
              "      <td>10885699</td>\n",
              "      <td>0.0</td>\n",
              "      <td>0.0</td>\n",
              "      <td>3.0</td>\n",
              "      <td>6.0</td>\n",
              "      <td>6.0</td>\n",
              "      <td>7.0</td>\n",
              "      <td>3.0</td>\n",
              "      <td>0.0</td>\n",
              "      <td>2406.0</td>\n",
              "      <td>NaN</td>\n",
              "      <td>2406.0</td>\n",
              "      <td>6037.0</td>\n",
              "      <td>0.0</td>\n",
              "      <td>3.0</td>\n",
              "      <td>0.0</td>\n",
              "      <td>0.0</td>\n",
              "      <td>0</td>\n",
              "      <td>34187722.0</td>\n",
              "      <td>-118422013.0</td>\n",
              "      <td>9155.0</td>\n",
              "      <td>NaN</td>\n",
              "      <td>0.0</td>\n",
              "      <td>0.0</td>\n",
              "      <td>0.0</td>\n",
              "      <td>0300</td>\n",
              "      <td>247.0</td>\n",
              "      <td>LARD1.5</td>\n",
              "      <td>12447.0</td>\n",
              "      <td>3101.0</td>\n",
              "      <td>96410.0</td>\n",
              "      <td>0.0</td>\n",
              "      <td>0.0</td>\n",
              "      <td>0.0</td>\n",
              "      <td>3.0</td>\n",
              "      <td>NaN</td>\n",
              "      <td>1952.0</td>\n",
              "      <td>NaN</td>\n",
              "      <td>67452.0</td>\n",
              "      <td>163920.0</td>\n",
              "      <td>2015.0</td>\n",
              "      <td>96468.0</td>\n",
              "      <td>2262.15</td>\n",
              "      <td>NaN</td>\n",
              "      <td>NaN</td>\n",
              "    </tr>\n",
              "    <tr>\n",
              "      <th>1928</th>\n",
              "      <td>10887836</td>\n",
              "      <td>0.0</td>\n",
              "      <td>0.0</td>\n",
              "      <td>3.0</td>\n",
              "      <td>4.0</td>\n",
              "      <td>6.0</td>\n",
              "      <td>7.0</td>\n",
              "      <td>3.0</td>\n",
              "      <td>0.0</td>\n",
              "      <td>2314.0</td>\n",
              "      <td>NaN</td>\n",
              "      <td>2314.0</td>\n",
              "      <td>6037.0</td>\n",
              "      <td>0.0</td>\n",
              "      <td>3.0</td>\n",
              "      <td>0.0</td>\n",
              "      <td>0.0</td>\n",
              "      <td>0</td>\n",
              "      <td>34180635.0</td>\n",
              "      <td>-118412523.0</td>\n",
              "      <td>5999.0</td>\n",
              "      <td>NaN</td>\n",
              "      <td>0.0</td>\n",
              "      <td>0.0</td>\n",
              "      <td>0.0</td>\n",
              "      <td>0300</td>\n",
              "      <td>247.0</td>\n",
              "      <td>LARD1.5</td>\n",
              "      <td>12447.0</td>\n",
              "      <td>3101.0</td>\n",
              "      <td>96451.0</td>\n",
              "      <td>0.0</td>\n",
              "      <td>0.0</td>\n",
              "      <td>0.0</td>\n",
              "      <td>3.0</td>\n",
              "      <td>NaN</td>\n",
              "      <td>1954.0</td>\n",
              "      <td>NaN</td>\n",
              "      <td>125051.0</td>\n",
              "      <td>280527.0</td>\n",
              "      <td>2015.0</td>\n",
              "      <td>155476.0</td>\n",
              "      <td>3625.65</td>\n",
              "      <td>NaN</td>\n",
              "      <td>NaN</td>\n",
              "    </tr>\n",
              "    <tr>\n",
              "      <th>1932</th>\n",
              "      <td>10888544</td>\n",
              "      <td>0.0</td>\n",
              "      <td>0.0</td>\n",
              "      <td>2.0</td>\n",
              "      <td>4.0</td>\n",
              "      <td>6.0</td>\n",
              "      <td>7.0</td>\n",
              "      <td>2.0</td>\n",
              "      <td>0.0</td>\n",
              "      <td>1507.0</td>\n",
              "      <td>NaN</td>\n",
              "      <td>1507.0</td>\n",
              "      <td>6037.0</td>\n",
              "      <td>0.0</td>\n",
              "      <td>2.0</td>\n",
              "      <td>0.0</td>\n",
              "      <td>0.0</td>\n",
              "      <td>0</td>\n",
              "      <td>34186357.0</td>\n",
              "      <td>-118391056.0</td>\n",
              "      <td>5538.0</td>\n",
              "      <td>NaN</td>\n",
              "      <td>0.0</td>\n",
              "      <td>0.0</td>\n",
              "      <td>0.0</td>\n",
              "      <td>0200</td>\n",
              "      <td>246.0</td>\n",
              "      <td>LARD1.5</td>\n",
              "      <td>12447.0</td>\n",
              "      <td>3101.0</td>\n",
              "      <td>96451.0</td>\n",
              "      <td>0.0</td>\n",
              "      <td>0.0</td>\n",
              "      <td>0.0</td>\n",
              "      <td>2.0</td>\n",
              "      <td>NaN</td>\n",
              "      <td>1947.0</td>\n",
              "      <td>NaN</td>\n",
              "      <td>149426.0</td>\n",
              "      <td>373568.0</td>\n",
              "      <td>2015.0</td>\n",
              "      <td>224142.0</td>\n",
              "      <td>4706.11</td>\n",
              "      <td>NaN</td>\n",
              "      <td>NaN</td>\n",
              "    </tr>\n",
              "    <tr>\n",
              "      <th>1941</th>\n",
              "      <td>10891053</td>\n",
              "      <td>1.0</td>\n",
              "      <td>0.0</td>\n",
              "      <td>9.0</td>\n",
              "      <td>12.0</td>\n",
              "      <td>6.0</td>\n",
              "      <td>7.0</td>\n",
              "      <td>9.0</td>\n",
              "      <td>0.0</td>\n",
              "      <td>4010.0</td>\n",
              "      <td>NaN</td>\n",
              "      <td>4010.0</td>\n",
              "      <td>6037.0</td>\n",
              "      <td>0.0</td>\n",
              "      <td>9.0</td>\n",
              "      <td>0.0</td>\n",
              "      <td>0.0</td>\n",
              "      <td>0</td>\n",
              "      <td>34173722.0</td>\n",
              "      <td>-118371792.0</td>\n",
              "      <td>6999.0</td>\n",
              "      <td>NaN</td>\n",
              "      <td>0.0</td>\n",
              "      <td>0.0</td>\n",
              "      <td>0.0</td>\n",
              "      <td>0300</td>\n",
              "      <td>247.0</td>\n",
              "      <td>LARD1.5</td>\n",
              "      <td>12447.0</td>\n",
              "      <td>3101.0</td>\n",
              "      <td>96446.0</td>\n",
              "      <td>0.0</td>\n",
              "      <td>0.0</td>\n",
              "      <td>0.0</td>\n",
              "      <td>3.0</td>\n",
              "      <td>NaN</td>\n",
              "      <td>1979.0</td>\n",
              "      <td>NaN</td>\n",
              "      <td>254995.0</td>\n",
              "      <td>744585.0</td>\n",
              "      <td>2015.0</td>\n",
              "      <td>489590.0</td>\n",
              "      <td>9326.46</td>\n",
              "      <td>NaN</td>\n",
              "      <td>NaN</td>\n",
              "    </tr>\n",
              "    <tr>\n",
              "      <th>1942</th>\n",
              "      <td>10891523</td>\n",
              "      <td>0.0</td>\n",
              "      <td>0.0</td>\n",
              "      <td>3.0</td>\n",
              "      <td>5.0</td>\n",
              "      <td>6.0</td>\n",
              "      <td>7.0</td>\n",
              "      <td>3.0</td>\n",
              "      <td>0.0</td>\n",
              "      <td>2749.0</td>\n",
              "      <td>NaN</td>\n",
              "      <td>2749.0</td>\n",
              "      <td>6037.0</td>\n",
              "      <td>0.0</td>\n",
              "      <td>3.0</td>\n",
              "      <td>0.0</td>\n",
              "      <td>0.0</td>\n",
              "      <td>0</td>\n",
              "      <td>34178777.0</td>\n",
              "      <td>-118380102.0</td>\n",
              "      <td>8409.0</td>\n",
              "      <td>NaN</td>\n",
              "      <td>0.0</td>\n",
              "      <td>0.0</td>\n",
              "      <td>0.0</td>\n",
              "      <td>0300</td>\n",
              "      <td>247.0</td>\n",
              "      <td>LAR3</td>\n",
              "      <td>12447.0</td>\n",
              "      <td>3101.0</td>\n",
              "      <td>96446.0</td>\n",
              "      <td>0.0</td>\n",
              "      <td>0.0</td>\n",
              "      <td>0.0</td>\n",
              "      <td>3.0</td>\n",
              "      <td>NaN</td>\n",
              "      <td>1952.0</td>\n",
              "      <td>NaN</td>\n",
              "      <td>132845.0</td>\n",
              "      <td>283743.0</td>\n",
              "      <td>2015.0</td>\n",
              "      <td>150898.0</td>\n",
              "      <td>3696.68</td>\n",
              "      <td>NaN</td>\n",
              "      <td>NaN</td>\n",
              "    </tr>\n",
              "    <tr>\n",
              "      <th>1972</th>\n",
              "      <td>10897691</td>\n",
              "      <td>0.0</td>\n",
              "      <td>0.0</td>\n",
              "      <td>3.0</td>\n",
              "      <td>5.0</td>\n",
              "      <td>6.0</td>\n",
              "      <td>7.0</td>\n",
              "      <td>3.0</td>\n",
              "      <td>0.0</td>\n",
              "      <td>2496.0</td>\n",
              "      <td>NaN</td>\n",
              "      <td>2496.0</td>\n",
              "      <td>6037.0</td>\n",
              "      <td>0.0</td>\n",
              "      <td>3.0</td>\n",
              "      <td>0.0</td>\n",
              "      <td>0.0</td>\n",
              "      <td>0</td>\n",
              "      <td>34165396.0</td>\n",
              "      <td>-118394775.0</td>\n",
              "      <td>6468.0</td>\n",
              "      <td>NaN</td>\n",
              "      <td>0.0</td>\n",
              "      <td>0.0</td>\n",
              "      <td>0.0</td>\n",
              "      <td>0400</td>\n",
              "      <td>248.0</td>\n",
              "      <td>LAR4</td>\n",
              "      <td>12447.0</td>\n",
              "      <td>3101.0</td>\n",
              "      <td>96452.0</td>\n",
              "      <td>0.0</td>\n",
              "      <td>0.0</td>\n",
              "      <td>0.0</td>\n",
              "      <td>4.0</td>\n",
              "      <td>NaN</td>\n",
              "      <td>1936.0</td>\n",
              "      <td>NaN</td>\n",
              "      <td>47500.0</td>\n",
              "      <td>83181.0</td>\n",
              "      <td>2015.0</td>\n",
              "      <td>35681.0</td>\n",
              "      <td>1364.77</td>\n",
              "      <td>NaN</td>\n",
              "      <td>NaN</td>\n",
              "    </tr>\n",
              "    <tr>\n",
              "      <th>1976</th>\n",
              "      <td>10899294</td>\n",
              "      <td>0.0</td>\n",
              "      <td>0.0</td>\n",
              "      <td>3.0</td>\n",
              "      <td>6.0</td>\n",
              "      <td>6.0</td>\n",
              "      <td>7.0</td>\n",
              "      <td>3.0</td>\n",
              "      <td>0.0</td>\n",
              "      <td>2384.0</td>\n",
              "      <td>NaN</td>\n",
              "      <td>2384.0</td>\n",
              "      <td>6037.0</td>\n",
              "      <td>0.0</td>\n",
              "      <td>3.0</td>\n",
              "      <td>0.0</td>\n",
              "      <td>0.0</td>\n",
              "      <td>0</td>\n",
              "      <td>34161869.0</td>\n",
              "      <td>-118376025.0</td>\n",
              "      <td>11253.0</td>\n",
              "      <td>NaN</td>\n",
              "      <td>0.0</td>\n",
              "      <td>0.0</td>\n",
              "      <td>0.0</td>\n",
              "      <td>0300</td>\n",
              "      <td>247.0</td>\n",
              "      <td>LAR4</td>\n",
              "      <td>12447.0</td>\n",
              "      <td>3101.0</td>\n",
              "      <td>96446.0</td>\n",
              "      <td>0.0</td>\n",
              "      <td>0.0</td>\n",
              "      <td>0.0</td>\n",
              "      <td>3.0</td>\n",
              "      <td>NaN</td>\n",
              "      <td>1937.0</td>\n",
              "      <td>NaN</td>\n",
              "      <td>19354.0</td>\n",
              "      <td>74409.0</td>\n",
              "      <td>2015.0</td>\n",
              "      <td>55055.0</td>\n",
              "      <td>1194.96</td>\n",
              "      <td>NaN</td>\n",
              "      <td>NaN</td>\n",
              "    </tr>\n",
              "    <tr>\n",
              "      <th>1977</th>\n",
              "      <td>10899376</td>\n",
              "      <td>0.0</td>\n",
              "      <td>0.0</td>\n",
              "      <td>4.0</td>\n",
              "      <td>8.0</td>\n",
              "      <td>6.0</td>\n",
              "      <td>7.0</td>\n",
              "      <td>4.0</td>\n",
              "      <td>0.0</td>\n",
              "      <td>4194.0</td>\n",
              "      <td>NaN</td>\n",
              "      <td>4194.0</td>\n",
              "      <td>6037.0</td>\n",
              "      <td>0.0</td>\n",
              "      <td>4.0</td>\n",
              "      <td>0.0</td>\n",
              "      <td>0.0</td>\n",
              "      <td>0</td>\n",
              "      <td>34160425.0</td>\n",
              "      <td>-118377737.0</td>\n",
              "      <td>6244.0</td>\n",
              "      <td>NaN</td>\n",
              "      <td>0.0</td>\n",
              "      <td>0.0</td>\n",
              "      <td>0.0</td>\n",
              "      <td>0400</td>\n",
              "      <td>248.0</td>\n",
              "      <td>LAR3</td>\n",
              "      <td>12447.0</td>\n",
              "      <td>3101.0</td>\n",
              "      <td>96446.0</td>\n",
              "      <td>0.0</td>\n",
              "      <td>0.0</td>\n",
              "      <td>0.0</td>\n",
              "      <td>4.0</td>\n",
              "      <td>NaN</td>\n",
              "      <td>1955.0</td>\n",
              "      <td>NaN</td>\n",
              "      <td>292628.0</td>\n",
              "      <td>736796.0</td>\n",
              "      <td>2015.0</td>\n",
              "      <td>444168.0</td>\n",
              "      <td>9259.80</td>\n",
              "      <td>NaN</td>\n",
              "      <td>NaN</td>\n",
              "    </tr>\n",
              "    <tr>\n",
              "      <th>2007</th>\n",
              "      <td>10908382</td>\n",
              "      <td>1.0</td>\n",
              "      <td>0.0</td>\n",
              "      <td>7.0</td>\n",
              "      <td>8.0</td>\n",
              "      <td>6.0</td>\n",
              "      <td>7.0</td>\n",
              "      <td>7.0</td>\n",
              "      <td>0.0</td>\n",
              "      <td>4518.0</td>\n",
              "      <td>NaN</td>\n",
              "      <td>4518.0</td>\n",
              "      <td>6037.0</td>\n",
              "      <td>0.0</td>\n",
              "      <td>7.0</td>\n",
              "      <td>0.0</td>\n",
              "      <td>0.0</td>\n",
              "      <td>0</td>\n",
              "      <td>34146886.0</td>\n",
              "      <td>-118385401.0</td>\n",
              "      <td>6620.0</td>\n",
              "      <td>NaN</td>\n",
              "      <td>0.0</td>\n",
              "      <td>0.0</td>\n",
              "      <td>0.0</td>\n",
              "      <td>0400</td>\n",
              "      <td>248.0</td>\n",
              "      <td>LARD1.5</td>\n",
              "      <td>12447.0</td>\n",
              "      <td>3101.0</td>\n",
              "      <td>96449.0</td>\n",
              "      <td>0.0</td>\n",
              "      <td>0.0</td>\n",
              "      <td>0.0</td>\n",
              "      <td>4.0</td>\n",
              "      <td>NaN</td>\n",
              "      <td>1976.0</td>\n",
              "      <td>NaN</td>\n",
              "      <td>477791.0</td>\n",
              "      <td>724638.0</td>\n",
              "      <td>2015.0</td>\n",
              "      <td>246847.0</td>\n",
              "      <td>9102.19</td>\n",
              "      <td>NaN</td>\n",
              "      <td>NaN</td>\n",
              "    </tr>\n",
              "    <tr>\n",
              "      <th>2008</th>\n",
              "      <td>10908528</td>\n",
              "      <td>0.0</td>\n",
              "      <td>0.0</td>\n",
              "      <td>4.0</td>\n",
              "      <td>4.0</td>\n",
              "      <td>6.0</td>\n",
              "      <td>7.0</td>\n",
              "      <td>4.0</td>\n",
              "      <td>0.0</td>\n",
              "      <td>2156.0</td>\n",
              "      <td>NaN</td>\n",
              "      <td>2156.0</td>\n",
              "      <td>6037.0</td>\n",
              "      <td>0.0</td>\n",
              "      <td>4.0</td>\n",
              "      <td>0.0</td>\n",
              "      <td>0.0</td>\n",
              "      <td>0</td>\n",
              "      <td>34148406.0</td>\n",
              "      <td>-118378416.0</td>\n",
              "      <td>5862.0</td>\n",
              "      <td>NaN</td>\n",
              "      <td>0.0</td>\n",
              "      <td>0.0</td>\n",
              "      <td>0.0</td>\n",
              "      <td>0400</td>\n",
              "      <td>248.0</td>\n",
              "      <td>LARD1.5</td>\n",
              "      <td>12447.0</td>\n",
              "      <td>3101.0</td>\n",
              "      <td>96449.0</td>\n",
              "      <td>0.0</td>\n",
              "      <td>0.0</td>\n",
              "      <td>0.0</td>\n",
              "      <td>4.0</td>\n",
              "      <td>NaN</td>\n",
              "      <td>1950.0</td>\n",
              "      <td>NaN</td>\n",
              "      <td>195156.0</td>\n",
              "      <td>325254.0</td>\n",
              "      <td>2015.0</td>\n",
              "      <td>130098.0</td>\n",
              "      <td>4256.32</td>\n",
              "      <td>NaN</td>\n",
              "      <td>NaN</td>\n",
              "    </tr>\n",
              "  </tbody>\n",
              "</table>\n",
              "</div>"
            ],
            "text/plain": [
              "      parcelid  airconditioningtypeid  ...  taxdelinquencyflag  taxdelinquencyyear\n",
              "26    11488147                    0.0  ...                 NaN                 NaN\n",
              "32    11588747                    0.0  ...                 NaN                 NaN\n",
              "43    11759947                    0.0  ...                 NaN                 NaN\n",
              "72    12144747                    0.0  ...                 NaN                 NaN\n",
              "1454  10771083                    0.0  ...                 NaN                 NaN\n",
              "1737  10839699                    0.0  ...                 NaN                 NaN\n",
              "1751  10843760                    0.0  ...                 NaN                 NaN\n",
              "1762  10847650                    0.0  ...                 NaN                 NaN\n",
              "1889  10877864                    0.0  ...                 NaN                 NaN\n",
              "1909  10883796                    0.0  ...                 NaN                 NaN\n",
              "1916  10885699                    0.0  ...                 NaN                 NaN\n",
              "1928  10887836                    0.0  ...                 NaN                 NaN\n",
              "1932  10888544                    0.0  ...                 NaN                 NaN\n",
              "1941  10891053                    1.0  ...                 NaN                 NaN\n",
              "1942  10891523                    0.0  ...                 NaN                 NaN\n",
              "1972  10897691                    0.0  ...                 NaN                 NaN\n",
              "1976  10899294                    0.0  ...                 NaN                 NaN\n",
              "1977  10899376                    0.0  ...                 NaN                 NaN\n",
              "2007  10908382                    1.0  ...                 NaN                 NaN\n",
              "2008  10908528                    0.0  ...                 NaN                 NaN\n",
              "\n",
              "[20 rows x 45 columns]"
            ]
          },
          "metadata": {
            "tags": []
          },
          "execution_count": 61
        }
      ]
    },
    {
      "cell_type": "code",
      "metadata": {
        "id": "BklJkvrKzYUp",
        "colab_type": "code",
        "outputId": "cb913c9e-7d32-4d2b-d0a5-f18ec29eff4d",
        "colab": {
          "base_uri": "https://localhost:8080/",
          "height": 526
        }
      },
      "source": [
        "plt.figure(figsize=(12,8))\n",
        "df.groupby('lotsizesquarefeet').mean()['taxvaluedollarcnt'].plot()"
      ],
      "execution_count": 0,
      "outputs": [
        {
          "output_type": "execute_result",
          "data": {
            "text/plain": [
              "<matplotlib.axes._subplots.AxesSubplot at 0x7fbf7e31b0b8>"
            ]
          },
          "metadata": {
            "tags": []
          },
          "execution_count": 80
        },
        {
          "output_type": "display_data",
          "data": {
            "image/png": "[encoded data removed]",
            "text/plain": [
              "<Figure size 864x576 with 1 Axes>"
            ]
          },
          "metadata": {
            "tags": [],
            "needs_background": "light"
          }
        }
      ]
    },
    {
      "cell_type": "code",
      "metadata": {
        "id": "P2j8RPuFlXqa",
        "colab_type": "code",
        "outputId": "3fc862a1-9cba-407d-ac98-e2a0f349bdb5",
        "colab": {
          "base_uri": "https://localhost:8080/",
          "height": 903
        }
      },
      "source": [
        "100* df.isnull().sum()/len(df) "
      ],
      "execution_count": 0,
      "outputs": [
        {
          "output_type": "execute_result",
          "data": {
            "text/plain": [
              "parcelid                         0.000000\n",
              "airconditioningtypeid            0.000000\n",
              "basementsqft                     0.000000\n",
              "bathroomcnt                      0.006289\n",
              "bedroomcnt                       0.000000\n",
              "buildingclasstypeid              0.000000\n",
              "buildingqualitytypeid           10.457657\n",
              "calculatedbathnbr                8.977557\n",
              "decktypeid                       0.000000\n",
              "calculatedfinishedsquarefeet     0.000000\n",
              "finishedsquarefeet12            99.997904\n",
              "finishedsquarefeet15             0.000000\n",
              "fips                             0.000000\n",
              "fireplacecnt                     0.000000\n",
              "fullbathcnt                      8.977557\n",
              "garagecarcnt                     0.000000\n",
              "garagetotalsqft                  0.000000\n",
              "hashottuborspa                   0.000000\n",
              "latitude                         0.000000\n",
              "longitude                        0.000000\n",
              "lotsizesquarefeet                1.077055\n",
              "poolcnt                         98.765186\n",
              "pooltypeid10                     0.000000\n",
              "pooltypeid2                      0.000000\n",
              "pooltypeid7                      0.000000\n",
              "propertycountylandusecode        0.407761\n",
              "propertylandusetypeid            0.000000\n",
              "propertyzoningdesc               1.026740\n",
              "rawcensustractandblock           0.000000\n",
              "regionidcity                     0.583864\n",
              "regionidcounty                   0.000000\n",
              "regionidzip                      0.082286\n",
              "roomcnt                          0.006289\n",
              "storytypeid                      0.000000\n",
              "threequarterbathnbr              0.000000\n",
              "unitcnt                          4.271009\n",
              "yardbuildingsqft17              99.964360\n",
              "yearbuilt                        2.120567\n",
              "numberofstories                 94.380444\n",
              "structuretaxvaluedollarcnt       0.515729\n",
              "taxvaluedollarcnt                0.025682\n",
              "assessmentyear                   0.000524\n",
              "landtaxvaluedollarcnt            0.041929\n",
              "taxamount                        0.602208\n",
              "taxdelinquencyflag              96.802377\n",
              "taxdelinquencyyear              96.802377\n",
              "censustractandblock              7.264227\n",
              "dtype: float64"
            ]
          },
          "metadata": {
            "tags": []
          },
          "execution_count": 33
        }
      ]
    },
    {
      "cell_type": "code",
      "metadata": {
        "id": "0m8hMfkL8GY2",
        "colab_type": "code",
        "colab": {}
      },
      "source": [
        "df = df[df['calculatedbathnbr'].notna()]\n",
        "df = df[df['buildingqualitytypeid'].notna()]\n",
        "df = df[df['propertyzoningdesc'].notna()]\n",
        "df = df[df['propertycountylandusecode'].notna()]\n",
        "df = df[df['regionidcity'].notna()]\n",
        "df = df[df['regionidzip'].notna()]\n",
        "df = df.drop('roomcnt',axis=1)\n",
        "df = df.drop('yardbuildingsqft17',axis=1)\n",
        "df = df[df['structuretaxvaluedollarcnt'].notna()]\n",
        "df = df[df['taxvaluedollarcnt'].notna()]\n",
        "df = df[df['assessmentyear'].notna()]\n",
        "df = df[df['landtaxvaluedollarcnt '].notna()]\n",
        "\n"
      ],
      "execution_count": 0,
      "outputs": []
    },
    {
      "cell_type": "code",
      "metadata": {
        "id": "z7YjIfItD4X6",
        "colab_type": "code",
        "colab": {}
      },
      "source": [
        "df = df.drop('numberofstories',axis=1)\n",
        "df = df[df['yearbuilt'].notna()]\n",
        "df = df[df['yearbuilt'].notna()]\n",
        "df = df[df['landtaxvaluedollarcnt'].notna()]\n",
        "df = df.drop('numberofstories',axis=1)\n",
        "\n",
        "\n"
      ],
      "execution_count": 0,
      "outputs": []
    },
    {
      "cell_type": "code",
      "metadata": {
        "id": "FL68_B5W_Q8m",
        "colab_type": "code",
        "outputId": "a3f54ab9-6417-4450-d0bd-d955b5318b71",
        "colab": {
          "base_uri": "https://localhost:8080/",
          "height": 737
        }
      },
      "source": [
        "100* df.isnull().sum()/len(df) "
      ],
      "execution_count": 0,
      "outputs": [
        {
          "output_type": "execute_result",
          "data": {
            "text/plain": [
              "parcelid                        0.0\n",
              "airconditioningtypeid           0.0\n",
              "basementsqft                    0.0\n",
              "bathroomcnt                     0.0\n",
              "bedroomcnt                      0.0\n",
              "buildingclasstypeid             0.0\n",
              "buildingqualitytypeid           0.0\n",
              "calculatedbathnbr               0.0\n",
              "decktypeid                      0.0\n",
              "calculatedfinishedsquarefeet    0.0\n",
              "finishedsquarefeet15            0.0\n",
              "fips                            0.0\n",
              "fireplacecnt                    0.0\n",
              "fullbathcnt                     0.0\n",
              "garagecarcnt                    0.0\n",
              "garagetotalsqft                 0.0\n",
              "hashottuborspa                  0.0\n",
              "latitude                        0.0\n",
              "longitude                       0.0\n",
              "lotsizesquarefeet               0.0\n",
              "pooltypeid10                    0.0\n",
              "pooltypeid2                     0.0\n",
              "pooltypeid7                     0.0\n",
              "propertycountylandusecode       0.0\n",
              "propertylandusetypeid           0.0\n",
              "propertyzoningdesc              0.0\n",
              "regionidcity                    0.0\n",
              "regionidcounty                  0.0\n",
              "regionidzip                     0.0\n",
              "storytypeid                     0.0\n",
              "threequarterbathnbr             0.0\n",
              "unitcnt                         0.0\n",
              "yearbuilt                       0.0\n",
              "structuretaxvaluedollarcnt      0.0\n",
              "taxvaluedollarcnt               0.0\n",
              "assessmentyear                  0.0\n",
              "landtaxvaluedollarcnt           0.0\n",
              "taxamount                       0.0\n",
              "dtype: float64"
            ]
          },
          "metadata": {
            "tags": []
          },
          "execution_count": 82
        }
      ]
    },
    {
      "cell_type": "code",
      "metadata": {
        "id": "pB4QJLV8_TMP",
        "colab_type": "code",
        "colab": {}
      },
      "source": [
        "df = df.drop('taxdelinquencyyear',axis=1)"
      ],
      "execution_count": 0,
      "outputs": []
    },
    {
      "cell_type": "code",
      "metadata": {
        "id": "5Vtjm0bbFwf-",
        "colab_type": "code",
        "colab": {}
      },
      "source": [
        "df = df.drop('finishedsquarefeet12',axis=1)"
      ],
      "execution_count": 0,
      "outputs": []
    },
    {
      "cell_type": "code",
      "metadata": {
        "id": "e-QfFg1s_j1k",
        "colab_type": "code",
        "outputId": "832df797-5d96-4881-9243-6b6febf667c6",
        "colab": {
          "base_uri": "https://localhost:8080/",
          "height": 35
        }
      },
      "source": [
        "len(df)"
      ],
      "execution_count": 0,
      "outputs": [
        {
          "output_type": "execute_result",
          "data": {
            "text/plain": [
              "156717"
            ]
          },
          "metadata": {
            "tags": []
          },
          "execution_count": 78
        }
      ]
    },
    {
      "cell_type": "code",
      "metadata": {
        "id": "kSfqbEHqDj9s",
        "colab_type": "code",
        "colab": {}
      },
      "source": [
        "df = df.drop('poolcnt',axis=1)\n",
        "df = df[df['structuretaxvaluedollarcnt'].notna()]\n",
        "df = df[df['taxamount'].notna()]\n",
        "df = df[df['lotsizesquarefeet'].notna()]"
      ],
      "execution_count": 0,
      "outputs": []
    },
    {
      "cell_type": "code",
      "metadata": {
        "id": "jt7-lLroG7WP",
        "colab_type": "code",
        "colab": {}
      },
      "source": [
        "df.to_csv('/content/gdrive/My Drive/dataset/zillow.csv')"
      ],
      "execution_count": 0,
      "outputs": []
    },
    {
      "cell_type": "code",
      "metadata": {
        "id": "OEYrWSuGIR3f",
        "colab_type": "code",
        "colab": {}
      },
      "source": [
        ""
      ],
      "execution_count": 0,
      "outputs": []
    }
  ]
}