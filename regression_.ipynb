{
  "nbformat": 4,
  "nbformat_minor": 0,
  "metadata": {
    "colab": {
      "name": "regression .ipynb",
      "provenance": [],
      "collapsed_sections": [],
      "authorship_tag": "ABX9TyPs4uE0sCQj0SZYfs1LxcqB",
      "include_colab_link": true
    },
    "kernelspec": {
      "name": "python3",
      "display_name": "Python 3"
    }
  },
  "cells": [
    {
      "cell_type": "markdown",
      "metadata": {
        "id": "view-in-github",
        "colab_type": "text"
      },
      "source": [
        "<a href=\"https://colab.research.google.com/github/Bellahmer-hacene/data-science/blob/master/regression_.ipynb\" target=\"_parent\"><img src=\"https://colab.research.google.com/assets/colab-badge.svg\" alt=\"Open In Colab\"/></a>"
      ]
    },
    {
      "cell_type": "markdown",
      "metadata": {
        "id": "EmbTNyNpJh8K",
        "colab_type": "text"
      },
      "source": [
        "# Dataset\n",
        "https://www.kaggle.com/harlfoxem/housesalesprediction\n",
        "# Description:\n",
        "\n",
        "    id - Unique ID for each home sold\n",
        "    date - Date of the home sale\n",
        "    price - Price of each home sold\n",
        "    bedrooms - Number of bedrooms\n",
        "    bathrooms - Number of bathrooms, where .5 accounts for a room with a toilet but no shower\n",
        "    sqft_living - Square footage of the apartments interior living space\n",
        "    sqft_lot - Square footage of the land space\n",
        "    floors - Number of floors\n",
        "    waterfront - A dummy variable for whether the apartment was overlooking the waterfront or not\n",
        "    view - An index from 0 to 4 of how good the view of the property was\n",
        "    condition - An index from 1 to 5 on the condition of the apartment,\n",
        "    grade - An index from 1 to 13, where 1-3 falls short of building construction and design, 7 has an average level of construction and design, and 11-13 have a high quality level of construction and design.\n",
        "    sqft_above - The square footage of the interior housing space that is above ground level\n",
        "    sqft_basement - The square footage of the interior housing space that is below ground level\n",
        "    yr_built - The year the house was initially built\n",
        "    yr_renovated - The year of the house’s last renovation\n",
        "    zipcode - What zipcode area the house is in\n",
        "    lat - Lattitude\n",
        "    long - Longitude\n",
        "    sqft_living15 - The square footage of interior housing living space for the nearest 15 neighbors\n",
        "    sqft_lot15 - The square footage of the land lots of the nearest 15 neighbors\n"
      ]
    },
    {
      "cell_type": "code",
      "metadata": {
        "id": "aj4OjH9FjGD7",
        "colab_type": "code",
        "outputId": "3f9bf9d2-f1ea-4485-a16a-70994e00433b",
        "colab": {
          "base_uri": "https://localhost:8080/",
          "height": 217
        }
      },
      "source": [
        "!wget https://raw.githubusercontent.com/Bellahmer-hacene/demo_git/master/kc_house_data.csv"
      ],
      "execution_count": 1,
      "outputs": [
        {
          "output_type": "stream",
          "text": [
            "--2020-04-04 15:04:28--  https://raw.githubusercontent.com/Bellahmer-hacene/demo_git/master/kc_house_data.csv\n",
            "Resolving raw.githubusercontent.com (raw.githubusercontent.com)... 151.101.0.133, 151.101.64.133, 151.101.128.133, ...\n",
            "Connecting to raw.githubusercontent.com (raw.githubusercontent.com)|151.101.0.133|:443... connected.\n",
            "HTTP request sent, awaiting response... 200 OK\n",
            "Length: 2226636 (2.1M) [text/plain]\n",
            "Saving to: ‘kc_house_data.csv’\n",
            "\n",
            "\rkc_house_data.csv     0%[                    ]       0  --.-KB/s               \rkc_house_data.csv    92%[=================>  ]   1.96M  9.81MB/s               \rkc_house_data.csv   100%[===================>]   2.12M  10.1MB/s    in 0.2s    \n",
            "\n",
            "2020-04-04 15:04:28 (10.1 MB/s) - ‘kc_house_data.csv’ saved [2226636/2226636]\n",
            "\n"
          ],
          "name": "stdout"
        }
      ]
    },
    {
      "cell_type": "code",
      "metadata": {
        "id": "3wtzPysPwv5Y",
        "colab_type": "code",
        "outputId": "3a9298e7-831f-4cb9-9149-305a3783f7c0",
        "colab": {
          "base_uri": "https://localhost:8080/",
          "height": 35
        }
      },
      "source": [
        "!ls"
      ],
      "execution_count": 2,
      "outputs": [
        {
          "output_type": "stream",
          "text": [
            "kc_house_data.csv  sample_data\n"
          ],
          "name": "stdout"
        }
      ]
    },
    {
      "cell_type": "code",
      "metadata": {
        "id": "1ks9ILu7jHPt",
        "colab_type": "code",
        "outputId": "77d84df0-1aff-46ca-a228-236f91d1126c",
        "colab": {
          "base_uri": "https://localhost:8080/",
          "height": 73
        }
      },
      "source": [
        "import tensorflow as tf\n",
        "import pandas as pd\n",
        "import numpy as np\n",
        "import seaborn as sns\n",
        "import matplotlib.pyplot as plt"
      ],
      "execution_count": 3,
      "outputs": [
        {
          "output_type": "stream",
          "text": [
            "/usr/local/lib/python3.6/dist-packages/statsmodels/tools/_testing.py:19: FutureWarning: pandas.util.testing is deprecated. Use the functions in the public API at pandas.testing instead.\n",
            "  import pandas.util.testing as tm\n"
          ],
          "name": "stderr"
        }
      ]
    },
    {
      "cell_type": "code",
      "metadata": {
        "id": "XCO4DkN9w-4T",
        "colab_type": "code",
        "colab": {}
      },
      "source": [
        "df = pd.read_csv('kc_house_data.csv')"
      ],
      "execution_count": 0,
      "outputs": []
    },
    {
      "cell_type": "code",
      "metadata": {
        "id": "HIlUE57oKr2M",
        "colab_type": "code",
        "outputId": "0b6f709f-8cd5-42c4-fa02-f3033fff897d",
        "colab": {
          "base_uri": "https://localhost:8080/",
          "height": 35
        }
      },
      "source": [
        "len(df)"
      ],
      "execution_count": 5,
      "outputs": [
        {
          "output_type": "execute_result",
          "data": {
            "text/plain": [
              "21597"
            ]
          },
          "metadata": {
            "tags": []
          },
          "execution_count": 5
        }
      ]
    },
    {
      "cell_type": "code",
      "metadata": {
        "id": "ou_eo9pFKu3Y",
        "colab_type": "code",
        "outputId": "d96b1fc3-5cbf-4cdb-f34d-67f0074acedb",
        "colab": {
          "base_uri": "https://localhost:8080/",
          "height": 226
        }
      },
      "source": [
        "df.head()"
      ],
      "execution_count": 6,
      "outputs": [
        {
          "output_type": "execute_result",
          "data": {
            "text/html": [
              "<div>\n",
              "<style scoped>\n",
              "    .dataframe tbody tr th:only-of-type {\n",
              "        vertical-align: middle;\n",
              "    }\n",
              "\n",
              "    .dataframe tbody tr th {\n",
              "        vertical-align: top;\n",
              "    }\n",
              "\n",
              "    .dataframe thead th {\n",
              "        text-align: right;\n",
              "    }\n",
              "</style>\n",
              "<table border=\"1\" class=\"dataframe\">\n",
              "  <thead>\n",
              "    <tr style=\"text-align: right;\">\n",
              "      <th></th>\n",
              "      <th>id</th>\n",
              "      <th>date</th>\n",
              "      <th>price</th>\n",
              "      <th>bedrooms</th>\n",
              "      <th>bathrooms</th>\n",
              "      <th>sqft_living</th>\n",
              "      <th>sqft_lot</th>\n",
              "      <th>floors</th>\n",
              "      <th>waterfront</th>\n",
              "      <th>view</th>\n",
              "      <th>condition</th>\n",
              "      <th>grade</th>\n",
              "      <th>sqft_above</th>\n",
              "      <th>sqft_basement</th>\n",
              "      <th>yr_built</th>\n",
              "      <th>yr_renovated</th>\n",
              "      <th>zipcode</th>\n",
              "      <th>lat</th>\n",
              "      <th>long</th>\n",
              "      <th>sqft_living15</th>\n",
              "      <th>sqft_lot15</th>\n",
              "    </tr>\n",
              "  </thead>\n",
              "  <tbody>\n",
              "    <tr>\n",
              "      <th>0</th>\n",
              "      <td>7129300520</td>\n",
              "      <td>10/13/2014</td>\n",
              "      <td>221900.0</td>\n",
              "      <td>3</td>\n",
              "      <td>1.00</td>\n",
              "      <td>1180</td>\n",
              "      <td>5650</td>\n",
              "      <td>1.0</td>\n",
              "      <td>0</td>\n",
              "      <td>0</td>\n",
              "      <td>3</td>\n",
              "      <td>7</td>\n",
              "      <td>1180</td>\n",
              "      <td>0</td>\n",
              "      <td>1955</td>\n",
              "      <td>0</td>\n",
              "      <td>98178</td>\n",
              "      <td>47.5112</td>\n",
              "      <td>-122.257</td>\n",
              "      <td>1340</td>\n",
              "      <td>5650</td>\n",
              "    </tr>\n",
              "    <tr>\n",
              "      <th>1</th>\n",
              "      <td>6414100192</td>\n",
              "      <td>12/9/2014</td>\n",
              "      <td>538000.0</td>\n",
              "      <td>3</td>\n",
              "      <td>2.25</td>\n",
              "      <td>2570</td>\n",
              "      <td>7242</td>\n",
              "      <td>2.0</td>\n",
              "      <td>0</td>\n",
              "      <td>0</td>\n",
              "      <td>3</td>\n",
              "      <td>7</td>\n",
              "      <td>2170</td>\n",
              "      <td>400</td>\n",
              "      <td>1951</td>\n",
              "      <td>1991</td>\n",
              "      <td>98125</td>\n",
              "      <td>47.7210</td>\n",
              "      <td>-122.319</td>\n",
              "      <td>1690</td>\n",
              "      <td>7639</td>\n",
              "    </tr>\n",
              "    <tr>\n",
              "      <th>2</th>\n",
              "      <td>5631500400</td>\n",
              "      <td>2/25/2015</td>\n",
              "      <td>180000.0</td>\n",
              "      <td>2</td>\n",
              "      <td>1.00</td>\n",
              "      <td>770</td>\n",
              "      <td>10000</td>\n",
              "      <td>1.0</td>\n",
              "      <td>0</td>\n",
              "      <td>0</td>\n",
              "      <td>3</td>\n",
              "      <td>6</td>\n",
              "      <td>770</td>\n",
              "      <td>0</td>\n",
              "      <td>1933</td>\n",
              "      <td>0</td>\n",
              "      <td>98028</td>\n",
              "      <td>47.7379</td>\n",
              "      <td>-122.233</td>\n",
              "      <td>2720</td>\n",
              "      <td>8062</td>\n",
              "    </tr>\n",
              "    <tr>\n",
              "      <th>3</th>\n",
              "      <td>2487200875</td>\n",
              "      <td>12/9/2014</td>\n",
              "      <td>604000.0</td>\n",
              "      <td>4</td>\n",
              "      <td>3.00</td>\n",
              "      <td>1960</td>\n",
              "      <td>5000</td>\n",
              "      <td>1.0</td>\n",
              "      <td>0</td>\n",
              "      <td>0</td>\n",
              "      <td>5</td>\n",
              "      <td>7</td>\n",
              "      <td>1050</td>\n",
              "      <td>910</td>\n",
              "      <td>1965</td>\n",
              "      <td>0</td>\n",
              "      <td>98136</td>\n",
              "      <td>47.5208</td>\n",
              "      <td>-122.393</td>\n",
              "      <td>1360</td>\n",
              "      <td>5000</td>\n",
              "    </tr>\n",
              "    <tr>\n",
              "      <th>4</th>\n",
              "      <td>1954400510</td>\n",
              "      <td>2/18/2015</td>\n",
              "      <td>510000.0</td>\n",
              "      <td>3</td>\n",
              "      <td>2.00</td>\n",
              "      <td>1680</td>\n",
              "      <td>8080</td>\n",
              "      <td>1.0</td>\n",
              "      <td>0</td>\n",
              "      <td>0</td>\n",
              "      <td>3</td>\n",
              "      <td>8</td>\n",
              "      <td>1680</td>\n",
              "      <td>0</td>\n",
              "      <td>1987</td>\n",
              "      <td>0</td>\n",
              "      <td>98074</td>\n",
              "      <td>47.6168</td>\n",
              "      <td>-122.045</td>\n",
              "      <td>1800</td>\n",
              "      <td>7503</td>\n",
              "    </tr>\n",
              "  </tbody>\n",
              "</table>\n",
              "</div>"
            ],
            "text/plain": [
              "           id        date     price  ...     long  sqft_living15  sqft_lot15\n",
              "0  7129300520  10/13/2014  221900.0  ... -122.257           1340        5650\n",
              "1  6414100192   12/9/2014  538000.0  ... -122.319           1690        7639\n",
              "2  5631500400   2/25/2015  180000.0  ... -122.233           2720        8062\n",
              "3  2487200875   12/9/2014  604000.0  ... -122.393           1360        5000\n",
              "4  1954400510   2/18/2015  510000.0  ... -122.045           1800        7503\n",
              "\n",
              "[5 rows x 21 columns]"
            ]
          },
          "metadata": {
            "tags": []
          },
          "execution_count": 6
        }
      ]
    },
    {
      "cell_type": "markdown",
      "metadata": {
        "id": "u6nn6349LCOa",
        "colab_type": "text"
      },
      "source": [
        "#pas de données manquantes"
      ]
    },
    {
      "cell_type": "code",
      "metadata": {
        "id": "cG6RXIxVK10l",
        "colab_type": "code",
        "outputId": "40d5faa0-8355-4b35-aa3d-8e04c5bf371f",
        "colab": {
          "base_uri": "https://localhost:8080/",
          "height": 417
        }
      },
      "source": [
        "df.isnull().sum()"
      ],
      "execution_count": 7,
      "outputs": [
        {
          "output_type": "execute_result",
          "data": {
            "text/plain": [
              "id               0\n",
              "date             0\n",
              "price            0\n",
              "bedrooms         0\n",
              "bathrooms        0\n",
              "sqft_living      0\n",
              "sqft_lot         0\n",
              "floors           0\n",
              "waterfront       0\n",
              "view             0\n",
              "condition        0\n",
              "grade            0\n",
              "sqft_above       0\n",
              "sqft_basement    0\n",
              "yr_built         0\n",
              "yr_renovated     0\n",
              "zipcode          0\n",
              "lat              0\n",
              "long             0\n",
              "sqft_living15    0\n",
              "sqft_lot15       0\n",
              "dtype: int64"
            ]
          },
          "metadata": {
            "tags": []
          },
          "execution_count": 7
        }
      ]
    },
    {
      "cell_type": "markdown",
      "metadata": {
        "id": "Te1q5NJOLmG4",
        "colab_type": "text"
      },
      "source": [
        "Trés peu de maison ayant un prix > 1 milion"
      ]
    },
    {
      "cell_type": "code",
      "metadata": {
        "id": "HDau9gz_LIXe",
        "colab_type": "code",
        "outputId": "62376010-32ea-4c5f-a1e3-12969aa18765",
        "colab": {
          "base_uri": "https://localhost:8080/",
          "height": 526
        }
      },
      "source": [
        "plt.figure(figsize=(12,8))\n",
        "sns.distplot(df['price'])"
      ],
      "execution_count": 8,
      "outputs": [
        {
          "output_type": "execute_result",
          "data": {
            "text/plain": [
              "<matplotlib.axes._subplots.AxesSubplot at 0x7f6ea77e7c18>"
            ]
          },
          "metadata": {
            "tags": []
          },
          "execution_count": 8
        },
        {
          "output_type": "display_data",
          "data": {
            "image/png": "[encoded data removed]",
            "text/plain": [
              "<Figure size 864x576 with 1 Axes>"
            ]
          },
          "metadata": {
            "tags": []
          }
        }
      ]
    },
    {
      "cell_type": "code",
      "metadata": {
        "id": "DMhxtXa9L04O",
        "colab_type": "code",
        "outputId": "00bbaa04-483f-4a15-c421-0d52f4473e62",
        "colab": {
          "base_uri": "https://localhost:8080/",
          "height": 226
        }
      },
      "source": [
        "df.sort_values('price',ascending=False).head()"
      ],
      "execution_count": 9,
      "outputs": [
        {
          "output_type": "execute_result",
          "data": {
            "text/html": [
              "<div>\n",
              "<style scoped>\n",
              "    .dataframe tbody tr th:only-of-type {\n",
              "        vertical-align: middle;\n",
              "    }\n",
              "\n",
              "    .dataframe tbody tr th {\n",
              "        vertical-align: top;\n",
              "    }\n",
              "\n",
              "    .dataframe thead th {\n",
              "        text-align: right;\n",
              "    }\n",
              "</style>\n",
              "<table border=\"1\" class=\"dataframe\">\n",
              "  <thead>\n",
              "    <tr style=\"text-align: right;\">\n",
              "      <th></th>\n",
              "      <th>id</th>\n",
              "      <th>date</th>\n",
              "      <th>price</th>\n",
              "      <th>bedrooms</th>\n",
              "      <th>bathrooms</th>\n",
              "      <th>sqft_living</th>\n",
              "      <th>sqft_lot</th>\n",
              "      <th>floors</th>\n",
              "      <th>waterfront</th>\n",
              "      <th>view</th>\n",
              "      <th>condition</th>\n",
              "      <th>grade</th>\n",
              "      <th>sqft_above</th>\n",
              "      <th>sqft_basement</th>\n",
              "      <th>yr_built</th>\n",
              "      <th>yr_renovated</th>\n",
              "      <th>zipcode</th>\n",
              "      <th>lat</th>\n",
              "      <th>long</th>\n",
              "      <th>sqft_living15</th>\n",
              "      <th>sqft_lot15</th>\n",
              "    </tr>\n",
              "  </thead>\n",
              "  <tbody>\n",
              "    <tr>\n",
              "      <th>7245</th>\n",
              "      <td>6762700020</td>\n",
              "      <td>10/13/2014</td>\n",
              "      <td>7700000.0</td>\n",
              "      <td>6</td>\n",
              "      <td>8.00</td>\n",
              "      <td>12050</td>\n",
              "      <td>27600</td>\n",
              "      <td>2.5</td>\n",
              "      <td>0</td>\n",
              "      <td>3</td>\n",
              "      <td>4</td>\n",
              "      <td>13</td>\n",
              "      <td>8570</td>\n",
              "      <td>3480</td>\n",
              "      <td>1910</td>\n",
              "      <td>1987</td>\n",
              "      <td>98102</td>\n",
              "      <td>47.6298</td>\n",
              "      <td>-122.323</td>\n",
              "      <td>3940</td>\n",
              "      <td>8800</td>\n",
              "    </tr>\n",
              "    <tr>\n",
              "      <th>3910</th>\n",
              "      <td>9808700762</td>\n",
              "      <td>6/11/2014</td>\n",
              "      <td>7060000.0</td>\n",
              "      <td>5</td>\n",
              "      <td>4.50</td>\n",
              "      <td>10040</td>\n",
              "      <td>37325</td>\n",
              "      <td>2.0</td>\n",
              "      <td>1</td>\n",
              "      <td>2</td>\n",
              "      <td>3</td>\n",
              "      <td>11</td>\n",
              "      <td>7680</td>\n",
              "      <td>2360</td>\n",
              "      <td>1940</td>\n",
              "      <td>2001</td>\n",
              "      <td>98004</td>\n",
              "      <td>47.6500</td>\n",
              "      <td>-122.214</td>\n",
              "      <td>3930</td>\n",
              "      <td>25449</td>\n",
              "    </tr>\n",
              "    <tr>\n",
              "      <th>9245</th>\n",
              "      <td>9208900037</td>\n",
              "      <td>9/19/2014</td>\n",
              "      <td>6890000.0</td>\n",
              "      <td>6</td>\n",
              "      <td>7.75</td>\n",
              "      <td>9890</td>\n",
              "      <td>31374</td>\n",
              "      <td>2.0</td>\n",
              "      <td>0</td>\n",
              "      <td>4</td>\n",
              "      <td>3</td>\n",
              "      <td>13</td>\n",
              "      <td>8860</td>\n",
              "      <td>1030</td>\n",
              "      <td>2001</td>\n",
              "      <td>0</td>\n",
              "      <td>98039</td>\n",
              "      <td>47.6305</td>\n",
              "      <td>-122.240</td>\n",
              "      <td>4540</td>\n",
              "      <td>42730</td>\n",
              "    </tr>\n",
              "    <tr>\n",
              "      <th>4407</th>\n",
              "      <td>2470100110</td>\n",
              "      <td>8/4/2014</td>\n",
              "      <td>5570000.0</td>\n",
              "      <td>5</td>\n",
              "      <td>5.75</td>\n",
              "      <td>9200</td>\n",
              "      <td>35069</td>\n",
              "      <td>2.0</td>\n",
              "      <td>0</td>\n",
              "      <td>0</td>\n",
              "      <td>3</td>\n",
              "      <td>13</td>\n",
              "      <td>6200</td>\n",
              "      <td>3000</td>\n",
              "      <td>2001</td>\n",
              "      <td>0</td>\n",
              "      <td>98039</td>\n",
              "      <td>47.6289</td>\n",
              "      <td>-122.233</td>\n",
              "      <td>3560</td>\n",
              "      <td>24345</td>\n",
              "    </tr>\n",
              "    <tr>\n",
              "      <th>1446</th>\n",
              "      <td>8907500070</td>\n",
              "      <td>4/13/2015</td>\n",
              "      <td>5350000.0</td>\n",
              "      <td>5</td>\n",
              "      <td>5.00</td>\n",
              "      <td>8000</td>\n",
              "      <td>23985</td>\n",
              "      <td>2.0</td>\n",
              "      <td>0</td>\n",
              "      <td>4</td>\n",
              "      <td>3</td>\n",
              "      <td>12</td>\n",
              "      <td>6720</td>\n",
              "      <td>1280</td>\n",
              "      <td>2009</td>\n",
              "      <td>0</td>\n",
              "      <td>98004</td>\n",
              "      <td>47.6232</td>\n",
              "      <td>-122.220</td>\n",
              "      <td>4600</td>\n",
              "      <td>21750</td>\n",
              "    </tr>\n",
              "  </tbody>\n",
              "</table>\n",
              "</div>"
            ],
            "text/plain": [
              "              id        date      price  ...     long  sqft_living15  sqft_lot15\n",
              "7245  6762700020  10/13/2014  7700000.0  ... -122.323           3940        8800\n",
              "3910  9808700762   6/11/2014  7060000.0  ... -122.214           3930       25449\n",
              "9245  9208900037   9/19/2014  6890000.0  ... -122.240           4540       42730\n",
              "4407  2470100110    8/4/2014  5570000.0  ... -122.233           3560       24345\n",
              "1446  8907500070   4/13/2015  5350000.0  ... -122.220           4600       21750\n",
              "\n",
              "[5 rows x 21 columns]"
            ]
          },
          "metadata": {
            "tags": []
          },
          "execution_count": 9
        }
      ]
    },
    {
      "cell_type": "code",
      "metadata": {
        "id": "hMNRl_YONE7E",
        "colab_type": "code",
        "outputId": "f09a89b8-ded5-4819-ee15-b9ac1172b1f1",
        "colab": {
          "base_uri": "https://localhost:8080/",
          "height": 35
        }
      },
      "source": [
        "df['price'].median()"
      ],
      "execution_count": 10,
      "outputs": [
        {
          "output_type": "execute_result",
          "data": {
            "text/plain": [
              "450000.0"
            ]
          },
          "metadata": {
            "tags": []
          },
          "execution_count": 10
        }
      ]
    },
    {
      "cell_type": "code",
      "metadata": {
        "id": "TqSYPk3VNOeS",
        "colab_type": "code",
        "outputId": "b288aa61-32ef-491e-b23a-1abf99b35709",
        "colab": {
          "base_uri": "https://localhost:8080/",
          "height": 35
        }
      },
      "source": [
        "df['price'].mean()"
      ],
      "execution_count": 11,
      "outputs": [
        {
          "output_type": "execute_result",
          "data": {
            "text/plain": [
              "540296.5735055795"
            ]
          },
          "metadata": {
            "tags": []
          },
          "execution_count": 11
        }
      ]
    },
    {
      "cell_type": "markdown",
      "metadata": {
        "id": "HKSRZrH4MTM-",
        "colab_type": "text"
      },
      "source": [
        "# supprimer 15% de la dataset (maison ayant un prix trop élevé)"
      ]
    },
    {
      "cell_type": "code",
      "metadata": {
        "id": "Kq_-7JTx4FjH",
        "colab_type": "code",
        "outputId": "ac40acda-3245-4113-b410-5b859f9a3eff",
        "colab": {
          "base_uri": "https://localhost:8080/",
          "height": 35
        }
      },
      "source": [
        "len(df)*(0.15)"
      ],
      "execution_count": 12,
      "outputs": [
        {
          "output_type": "execute_result",
          "data": {
            "text/plain": [
              "3239.5499999999997"
            ]
          },
          "metadata": {
            "tags": []
          },
          "execution_count": 12
        }
      ]
    },
    {
      "cell_type": "code",
      "metadata": {
        "id": "ayFjBho94Jur",
        "colab_type": "code",
        "colab": {}
      },
      "source": [
        "df = df.sort_values('price',ascending=False).iloc[3240:]"
      ],
      "execution_count": 0,
      "outputs": []
    },
    {
      "cell_type": "code",
      "metadata": {
        "id": "fJdg2W4YMDx4",
        "colab_type": "code",
        "outputId": "5623b0a2-f2ac-4ec0-b9b8-0f30c28948bc",
        "colab": {
          "base_uri": "https://localhost:8080/",
          "height": 526
        }
      },
      "source": [
        "plt.figure(figsize=(12,8))\n",
        "sns.distplot(df['price'])"
      ],
      "execution_count": 14,
      "outputs": [
        {
          "output_type": "execute_result",
          "data": {
            "text/plain": [
              "<matplotlib.axes._subplots.AxesSubplot at 0x7f6ea71fc5c0>"
            ]
          },
          "metadata": {
            "tags": []
          },
          "execution_count": 14
        },
        {
          "output_type": "display_data",
          "data": {
            "image/png": "[encoded data removed]",
            "text/plain": [
              "<Figure size 864x576 with 1 Axes>"
            ]
          },
          "metadata": {
            "tags": []
          }
        }
      ]
    },
    {
      "cell_type": "code",
      "metadata": {
        "id": "ZTgOgxr-MoqT",
        "colab_type": "code",
        "outputId": "af1ad9f3-f56d-4b8c-d5a5-6a13e75402b3",
        "colab": {
          "base_uri": "https://localhost:8080/",
          "height": 226
        }
      },
      "source": [
        "df.sort_values('price',ascending=False).head()"
      ],
      "execution_count": 15,
      "outputs": [
        {
          "output_type": "execute_result",
          "data": {
            "text/html": [
              "<div>\n",
              "<style scoped>\n",
              "    .dataframe tbody tr th:only-of-type {\n",
              "        vertical-align: middle;\n",
              "    }\n",
              "\n",
              "    .dataframe tbody tr th {\n",
              "        vertical-align: top;\n",
              "    }\n",
              "\n",
              "    .dataframe thead th {\n",
              "        text-align: right;\n",
              "    }\n",
              "</style>\n",
              "<table border=\"1\" class=\"dataframe\">\n",
              "  <thead>\n",
              "    <tr style=\"text-align: right;\">\n",
              "      <th></th>\n",
              "      <th>id</th>\n",
              "      <th>date</th>\n",
              "      <th>price</th>\n",
              "      <th>bedrooms</th>\n",
              "      <th>bathrooms</th>\n",
              "      <th>sqft_living</th>\n",
              "      <th>sqft_lot</th>\n",
              "      <th>floors</th>\n",
              "      <th>waterfront</th>\n",
              "      <th>view</th>\n",
              "      <th>condition</th>\n",
              "      <th>grade</th>\n",
              "      <th>sqft_above</th>\n",
              "      <th>sqft_basement</th>\n",
              "      <th>yr_built</th>\n",
              "      <th>yr_renovated</th>\n",
              "      <th>zipcode</th>\n",
              "      <th>lat</th>\n",
              "      <th>long</th>\n",
              "      <th>sqft_living15</th>\n",
              "      <th>sqft_lot15</th>\n",
              "    </tr>\n",
              "  </thead>\n",
              "  <tbody>\n",
              "    <tr>\n",
              "      <th>20606</th>\n",
              "      <td>6666830390</td>\n",
              "      <td>7/18/2014</td>\n",
              "      <td>779380.0</td>\n",
              "      <td>5</td>\n",
              "      <td>2.50</td>\n",
              "      <td>2590</td>\n",
              "      <td>7084</td>\n",
              "      <td>2.0</td>\n",
              "      <td>0</td>\n",
              "      <td>0</td>\n",
              "      <td>3</td>\n",
              "      <td>8</td>\n",
              "      <td>2590</td>\n",
              "      <td>0</td>\n",
              "      <td>2014</td>\n",
              "      <td>0</td>\n",
              "      <td>98052</td>\n",
              "      <td>47.7053</td>\n",
              "      <td>-122.113</td>\n",
              "      <td>3010</td>\n",
              "      <td>4823</td>\n",
              "    </tr>\n",
              "    <tr>\n",
              "      <th>2725</th>\n",
              "      <td>5071401000</td>\n",
              "      <td>8/29/2014</td>\n",
              "      <td>779000.0</td>\n",
              "      <td>6</td>\n",
              "      <td>2.50</td>\n",
              "      <td>3250</td>\n",
              "      <td>12000</td>\n",
              "      <td>1.0</td>\n",
              "      <td>0</td>\n",
              "      <td>1</td>\n",
              "      <td>3</td>\n",
              "      <td>8</td>\n",
              "      <td>1800</td>\n",
              "      <td>1450</td>\n",
              "      <td>1966</td>\n",
              "      <td>0</td>\n",
              "      <td>98115</td>\n",
              "      <td>47.6935</td>\n",
              "      <td>-122.280</td>\n",
              "      <td>3490</td>\n",
              "      <td>10320</td>\n",
              "    </tr>\n",
              "    <tr>\n",
              "      <th>5374</th>\n",
              "      <td>269000221</td>\n",
              "      <td>8/26/2014</td>\n",
              "      <td>779000.0</td>\n",
              "      <td>3</td>\n",
              "      <td>1.75</td>\n",
              "      <td>2320</td>\n",
              "      <td>6400</td>\n",
              "      <td>1.0</td>\n",
              "      <td>0</td>\n",
              "      <td>2</td>\n",
              "      <td>4</td>\n",
              "      <td>8</td>\n",
              "      <td>1420</td>\n",
              "      <td>900</td>\n",
              "      <td>1957</td>\n",
              "      <td>0</td>\n",
              "      <td>98199</td>\n",
              "      <td>47.6449</td>\n",
              "      <td>-122.389</td>\n",
              "      <td>2540</td>\n",
              "      <td>7680</td>\n",
              "    </tr>\n",
              "    <tr>\n",
              "      <th>15663</th>\n",
              "      <td>3956900480</td>\n",
              "      <td>9/3/2014</td>\n",
              "      <td>779000.0</td>\n",
              "      <td>3</td>\n",
              "      <td>1.75</td>\n",
              "      <td>1990</td>\n",
              "      <td>5600</td>\n",
              "      <td>1.0</td>\n",
              "      <td>0</td>\n",
              "      <td>1</td>\n",
              "      <td>3</td>\n",
              "      <td>8</td>\n",
              "      <td>1330</td>\n",
              "      <td>660</td>\n",
              "      <td>1941</td>\n",
              "      <td>0</td>\n",
              "      <td>98199</td>\n",
              "      <td>47.6500</td>\n",
              "      <td>-122.415</td>\n",
              "      <td>2630</td>\n",
              "      <td>6780</td>\n",
              "    </tr>\n",
              "    <tr>\n",
              "      <th>21379</th>\n",
              "      <td>3879900754</td>\n",
              "      <td>9/15/2014</td>\n",
              "      <td>779000.0</td>\n",
              "      <td>3</td>\n",
              "      <td>2.50</td>\n",
              "      <td>1580</td>\n",
              "      <td>1487</td>\n",
              "      <td>3.0</td>\n",
              "      <td>0</td>\n",
              "      <td>1</td>\n",
              "      <td>3</td>\n",
              "      <td>9</td>\n",
              "      <td>1580</td>\n",
              "      <td>0</td>\n",
              "      <td>2009</td>\n",
              "      <td>0</td>\n",
              "      <td>98119</td>\n",
              "      <td>47.6276</td>\n",
              "      <td>-122.359</td>\n",
              "      <td>1610</td>\n",
              "      <td>1297</td>\n",
              "    </tr>\n",
              "  </tbody>\n",
              "</table>\n",
              "</div>"
            ],
            "text/plain": [
              "               id       date     price  ...     long  sqft_living15  sqft_lot15\n",
              "20606  6666830390  7/18/2014  779380.0  ... -122.113           3010        4823\n",
              "2725   5071401000  8/29/2014  779000.0  ... -122.280           3490       10320\n",
              "5374    269000221  8/26/2014  779000.0  ... -122.389           2540        7680\n",
              "15663  3956900480   9/3/2014  779000.0  ... -122.415           2630        6780\n",
              "21379  3879900754  9/15/2014  779000.0  ... -122.359           1610        1297\n",
              "\n",
              "[5 rows x 21 columns]"
            ]
          },
          "metadata": {
            "tags": []
          },
          "execution_count": 15
        }
      ]
    },
    {
      "cell_type": "code",
      "metadata": {
        "id": "PDvdqTepN7uo",
        "colab_type": "code",
        "outputId": "e0e94c46-2059-44d7-c26e-b347a27edda6",
        "colab": {
          "base_uri": "https://localhost:8080/",
          "height": 35
        }
      },
      "source": [
        "df['price'].median()"
      ],
      "execution_count": 16,
      "outputs": [
        {
          "output_type": "execute_result",
          "data": {
            "text/plain": [
              "411000.0"
            ]
          },
          "metadata": {
            "tags": []
          },
          "execution_count": 16
        }
      ]
    },
    {
      "cell_type": "code",
      "metadata": {
        "id": "r3PE11-kOYWV",
        "colab_type": "code",
        "outputId": "0161ad94-4296-4918-d6ec-5f9d2d5d7ff7",
        "colab": {
          "base_uri": "https://localhost:8080/",
          "height": 35
        }
      },
      "source": [
        "df['price'].mean()"
      ],
      "execution_count": 17,
      "outputs": [
        {
          "output_type": "execute_result",
          "data": {
            "text/plain": [
              "428690.395870785"
            ]
          },
          "metadata": {
            "tags": []
          },
          "execution_count": 17
        }
      ]
    },
    {
      "cell_type": "markdown",
      "metadata": {
        "id": "1ZtVymkySXmI",
        "colab_type": "text"
      },
      "source": [
        "# Feature Engineering pour la Date"
      ]
    },
    {
      "cell_type": "code",
      "metadata": {
        "id": "AbWr75ZB4WGm",
        "colab_type": "code",
        "colab": {}
      },
      "source": [
        "df = df.drop('id',axis=1)\n",
        "df['date'] = pd.to_datetime(df['date'])\n",
        "df['month'] = df['date'].apply(lambda date:date.month)\n",
        "df['year'] = df['date'].apply(lambda date:date.year)\n",
        "df = df.drop('date',axis=1)\n",
        "df = df.drop('zipcode',axis=1)\n",
        "X = df.drop('price',axis=1).values\n",
        "y = df['price'].values"
      ],
      "execution_count": 0,
      "outputs": []
    },
    {
      "cell_type": "markdown",
      "metadata": {
        "id": "JpEETXydSva2",
        "colab_type": "text"
      },
      "source": [
        "# Mise à l'échelle et Train Test Split"
      ]
    },
    {
      "cell_type": "code",
      "metadata": {
        "id": "MyRFGI-j4sCQ",
        "colab_type": "code",
        "colab": {}
      },
      "source": [
        "from sklearn.model_selection import train_test_split\n",
        "X_train, X_test, y_train, y_test = train_test_split(X,y,test_size=0.25,random_state=101)"
      ],
      "execution_count": 0,
      "outputs": []
    },
    {
      "cell_type": "code",
      "metadata": {
        "id": "XbLlKdCk4sm3",
        "colab_type": "code",
        "colab": {}
      },
      "source": [
        "from sklearn.preprocessing import MinMaxScaler\n",
        "scaler = MinMaxScaler()\n",
        "X_train= scaler.fit_transform(X_train)\n",
        "X_test = scaler.transform(X_test)"
      ],
      "execution_count": 0,
      "outputs": []
    },
    {
      "cell_type": "markdown",
      "metadata": {
        "id": "wSEIoyRHTIjs",
        "colab_type": "text"
      },
      "source": [
        "# Création d'un modèle"
      ]
    },
    {
      "cell_type": "code",
      "metadata": {
        "id": "Z7QsiQz643m-",
        "colab_type": "code",
        "outputId": "83878a50-a773-4093-efff-cad1a87e887a",
        "colab": {
          "base_uri": "https://localhost:8080/",
          "height": 1000
        }
      },
      "source": [
        "from tensorflow.keras.models import Sequential\n",
        "from tensorflow.keras.layers import Dense, Activation,Dropout\n",
        "from tensorflow.keras.callbacks import EarlyStopping\n",
        "\n",
        "# Build the neural network\n",
        "model = Sequential()\n",
        "model.add(Dense(units=100, activation='relu', input_shape=(19, ))) # Hidden 1\n",
        "model.add(Dense(100, activation='relu'))\n",
        "model.add(Dense(100, activation='relu'))\n",
        "model.add(Dense(100, activation='relu'))\n",
        "model.add(Dense(100, activation='relu'))\n",
        "model.add(Dense(100, activation='relu'))\n",
        "model.add(Dense(100, activation='relu'))\n",
        "model.add(Dense(1)) # Output\n",
        "model.compile(loss='mean_squared_error', optimizer='adam')\n",
        "monitor = EarlyStopping(monitor='val_loss', min_delta=1e-3, \n",
        "                        patience=5, verbose=1, mode='auto', restore_best_weights=True)\n",
        "model.fit(X_train,y_train,validation_data=(X_test,y_test),callbacks=[monitor],verbose=2,epochs=1000)"
      ],
      "execution_count": 21,
      "outputs": [
        {
          "output_type": "stream",
          "text": [
            "Epoch 1/1000\n",
            "431/431 - 1s - loss: 45774864384.0000 - val_loss: 11134758912.0000\n",
            "Epoch 2/1000\n",
            "431/431 - 1s - loss: 9804494848.0000 - val_loss: 9150687232.0000\n",
            "Epoch 3/1000\n",
            "431/431 - 1s - loss: 9123666944.0000 - val_loss: 8816347136.0000\n",
            "Epoch 4/1000\n",
            "431/431 - 1s - loss: 8827695104.0000 - val_loss: 8904527872.0000\n",
            "Epoch 5/1000\n",
            "431/431 - 1s - loss: 8571733504.0000 - val_loss: 8344147968.0000\n",
            "Epoch 6/1000\n",
            "431/431 - 1s - loss: 8378926080.0000 - val_loss: 7977110016.0000\n",
            "Epoch 7/1000\n",
            "431/431 - 1s - loss: 7878423040.0000 - val_loss: 7666544128.0000\n",
            "Epoch 8/1000\n",
            "431/431 - 1s - loss: 7573588992.0000 - val_loss: 7441919488.0000\n",
            "Epoch 9/1000\n",
            "431/431 - 1s - loss: 7220720128.0000 - val_loss: 6985637376.0000\n",
            "Epoch 10/1000\n",
            "431/431 - 1s - loss: 7063335424.0000 - val_loss: 7538326016.0000\n",
            "Epoch 11/1000\n",
            "431/431 - 1s - loss: 6657574400.0000 - val_loss: 6506193920.0000\n",
            "Epoch 12/1000\n",
            "431/431 - 1s - loss: 6486465536.0000 - val_loss: 6314012672.0000\n",
            "Epoch 13/1000\n",
            "431/431 - 1s - loss: 6178854400.0000 - val_loss: 6026304000.0000\n",
            "Epoch 14/1000\n",
            "431/431 - 1s - loss: 6069060608.0000 - val_loss: 5847812608.0000\n",
            "Epoch 15/1000\n",
            "431/431 - 1s - loss: 5764219392.0000 - val_loss: 5805870592.0000\n",
            "Epoch 16/1000\n",
            "431/431 - 1s - loss: 5575658496.0000 - val_loss: 5949217280.0000\n",
            "Epoch 17/1000\n",
            "431/431 - 1s - loss: 5478176256.0000 - val_loss: 5452076032.0000\n",
            "Epoch 18/1000\n",
            "431/431 - 1s - loss: 5367023616.0000 - val_loss: 5255052800.0000\n",
            "Epoch 19/1000\n",
            "431/431 - 1s - loss: 5277401600.0000 - val_loss: 5235001344.0000\n",
            "Epoch 20/1000\n",
            "431/431 - 1s - loss: 5172970496.0000 - val_loss: 5289772032.0000\n",
            "Epoch 21/1000\n",
            "431/431 - 1s - loss: 5119177728.0000 - val_loss: 5092225024.0000\n",
            "Epoch 22/1000\n",
            "431/431 - 1s - loss: 5044549120.0000 - val_loss: 5166915072.0000\n",
            "Epoch 23/1000\n",
            "431/431 - 1s - loss: 5004301312.0000 - val_loss: 5043209728.0000\n",
            "Epoch 24/1000\n",
            "431/431 - 1s - loss: 5008397824.0000 - val_loss: 4963193856.0000\n",
            "Epoch 25/1000\n",
            "431/431 - 1s - loss: 5011208704.0000 - val_loss: 5030297600.0000\n",
            "Epoch 26/1000\n",
            "431/431 - 1s - loss: 4970592768.0000 - val_loss: 4913742336.0000\n",
            "Epoch 27/1000\n",
            "431/431 - 1s - loss: 4864771584.0000 - val_loss: 5357916160.0000\n",
            "Epoch 28/1000\n",
            "431/431 - 1s - loss: 4855339520.0000 - val_loss: 4993106432.0000\n",
            "Epoch 29/1000\n",
            "431/431 - 1s - loss: 4801622528.0000 - val_loss: 5058782208.0000\n",
            "Epoch 30/1000\n",
            "431/431 - 1s - loss: 4735957504.0000 - val_loss: 5724994048.0000\n",
            "Epoch 31/1000\n",
            "Restoring model weights from the end of the best epoch.\n",
            "431/431 - 1s - loss: 4714297856.0000 - val_loss: 5238972928.0000\n",
            "Epoch 00031: early stopping\n"
          ],
          "name": "stdout"
        },
        {
          "output_type": "execute_result",
          "data": {
            "text/plain": [
              "<tensorflow.python.keras.callbacks.History at 0x7f6e9f73c080>"
            ]
          },
          "metadata": {
            "tags": []
          },
          "execution_count": 21
        }
      ]
    },
    {
      "cell_type": "code",
      "metadata": {
        "id": "RoTfDTObPgzB",
        "colab_type": "code",
        "outputId": "187cf74d-4c8b-45b4-8660-aa9f7363f37a",
        "colab": {
          "base_uri": "https://localhost:8080/",
          "height": 312
        }
      },
      "source": [
        "plt.figure(figsize=(12,8))\n",
        "losses = pd.DataFrame(model.history.history)\n",
        "losses.plot()"
      ],
      "execution_count": 22,
      "outputs": [
        {
          "output_type": "execute_result",
          "data": {
            "text/plain": [
              "<matplotlib.axes._subplots.AxesSubplot at 0x7f6e9af369b0>"
            ]
          },
          "metadata": {
            "tags": []
          },
          "execution_count": 22
        },
        {
          "output_type": "display_data",
          "data": {
            "text/plain": [
              "<Figure size 864x576 with 0 Axes>"
            ]
          },
          "metadata": {
            "tags": []
          }
        },
        {
          "output_type": "display_data",
          "data": {
            "image/png": "[encoded data removed]",
            "text/plain": [
              "<Figure size 432x288 with 1 Axes>"
            ]
          },
          "metadata": {
            "tags": []
          }
        }
      ]
    },
    {
      "cell_type": "markdown",
      "metadata": {
        "id": "8yhipCjnT77s",
        "colab_type": "text"
      },
      "source": [
        "# Évaluation sur les données de test"
      ]
    },
    {
      "cell_type": "code",
      "metadata": {
        "id": "BHevLi3M5JI8",
        "colab_type": "code",
        "outputId": "4f93152a-3b3e-4336-a1e0-4f07f62941ae",
        "colab": {
          "base_uri": "https://localhost:8080/",
          "height": 90
        }
      },
      "source": [
        "from sklearn.metrics import mean_squared_error,mean_absolute_error,explained_variance_score\n",
        "\n",
        "predictions = model.predict(X_test)\n",
        "\n",
        "MSE = mean_squared_error(y_test,predictions)\n",
        "RMSE = np.sqrt(mean_squared_error(y_test,predictions))\n",
        "MAE = mean_absolute_error(y_test,predictions)\n",
        "EVS = explained_variance_score(y_test,predictions)\n",
        "print(\"MSE : {}\".format(MSE))\n",
        "print(\"RMSE : {}\".format(RMSE))\n",
        "print(\"MAE : {}\".format(MAE))\n",
        "print(\"EVS : {}\".format(EVS))"
      ],
      "execution_count": 23,
      "outputs": [
        {
          "output_type": "stream",
          "text": [
            "MSE : 4903224152.139992\n",
            "RMSE : 70023.0258710661\n",
            "MAE : 51198.99874387255\n",
            "EVS : 0.7983372437884063\n"
          ],
          "name": "stdout"
        }
      ]
    },
    {
      "cell_type": "code",
      "metadata": {
        "id": "ACQNCDc4Erdj",
        "colab_type": "code",
        "colab": {}
      },
      "source": [
        "def chart_regression(pred, y, sort=True):\n",
        "    plt.figure(figsize=(12,8))\n",
        "    t = pd.DataFrame({'pred': pred, 'y': y.flatten()})\n",
        "    if sort:\n",
        "        t.sort_values(by=['y'], inplace=True) \n",
        "    plt.plot(t['pred'].tolist(), label='prediction')\n",
        "    plt.plot(t['y'].tolist(), label='expected')\n",
        "    plt.ylabel('output')\n",
        "    plt.legend()\n",
        "    plt.show()"
      ],
      "execution_count": 0,
      "outputs": []
    },
    {
      "cell_type": "code",
      "metadata": {
        "id": "f272b5c4EsNX",
        "colab_type": "code",
        "outputId": "e48aaae4-61d2-4c1c-fca1-4cdd2248d033",
        "colab": {
          "base_uri": "https://localhost:8080/",
          "height": 483
        }
      },
      "source": [
        "chart_regression(predictions.flatten(),y_test)"
      ],
      "execution_count": 25,
      "outputs": [
        {
          "output_type": "display_data",
          "data": {
            "image/png": "[encoded data removed]",
            "text/plain": [
              "<Figure size 864x576 with 1 Axes>"
            ]
          },
          "metadata": {
            "tags": []
          }
        }
      ]
    },
    {
      "cell_type": "code",
      "metadata": {
        "id": "A2rzNBArGM_7",
        "colab_type": "code",
        "outputId": "de24df42-8f4c-4bde-f6ac-ef88b57135b0",
        "colab": {
          "base_uri": "https://localhost:8080/",
          "height": 501
        }
      },
      "source": [
        "plt.figure(figsize=(12,8))\n",
        "# Our predictions\n",
        "plt.scatter(y_test,predictions)\n",
        "\n",
        "# Perfect predictions\n",
        "plt.plot(y_test,y_test,'r')"
      ],
      "execution_count": 26,
      "outputs": [
        {
          "output_type": "execute_result",
          "data": {
            "text/plain": [
              "[<matplotlib.lines.Line2D at 0x7f6e9aef3f98>]"
            ]
          },
          "metadata": {
            "tags": []
          },
          "execution_count": 26
        },
        {
          "output_type": "display_data",
          "data": {
            "image/png": "[encoded data removed]",
            "text/plain": [
              "<Figure size 864x576 with 1 Axes>"
            ]
          },
          "metadata": {
            "tags": []
          }
        }
      ]
    },
    {
      "cell_type": "code",
      "metadata": {
        "id": "wGp94F56eAjN",
        "colab_type": "code",
        "colab": {
          "base_uri": "https://localhost:8080/",
          "height": 35
        },
        "outputId": "0ec5245c-c39a-40b4-dce3-62647089c15f"
      },
      "source": [
        "df.shape"
      ],
      "execution_count": 27,
      "outputs": [
        {
          "output_type": "execute_result",
          "data": {
            "text/plain": [
              "(18357, 20)"
            ]
          },
          "metadata": {
            "tags": []
          },
          "execution_count": 27
        }
      ]
    },
    {
      "cell_type": "code",
      "metadata": {
        "id": "8OgQP1NyeFSR",
        "colab_type": "code",
        "colab": {
          "base_uri": "https://localhost:8080/",
          "height": 35
        },
        "outputId": "c6ff7d84-d7c9-47c0-b751-ff0227b674e0"
      },
      "source": [
        "df['price'].mean()"
      ],
      "execution_count": 28,
      "outputs": [
        {
          "output_type": "execute_result",
          "data": {
            "text/plain": [
              "428690.395870785"
            ]
          },
          "metadata": {
            "tags": []
          },
          "execution_count": 28
        }
      ]
    },
    {
      "cell_type": "code",
      "metadata": {
        "id": "gteOSlP_eKTN",
        "colab_type": "code",
        "colab": {
          "base_uri": "https://localhost:8080/",
          "height": 35
        },
        "outputId": "41739407-b363-4c55-9f5a-855df9947de3"
      },
      "source": [
        "df['price'].median()"
      ],
      "execution_count": 29,
      "outputs": [
        {
          "output_type": "execute_result",
          "data": {
            "text/plain": [
              "411000.0"
            ]
          },
          "metadata": {
            "tags": []
          },
          "execution_count": 29
        }
      ]
    },
    {
      "cell_type": "code",
      "metadata": {
        "id": "srswQntKeL0j",
        "colab_type": "code",
        "colab": {}
      },
      "source": [
        ""
      ],
      "execution_count": 0,
      "outputs": []
    }
  ]
}